{
 "cells": [
  {
   "cell_type": "code",
   "execution_count": 1,
   "metadata": {},
   "outputs": [],
   "source": [
    "import numpy as np\n",
    "import matplotlib.pyplot as plt\n",
    "import seaborn as sns\n",
    "from sklearn.datasets import make_circles,make_blobs,make_moons,make_biclusters\n",
    "from sklearn.metrics import accuracy_score,mean_squared_error,log_loss\n",
    "from sklearn.preprocessing import OneHotEncoder\n",
    "from IPython.display import HTML\n",
    "from tqdm import tqdm_notebook,tqdm_gui\n",
    "import imageio\n",
    "from sklearn.model_selection import train_test_split as tts\n",
    "import matplotlib.colors\n"
   ]
  },
  {
   "cell_type": "code",
   "execution_count": 2,
   "metadata": {},
   "outputs": [],
   "source": [
    " my_cmap = matplotlib.colors.LinearSegmentedColormap.from_list(\"\",[\"red\",\"yellow\",\"green\"])"
   ]
  },
  {
   "cell_type": "code",
   "execution_count": 3,
   "metadata": {},
   "outputs": [],
   "source": [
    "np.random.seed(0)"
   ]
  },
  {
   "cell_type": "code",
   "execution_count": 4,
   "metadata": {},
   "outputs": [],
   "source": [
    "data,labels=make_blobs(1000,3,6,shuffle=True,random_state=0)"
   ]
  },
  {
   "cell_type": "code",
   "execution_count": 5,
   "metadata": {},
   "outputs": [
    {
     "data": {
      "text/plain": [
       "(1000, 3)"
      ]
     },
     "execution_count": 5,
     "metadata": {},
     "output_type": "execute_result"
    }
   ],
   "source": [
    "data.shape"
   ]
  },
  {
   "cell_type": "code",
   "execution_count": 6,
   "metadata": {},
   "outputs": [
    {
     "data": {
      "text/plain": [
       "(1000,)"
      ]
     },
     "execution_count": 6,
     "metadata": {},
     "output_type": "execute_result"
    }
   ],
   "source": [
    "labels.shape"
   ]
  },
  {
   "cell_type": "code",
   "execution_count": 7,
   "metadata": {},
   "outputs": [],
   "source": [
    "enc=OneHotEncoder()"
   ]
  },
  {
   "cell_type": "code",
   "execution_count": 8,
   "metadata": {},
   "outputs": [
    {
     "data": {
      "text/plain": [
       "(750, 3)"
      ]
     },
     "execution_count": 8,
     "metadata": {},
     "output_type": "execute_result"
    }
   ],
   "source": [
    "x_train,x_val,y_train,y_val=tts(data,labels,stratify=labels,random_state=0)\n",
    "x_train.shape"
   ]
  },
  {
   "cell_type": "code",
   "execution_count": 9,
   "metadata": {},
   "outputs": [
    {
     "data": {
      "text/plain": [
       "(250, 3)"
      ]
     },
     "execution_count": 9,
     "metadata": {},
     "output_type": "execute_result"
    }
   ],
   "source": [
    "x_val.shape"
   ]
  },
  {
   "cell_type": "code",
   "execution_count": 10,
   "metadata": {},
   "outputs": [
    {
     "data": {
      "text/plain": [
       "(750,)"
      ]
     },
     "execution_count": 10,
     "metadata": {},
     "output_type": "execute_result"
    }
   ],
   "source": [
    "y_train.shape"
   ]
  },
  {
   "cell_type": "code",
   "execution_count": 11,
   "metadata": {},
   "outputs": [
    {
     "data": {
      "text/plain": [
       "(250,)"
      ]
     },
     "execution_count": 11,
     "metadata": {},
     "output_type": "execute_result"
    }
   ],
   "source": [
    "y_val.shape"
   ]
  },
  {
   "cell_type": "code",
   "execution_count": 12,
   "metadata": {},
   "outputs": [
    {
     "name": "stderr",
     "output_type": "stream",
     "text": [
      "C:\\ProgramData\\Anaconda3\\lib\\site-packages\\sklearn\\preprocessing\\_encoders.py:368: FutureWarning: The handling of integer data will change in version 0.22. Currently, the categories are determined based on the range [0, max(values)], while in the future they will be determined based on the unique values.\n",
      "If you want the future behaviour and silence this warning, you can specify \"categories='auto'\".\n",
      "In case you used a LabelEncoder before this OneHotEncoder to convert the categories to integers, then you can now use the OneHotEncoder directly.\n",
      "  warnings.warn(msg, FutureWarning)\n"
     ]
    },
    {
     "data": {
      "text/plain": [
       "(750, 6)"
      ]
     },
     "execution_count": 12,
     "metadata": {},
     "output_type": "execute_result"
    }
   ],
   "source": [
    "#Converting y_train and y_val in one hot encoded vectors\n",
    "y_train_oh=enc.fit_transform(np.expand_dims(y_train,1)).toarray()\n",
    "y_train_oh.shape"
   ]
  },
  {
   "cell_type": "code",
   "execution_count": 13,
   "metadata": {},
   "outputs": [
    {
     "data": {
      "text/plain": [
       "array([[0., 0., 0., 1., 0., 0.],\n",
       "       [0., 0., 1., 0., 0., 0.],\n",
       "       [0., 0., 0., 0., 1., 0.],\n",
       "       ...,\n",
       "       [1., 0., 0., 0., 0., 0.],\n",
       "       [0., 1., 0., 0., 0., 0.],\n",
       "       [0., 0., 1., 0., 0., 0.]])"
      ]
     },
     "execution_count": 13,
     "metadata": {},
     "output_type": "execute_result"
    }
   ],
   "source": [
    "y_train_oh"
   ]
  },
  {
   "cell_type": "code",
   "execution_count": 14,
   "metadata": {},
   "outputs": [
    {
     "name": "stderr",
     "output_type": "stream",
     "text": [
      "C:\\ProgramData\\Anaconda3\\lib\\site-packages\\sklearn\\preprocessing\\_encoders.py:368: FutureWarning: The handling of integer data will change in version 0.22. Currently, the categories are determined based on the range [0, max(values)], while in the future they will be determined based on the unique values.\n",
      "If you want the future behaviour and silence this warning, you can specify \"categories='auto'\".\n",
      "In case you used a LabelEncoder before this OneHotEncoder to convert the categories to integers, then you can now use the OneHotEncoder directly.\n",
      "  warnings.warn(msg, FutureWarning)\n"
     ]
    },
    {
     "data": {
      "text/plain": [
       "(250, 6)"
      ]
     },
     "execution_count": 14,
     "metadata": {},
     "output_type": "execute_result"
    }
   ],
   "source": [
    "y_val_oh=enc.fit_transform(np.expand_dims(y_val,1)).toarray()\n",
    "y_val_oh.shape"
   ]
  },
  {
   "cell_type": "code",
   "execution_count": 15,
   "metadata": {},
   "outputs": [
    {
     "data": {
      "image/png": "[encoded data removed]",
      "text/plain": [
       "<Figure size 432x288 with 1 Axes>"
      ]
     },
     "metadata": {
      "needs_background": "light"
     },
     "output_type": "display_data"
    }
   ],
   "source": [
    "#Plottinng our data with two features ot of three features\n",
    "plt.scatter(data[:,1],data[:,2],c=labels,cmap=my_cmap)\n",
    "plt.show()"
   ]
  },
  {
   "cell_type": "code",
   "execution_count": 16,
   "metadata": {},
   "outputs": [],
   "source": [
    "class ffn_multi:\n",
    "    \n",
    "    def __init__(self):\n",
    "        self.w1=np.random.randn()\n",
    "        self.w2=np.random.randn()\n",
    "        self.w3=np.random.randn()\n",
    "        self.w4=np.random.randn()\n",
    "        self.w5=np.random.randn()\n",
    "        self.w6=np.random.randn()\n",
    "        self.w7=np.random.randn()\n",
    "        self.w8=np.random.randn()\n",
    "        self.w9=np.random.randn()\n",
    "        self.w10=np.random.randn()\n",
    "        self.w11=np.random.randn()\n",
    "        self.w12=np.random.randn()\n",
    "        self.w13=np.random.randn()\n",
    "        self.w14=np.random.randn()\n",
    "        self.b1=0\n",
    "        self.b2=0\n",
    "        self.b3=0\n",
    "        self.b4=0\n",
    "        self.b5=0\n",
    "        self.b6=0\n",
    "        self.b7=0\n",
    "        self.b8=0\n",
    "        self.b9=0\n",
    "        \n",
    "    def sigmoid(self,x):\n",
    "        return 1.0/(1.0 + np.exp(-x))\n",
    "        \n",
    "    def forward_pass(self,x):\n",
    "        self.x1,self.x2,self.x3=x\n",
    "            \n",
    "        #First layer\n",
    "        self.a1=self.w1 * self.x1 + self.w3 * self.x2 + self.w5 * self.x3 + self.b1\n",
    "        self.a2=self.w2 * self.x1 + self.w4 * self.x2 + self.w6 * self.x3 + self.b2\n",
    "        self.h1=self.sigmoid(self.a1)\n",
    "        self.h2=self.sigmoid(self.a2)\n",
    "            \n",
    "        #Hidden Layers\n",
    "        self.a3=self.w7 * self.h1 + self.w8 * self.h2 + self.b3\n",
    "        self.h3=self.sigmoid(self.a3)\n",
    "            \n",
    "        self.a4=self.w9 * self.h3 + self.b4\n",
    "        self.a5=self.w10 * self.h3 + self.b5\n",
    "        self.a6=self.w11 * self.h3 + self.b6\n",
    "        self.a7=self.w12 * self.h3 + self.b7\n",
    "        self.a8=self.w13 * self.h3 + self.b8\n",
    "        self.a9=self.w14 * self.h3 + self.b9\n",
    "        exps = (np.exp(self.a4) + np.exp(self.a5) + np.exp(self.a6) + np.exp(self.a7)\n",
    "                    + np.exp(self.a8) + np.exp(self.a9))\n",
    "        self.h4 = np.exp(self.a4)/exps\n",
    "        self.h5 = np.exp(self.a5)/exps\n",
    "        self.h6 = np.exp(self.a6)/exps\n",
    "        self.h7 = np.exp(self.a7)/exps\n",
    "        self.h8 = np.exp(self.a8)/exps\n",
    "        self.h9 = np.exp(self.a9)/exps\n",
    "            \n",
    "        return np.array([self.h4,self.h5,self.h6,self.h7,self.h8,self.h9])\n",
    "        \n",
    "    def grad(self,x,y):\n",
    "        self.forward_pass(x)\n",
    "        self.y1,self.y2,self.y3,self.y4,self.y5,self.y6=y\n",
    "            \n",
    "        self.dw9 = (self.h4 - self.y1) * self.h3\n",
    "        self.db4 = (self.h4 - self.y1)\n",
    "            \n",
    "        self.dw10 = (self.h5 - self.y2) * self.h3\n",
    "        self.db5 = (self.h5 - self.y2)\n",
    "            \n",
    "        self.dw11 = (self.h6 - self.y3) * self.h3\n",
    "        self.db6 = (self.h6 - self.y3)\n",
    "            \n",
    "        self.dw12 = (self.h7 - self.y4) * self.h3\n",
    "        self.db7= (self.h7 - self.y4)\n",
    "            \n",
    "        self.dw13 = (self.h8 - self.y5) * self.h3\n",
    "        self.db8 = (self.h8 - self.y5)\n",
    "            \n",
    "        self.dw14 = (self.h9 - self.y6) * self.h3\n",
    "        self.db9 = (self.h9 - self.y6)\n",
    "            \n",
    "        self.dh3= ((self.h4 - self.y1) * self.w9 + (self.h5 - self.y2) * self.w10 +\n",
    "                      (self.h6 - self.y3) * self.w11 + (self.h7 - self.y4) * self.w12 +\n",
    "                      (self.h8 - self.y5) * self.w13 + (self.h9 - self.y6) * self.w14)\n",
    "            \n",
    "        self.dw7= self.dh3 * self.h3*(1-self.h3) * self.h1\n",
    "        self.dw8= self.dh3 * self.h3*(1-self.h3) * self.h2\n",
    "        self.db3= self.dh3 * self.h3*(1-self.h3)\n",
    "            \n",
    "        self.dh1 = self.dh3 * self.h3*(1-self.h3) * self.w7\n",
    "        self.dh2 = self.dh3 * self.h3*(1-self.h3) * self.w8\n",
    "            \n",
    "        self.dw1 = self.dh1 * self.h1*(1-self.h1) * self.x1\n",
    "        self.dw2 = self.dh2 * self.h2*(1-self.h2) * self.x1\n",
    "        self.dw3 = self.dh1 * self.h1*(1-self.h1) * self.x2\n",
    "        self.dw4 = self.dh2 * self.h2*(1-self.h2) * self.x2\n",
    "        self.dw5 = self.dh1 * self.h1*(1-self.h1) * self.x3\n",
    "        self.dw6 = self.dh2 * self.h2*(1-self.h2) * self.x3\n",
    "        self.db1 = self.dh1 * self.h1*(1-self.h1)\n",
    "        self.db2 = self.dh2 * self.h2*(1-self.h2)\n",
    "            \n",
    "    def predict(self,X):\n",
    "        Y_pred = []\n",
    "        for x in X:\n",
    "            y_pred=self.forward_pass(x)\n",
    "            Y_pred.append(y_pred)\n",
    "        return np.array(Y_pred)\n",
    "        \n",
    "    def fit(self,X,Y,epoch=100,lr=1,init=False,display_loss=True):\n",
    "            \n",
    "        if init:\n",
    "            self.w1=np.random.randn()\n",
    "            self.w2=np.random.randn()\n",
    "            self.w3=np.random.randn()\n",
    "            self.w4=np.random.randn()\n",
    "            self.w5=np.random.randn()\n",
    "            self.w6=np.random.randn()\n",
    "            self.w7=np.random.randn()\n",
    "            self.w8=np.random.randn()\n",
    "            self.w9=np.random.randn()\n",
    "            self.w10=np.random.randn()\n",
    "            self.w11=np.random.randn()\n",
    "            self.w12=np.random.randn()\n",
    "            self.w13=np.random.randn()\n",
    "            self.w14=np.random.randn()\n",
    "            self.b1=0\n",
    "            self.b2=0\n",
    "            self.b3=0\n",
    "            self.b4=0\n",
    "            self.b5=0\n",
    "            self.b6=0\n",
    "            self.b7=0\n",
    "            self.b8=0\n",
    "            self.b9=0\n",
    "                \n",
    "        if display_loss:\n",
    "            loss={}\n",
    "                \n",
    "        for i in tqdm_notebook(range(epoch),unit=\"epoch\"):\n",
    "            dw1,dw2,dw3,dw4,dw5,dw6,dw7,dw8,dw9,dw10,dw11,dw12,dw13,dw14=[0]*14\n",
    "            db1,db2,db3,db4,db5,db6,db7,db8,db9=[0]*9\n",
    "            for x,y in zip(X,Y):\n",
    "                self.grad(x,y)\n",
    "                dw1 += self.dw1\n",
    "                dw2 += self.dw2\n",
    "                dw3 += self.dw3\n",
    "                dw4 += self.dw4\n",
    "                dw5 += self.dw5\n",
    "                dw6 += self.dw6\n",
    "                dw7 += self.dw7\n",
    "                dw8 += self.dw8\n",
    "                dw9 += self.dw9\n",
    "                dw10 += self.dw10\n",
    "                dw11 += self.dw11\n",
    "                dw12 += self.dw12\n",
    "                dw13 += self.dw13\n",
    "                dw14 += self.dw14\n",
    "                db1 += self.db1\n",
    "                db2 += self.db2\n",
    "                db3 += self.db3\n",
    "                db4 += self.db4\n",
    "                db5 += self.db5\n",
    "                db6 += self.db6\n",
    "                db7 += self.db7\n",
    "                db8 += self.db8\n",
    "                db9 += self.db9\n",
    "                \n",
    "            m=X.shape[0]\n",
    "            self.w1 -= lr * dw1/m\n",
    "            self.w2 -= lr * dw2/m\n",
    "            self.w3 -= lr * dw3/m\n",
    "            self.w4 -= lr * dw4/m\n",
    "            self.w5 -= lr * dw5/m\n",
    "            self.w6 -= lr * dw6/m\n",
    "            self.w7 -= lr * dw7/m\n",
    "            self.w8 -= lr * dw8/m\n",
    "            self.w9 -= lr * dw9/m\n",
    "            self.w10 -= lr * dw10/m\n",
    "            self.w11 -= lr * dw11/m\n",
    "            self.w12 -= lr * dw12/m\n",
    "            self.w13 -= lr * dw13/m\n",
    "            self.w14 -= lr * dw14/m\n",
    "            self.b1-= lr * db1/m\n",
    "            self.b2-= lr * db2/m\n",
    "            self.b3-= lr * db3/m\n",
    "            self.b4-= lr * db4/m\n",
    "            self.b5-= lr * db5/m\n",
    "            self.b6-= lr * db6/m\n",
    "            self.b7-= lr * db7/m\n",
    "            self.b8-= lr * db8/m\n",
    "            self.b9-= lr * db9/m\n",
    "                \n",
    "            if display_loss:\n",
    "                y_pred = self.predict(X)\n",
    "                loss[i] = log_loss(np.argmax(Y,1),y_pred)\n",
    "                \n",
    "        if display_loss:\n",
    "            plt.plot(loss.values())\n",
    "            plt.xlabel(\"Epoch\")\n",
    "            plt.ylabel(\"log_loss\")\n",
    "            plt.show()\n",
    "            "
   ]
  },
  {
   "cell_type": "code",
   "execution_count": 17,
   "metadata": {},
   "outputs": [],
   "source": [
    "ffn = ffn_multi()"
   ]
  },
  {
   "cell_type": "code",
   "execution_count": 18,
   "metadata": {},
   "outputs": [
    {
     "data": {
      "application/vnd.jupyter.widget-view+json": {
       "model_id": "c05babcbd83c44218934d6ffb6a9b25f",
       "version_major": 2,
       "version_minor": 0
      },
      "text/plain": [
       "HBox(children=(IntProgress(value=0, max=200), HTML(value='')))"
      ]
     },
     "metadata": {},
     "output_type": "display_data"
    },
    {
     "name": "stdout",
     "output_type": "stream",
     "text": [
      "\n"
     ]
    },
    {
     "data": {
      "image/png": "[encoded data removed]",
      "text/plain": [
       "<Figure size 432x288 with 1 Axes>"
      ]
     },
     "metadata": {
      "needs_background": "light"
     },
     "output_type": "display_data"
    }
   ],
   "source": [
    "ffn.fit(x_train,y_train_oh,200)"
   ]
  },
  {
   "cell_type": "code",
   "execution_count": 19,
   "metadata": {},
   "outputs": [],
   "source": [
    "y_pred = ffn.predict(x_train)"
   ]
  },
  {
   "cell_type": "code",
   "execution_count": 20,
   "metadata": {},
   "outputs": [
    {
     "data": {
      "text/plain": [
       "array([[0.24408974, 0.22412359, 0.24419663, 0.24271498, 0.03143946,\n",
       "        0.0134356 ],\n",
       "       [0.24867739, 0.2179015 , 0.24947076, 0.24966138, 0.02439346,\n",
       "        0.00989551],\n",
       "       [0.02985101, 0.06131215, 0.0284847 , 0.02516319, 0.41771433,\n",
       "        0.43747462],\n",
       "       ...,\n",
       "       [0.24867874, 0.21789942, 0.24947233, 0.2496635 , 0.02439147,\n",
       "        0.00989453],\n",
       "       [0.23862592, 0.22966709, 0.23807126, 0.23500126, 0.04042802,\n",
       "        0.01820645],\n",
       "       [0.24867641, 0.21790301, 0.24946962, 0.24965984, 0.02439491,\n",
       "        0.00989621]])"
      ]
     },
     "execution_count": 20,
     "metadata": {},
     "output_type": "execute_result"
    }
   ],
   "source": [
    "y_pred"
   ]
  },
  {
   "cell_type": "code",
   "execution_count": 21,
   "metadata": {},
   "outputs": [
    {
     "data": {
      "text/plain": [
       "array([2, 3, 5, 5, 3, 3, 3, 0, 3, 5, 3, 0, 5, 1, 3, 2, 5, 5, 3, 3, 3, 3,\n",
       "       3, 5, 3, 3, 3, 3, 5, 1, 5, 0, 3, 2, 0, 0, 4, 5, 3, 5, 5, 5, 5, 3,\n",
       "       5, 4, 3, 3, 5, 2, 2, 3, 1, 5, 3, 3, 5, 5, 5, 1, 3, 3, 5, 3, 3, 1,\n",
       "       0, 0, 3, 3, 3, 2, 3, 3, 5, 5, 3, 5, 3, 3, 3, 5, 3, 1, 5, 3, 1, 3,\n",
       "       3, 3, 1, 5, 5, 3, 3, 5, 5, 3, 3, 0, 3, 0, 5, 3, 3, 3, 2, 5, 5, 5,\n",
       "       4, 0, 3, 0, 3, 3, 3, 3, 3, 5, 5, 3, 5, 3, 5, 3, 3, 5, 0, 0, 3, 5,\n",
       "       3, 5, 5, 5, 5, 5, 3, 3, 0, 5, 5, 3, 0, 0, 5, 5, 3, 2, 5, 0, 0, 3,\n",
       "       0, 3, 5, 3, 1, 3, 5, 3, 3, 5, 5, 3, 3, 3, 2, 0, 0, 3, 5, 5, 5, 0,\n",
       "       3, 3, 0, 5, 5, 0, 1, 3, 0, 5, 5, 3, 3, 5, 0, 0, 3, 3, 3, 0, 5, 3,\n",
       "       1, 3, 3, 0, 0, 3, 3, 5, 5, 5, 3, 5, 5, 5, 3, 5, 1, 1, 3, 5, 3, 5,\n",
       "       3, 3, 3, 3, 3, 5, 3, 5, 3, 3, 0, 5, 5, 0, 2, 3, 5, 0, 5, 3, 3, 5,\n",
       "       5, 5, 3, 5, 5, 5, 3, 0, 3, 1, 5, 3, 2, 5, 3, 3, 3, 3, 3, 0, 5, 5,\n",
       "       5, 3, 0, 5, 0, 5, 5, 3, 0, 5, 2, 5, 3, 0, 2, 3, 3, 0, 5, 3, 5, 0,\n",
       "       3, 0, 5, 0, 5, 3, 5, 5, 5, 3, 3, 3, 3, 3, 5, 3, 5, 2, 3, 2, 3, 0,\n",
       "       5, 5, 3, 3, 0, 3, 3, 5, 5, 0, 3, 4, 3, 5, 5, 0, 3, 3, 0, 5, 4, 3,\n",
       "       5, 5, 5, 3, 5, 3, 3, 0, 3, 3, 3, 0, 5, 3, 5, 3, 3, 3, 5, 5, 5, 3,\n",
       "       3, 0, 0, 3, 5, 3, 3, 5, 3, 4, 5, 3, 5, 3, 5, 3, 5, 5, 3, 3, 3, 5,\n",
       "       0, 0, 3, 0, 4, 5, 0, 3, 3, 0, 3, 5, 0, 3, 3, 5, 0, 3, 3, 3, 0, 3,\n",
       "       2, 3, 3, 3, 5, 3, 2, 3, 3, 3, 3, 0, 3, 5, 3, 5, 5, 3, 5, 3, 0, 3,\n",
       "       0, 5, 3, 0, 5, 5, 5, 3, 0, 3, 2, 3, 3, 3, 5, 5, 5, 3, 3, 3, 5, 5,\n",
       "       3, 3, 3, 5, 3, 0, 5, 3, 3, 0, 3, 5, 3, 3, 5, 5, 3, 3, 1, 0, 3, 2,\n",
       "       5, 0, 5, 5, 3, 3, 3, 3, 3, 5, 3, 5, 3, 3, 3, 3, 0, 3, 5, 5, 5, 3,\n",
       "       3, 1, 0, 3, 0, 3, 5, 3, 3, 0, 0, 5, 3, 3, 5, 3, 3, 3, 5, 0, 5, 3,\n",
       "       3, 3, 0, 3, 0, 2, 0, 3, 3, 3, 3, 3, 3, 3, 5, 3, 5, 5, 5, 3, 0, 4,\n",
       "       5, 3, 3, 3, 5, 5, 2, 3, 5, 5, 5, 0, 5, 3, 0, 5, 3, 5, 3, 3, 5, 5,\n",
       "       3, 3, 5, 0, 3, 3, 3, 5, 3, 5, 5, 3, 3, 3, 3, 3, 0, 4, 3, 3, 3, 0,\n",
       "       3, 3, 3, 5, 0, 3, 3, 3, 3, 3, 3, 0, 3, 3, 3, 3, 3, 5, 1, 3, 3, 1,\n",
       "       5, 3, 5, 5, 5, 5, 5, 5, 0, 3, 5, 3, 5, 3, 0, 5, 5, 3, 0, 3, 3, 0,\n",
       "       3, 3, 3, 0, 5, 3, 1, 0, 3, 3, 3, 5, 5, 5, 3, 5, 5, 3, 3, 5, 3, 3,\n",
       "       0, 3, 3, 0, 3, 3, 0, 5, 0, 3, 0, 5, 5, 0, 2, 5, 5, 0, 5, 3, 2, 3,\n",
       "       0, 0, 5, 5, 3, 2, 5, 5, 5, 5, 5, 5, 3, 5, 5, 3, 2, 0, 3, 5, 5, 5,\n",
       "       0, 3, 5, 5, 0, 5, 5, 5, 3, 3, 0, 3, 3, 5, 3, 3, 5, 5, 3, 5, 3, 5,\n",
       "       5, 5, 3, 3, 0, 0, 3, 5, 5, 3, 3, 5, 3, 0, 3, 3, 5, 0, 5, 3, 3, 3,\n",
       "       0, 3, 3, 5, 3, 3, 5, 5, 3, 5, 3, 5, 3, 3, 3, 3, 5, 0, 3, 2, 5, 3,\n",
       "       0, 3], dtype=int64)"
      ]
     },
     "execution_count": 21,
     "metadata": {},
     "output_type": "execute_result"
    }
   ],
   "source": [
    "y_pred=np.argmax(y_pred,1)\n",
    "y_pred"
   ]
  },
  {
   "cell_type": "code",
   "execution_count": 22,
   "metadata": {},
   "outputs": [
    {
     "data": {
      "text/plain": [
       "(750,)"
      ]
     },
     "execution_count": 22,
     "metadata": {},
     "output_type": "execute_result"
    }
   ],
   "source": [
    "# accuracy=accuracy_score(y_pred,y_train)\n",
    "y_pred.shape"
   ]
  },
  {
   "cell_type": "code",
   "execution_count": 23,
   "metadata": {},
   "outputs": [],
   "source": [
    "accuracy=accuracy_score(y_pred,y_train)\n"
   ]
  },
  {
   "cell_type": "code",
   "execution_count": 24,
   "metadata": {},
   "outputs": [
    {
     "data": {
      "text/plain": [
       "0.32"
      ]
     },
     "execution_count": 24,
     "metadata": {},
     "output_type": "execute_result"
    }
   ],
   "source": [
    "accuracy"
   ]
  },
  {
   "cell_type": "code",
   "execution_count": 32,
   "metadata": {},
   "outputs": [
    {
     "data": {
      "application/vnd.jupyter.widget-view+json": {
       "model_id": "5ebd5e8544a845fb9ef855cba9e52602",
       "version_major": 2,
       "version_minor": 0
      },
      "text/plain": [
       "HBox(children=(IntProgress(value=0, max=3000), HTML(value='')))"
      ]
     },
     "metadata": {},
     "output_type": "display_data"
    },
    {
     "name": "stdout",
     "output_type": "stream",
     "text": [
      "\n"
     ]
    },
    {
     "data": {
      "image/png": "[encoded data removed]",
      "text/plain": [
       "<Figure size 432x288 with 1 Axes>"
      ]
     },
     "metadata": {
      "needs_background": "light"
     },
     "output_type": "display_data"
    }
   ],
   "source": [
    "ffn.fit(x_train,y_train_oh,3000,0.1)"
   ]
  },
  {
   "cell_type": "code",
   "execution_count": 33,
   "metadata": {},
   "outputs": [
    {
     "data": {
      "text/plain": [
       "0.664"
      ]
     },
     "execution_count": 33,
     "metadata": {},
     "output_type": "execute_result"
    }
   ],
   "source": [
    "y_pred = ffn.predict(x_train)\n",
    "y_pred=np.argmax(y_pred,1)\n",
    "accuracy=accuracy_score(y_pred,y_train)\n",
    "accuracy"
   ]
  },
  {
   "cell_type": "code",
   "execution_count": 34,
   "metadata": {},
   "outputs": [
    {
     "data": {
      "text/plain": [
       "0.648"
      ]
     },
     "execution_count": 34,
     "metadata": {},
     "output_type": "execute_result"
    }
   ],
   "source": [
    "y_pred_val = ffn.predict(x_val)\n",
    "y_pred_val = np.argmax(y_pred_val,1)\n",
    "acc_val = accuracy_score(y_pred_val,y_val)\n",
    "acc_val"
   ]
  },
  {
   "cell_type": "code",
   "execution_count": 35,
   "metadata": {},
   "outputs": [
    {
     "name": "stdout",
     "output_type": "stream",
     "text": [
      "Train accuracy:  0.664\n",
      "Val accuracy:  0.648\n"
     ]
    }
   ],
   "source": [
    "print(\"Train accuracy: \" , accuracy)\n",
    "print(\"Val accuracy: \" , acc_val)"
   ]
  },
  {
   "cell_type": "code",
   "execution_count": 36,
   "metadata": {},
   "outputs": [
    {
     "data": {
      "image/png": "[encoded data removed]",
      "text/plain": [
       "<Figure size 432x288 with 1 Axes>"
      ]
     },
     "metadata": {
      "needs_background": "light"
     },
     "output_type": "display_data"
    }
   ],
   "source": [
    "plt.scatter(x_train[:,0],x_train[:,1],c=y_pred,cmap=my_cmap,s=15*(np.abs(y_pred-y_train)) + .1)\n",
    "plt.show()"
   ]
  },
  {
   "cell_type": "code",
   "execution_count": null,
   "metadata": {},
   "outputs": [],
   "source": []
  }
 ],
 "metadata": {
  "kernelspec": {
   "display_name": "Python 3",
   "language": "python",
   "name": "python3"
  },
  "language_info": {
   "codemirror_mode": {
    "name": "ipython",
    "version": 3
   },
   "file_extension": ".py",
   "mimetype": "text/x-python",
   "name": "python",
   "nbconvert_exporter": "python",
   "pygments_lexer": "ipython3",
   "version": "3.7.1"
  }
 },
 "nbformat": 4,
 "nbformat_minor": 2
}
