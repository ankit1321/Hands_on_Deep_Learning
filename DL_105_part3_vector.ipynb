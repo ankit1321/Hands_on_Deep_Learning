{
 "cells": [
  {
   "cell_type": "code",
   "execution_count": 1,
   "metadata": {},
   "outputs": [
    {
     "name": "stderr",
     "output_type": "stream",
     "text": [
      "C:\\ProgramData\\Anaconda3\\lib\\importlib\\_bootstrap.py:219: RuntimeWarning: numpy.ufunc size changed, may indicate binary incompatibility. Expected 216, got 192\n",
      "  return f(*args, **kwds)\n",
      "C:\\ProgramData\\Anaconda3\\lib\\importlib\\_bootstrap.py:219: RuntimeWarning: numpy.ufunc size changed, may indicate binary incompatibility. Expected 192 from C header, got 216 from PyObject\n",
      "  return f(*args, **kwds)\n"
     ]
    }
   ],
   "source": [
    "import numpy as np\n",
    "import seaborn as sns\n",
    "from sklearn.metrics import accuracy_score,mean_squared_error,log_loss\n",
    "from sklearn.datasets import make_blobs\n",
    "from sklearn.preprocessing import OneHotEncoder\n",
    "from tqdm import tqdm_notebook\n",
    "import matplotlib.pyplot as plt\n",
    "import matplotlib\n",
    "from sklearn.model_selection import train_test_split as tts\n",
    "import time\n",
    "import imageio\n",
    "from IPython.display import HTML\n"
   ]
  },
  {
   "cell_type": "code",
   "execution_count": 2,
   "metadata": {},
   "outputs": [],
   "source": [
    "my_cmap = matplotlib.colors.LinearSegmentedColormap.from_list(\"\",[\"red\",\"yellow\",\"green\"])"
   ]
  },
  {
   "cell_type": "code",
   "execution_count": 3,
   "metadata": {},
   "outputs": [],
   "source": [
    "np.random.seed(0)"
   ]
  },
  {
   "cell_type": "markdown",
   "metadata": {},
   "source": [
    "# Data Generation"
   ]
  },
  {
   "cell_type": "code",
   "execution_count": 7,
   "metadata": {},
   "outputs": [
    {
     "name": "stdout",
     "output_type": "stream",
     "text": [
      "(1200, 3) (1200,)\n"
     ]
    }
   ],
   "source": [
    "data,labels=make_blobs(1200,3,6,random_state=0)\n",
    "print(data.shape,labels.shape)"
   ]
  },
  {
   "cell_type": "code",
   "execution_count": 8,
   "metadata": {},
   "outputs": [
    {
     "data": {
      "image/png": "[encoded data removed]",
      "text/plain": [
       "<Figure size 432x288 with 1 Axes>"
      ]
     },
     "metadata": {
      "needs_background": "light"
     },
     "output_type": "display_data"
    }
   ],
   "source": [
    "plt.scatter(data[:,0],data[:,1],c=labels,cmap=my_cmap)\n",
    "plt.show()"
   ]
  },
  {
   "cell_type": "markdown",
   "metadata": {},
   "source": [
    "# Scalar multiclassification class"
   ]
  },
  {
   "cell_type": "code",
   "execution_count": 10,
   "metadata": {},
   "outputs": [
    {
     "name": "stdout",
     "output_type": "stream",
     "text": [
      "[[ 1.76405235  0.40015721]\n",
      " [ 0.97873798  2.2408932 ]\n",
      " [ 1.86755799 -0.97727788]] [[ 0.95008842]\n",
      " [-0.15135721]] [[-0.10321885  0.4105985   0.14404357  1.45427351  0.76103773  0.12167502]]\n"
     ]
    }
   ],
   "source": [
    "W1=np.random.randn(3,2)\n",
    "W2=np.random.randn(2,1)\n",
    "W3=np.random.randn(1,6)\n",
    "print(W1,W2,W3)"
   ]
  },
  {
   "cell_type": "code",
   "execution_count": 26,
   "metadata": {},
   "outputs": [],
   "source": [
    "class ffn_multi_scalar:\n",
    "    \n",
    "    def __init__(self,W1,W2,W3):\n",
    "        self.w1 = W1[0][0].copy()\n",
    "        self.w2 = W1[1][0].copy()\n",
    "        self.w3 = W1[2][0].copy()\n",
    "        self.w4 = W1[0][1].copy()\n",
    "        self.w5 = W1[1][1].copy()\n",
    "        self.w6 = W1[2][1].copy()\n",
    "        self.w7 = W2[0][0].copy()\n",
    "        self.w8 = W2[1][0].copy()\n",
    "        self.w9 = W3[0][0].copy()\n",
    "        self.w10 = W3[0][1].copy()\n",
    "        self.w11 = W3[0][2].copy()\n",
    "        self.w12 = W3[0][3].copy()\n",
    "        self.w13 = W3[0][4].copy()\n",
    "        self.w14 = W3[0][5].copy()\n",
    "        self.b1=0\n",
    "        self.b2=0\n",
    "        self.b3=0\n",
    "        self.b4=0\n",
    "        self.b5=0\n",
    "        self.b6=0\n",
    "        self.b7=0\n",
    "        self.b8=0\n",
    "        self.b9=0\n",
    "        \n",
    "    def sigmoid(self,x):\n",
    "        return 1.0/(1.0 + np.exp(-x))\n",
    "        \n",
    "    def forward_pass(self,x):\n",
    "        self.x1,self.x2,self.x3=x\n",
    "            \n",
    "        #First layer\n",
    "        self.a1=self.w1 * self.x1 + self.w3 * self.x2 + self.w5 * self.x3 + self.b1\n",
    "        self.a2=self.w2 * self.x1 + self.w4 * self.x2 + self.w6 * self.x3 + self.b2\n",
    "        self.h1=self.sigmoid(self.a1)\n",
    "        self.h2=self.sigmoid(self.a2)\n",
    "            \n",
    "        #Hidden Layers\n",
    "        self.a3=self.w7 * self.h1 + self.w8 * self.h2 + self.b3\n",
    "        self.h3=self.sigmoid(self.a3)\n",
    "            \n",
    "        self.a4=self.w9 * self.h3 + self.b4\n",
    "        self.a5=self.w10 * self.h3 + self.b5\n",
    "        self.a6=self.w11 * self.h3 + self.b6\n",
    "        self.a7=self.w12 * self.h3 + self.b7\n",
    "        self.a8=self.w13 * self.h3 + self.b8\n",
    "        self.a9=self.w14 * self.h3 + self.b9\n",
    "        exps = (np.exp(self.a4) + np.exp(self.a5) + np.exp(self.a6) + np.exp(self.a7)\n",
    "                    + np.exp(self.a8) + np.exp(self.a9))\n",
    "        self.h4 = np.exp(self.a4)/exps\n",
    "        self.h5 = np.exp(self.a5)/exps\n",
    "        self.h6 = np.exp(self.a6)/exps\n",
    "        self.h7 = np.exp(self.a7)/exps\n",
    "        self.h8 = np.exp(self.a8)/exps\n",
    "        self.h9 = np.exp(self.a9)/exps\n",
    "            \n",
    "        return np.array([self.h4,self.h5,self.h6,self.h7,self.h8,self.h9])\n",
    "        \n",
    "    def grad(self,x,y):\n",
    "        self.forward_pass(x)\n",
    "        self.y1,self.y2,self.y3,self.y4,self.y5,self.y6=y\n",
    "            \n",
    "        self.dw9 = (self.h4 - self.y1) * self.h3\n",
    "        self.db4 = (self.h4 - self.y1)\n",
    "            \n",
    "        self.dw10 = (self.h5 - self.y2) * self.h3\n",
    "        self.db5 = (self.h5 - self.y2)\n",
    "            \n",
    "        self.dw11 = (self.h6 - self.y3) * self.h3\n",
    "        self.db6 = (self.h6 - self.y3)\n",
    "            \n",
    "        self.dw12 = (self.h7 - self.y4) * self.h3\n",
    "        self.db7= (self.h7 - self.y4)\n",
    "            \n",
    "        self.dw13 = (self.h8 - self.y5) * self.h3\n",
    "        self.db8 = (self.h8 - self.y5)\n",
    "            \n",
    "        self.dw14 = (self.h9 - self.y6) * self.h3\n",
    "        self.db9 = (self.h9 - self.y6)\n",
    "            \n",
    "        self.dh3= ((self.h4 - self.y1) * self.w9 + (self.h5 - self.y2) * self.w10 +\n",
    "                      (self.h6 - self.y3) * self.w11 + (self.h7 - self.y4) * self.w12 +\n",
    "                      (self.h8 - self.y5) * self.w13 + (self.h9 - self.y6) * self.w14)\n",
    "            \n",
    "        self.dw7= self.dh3 * self.h3*(1-self.h3) * self.h1\n",
    "        self.dw8= self.dh3 * self.h3*(1-self.h3) * self.h2\n",
    "        self.db3= self.dh3 * self.h3*(1-self.h3)\n",
    "            \n",
    "        self.dh1 = self.dh3 * self.h3*(1-self.h3) * self.w7\n",
    "        self.dh2 = self.dh3 * self.h3*(1-self.h3) * self.w8\n",
    "            \n",
    "        self.dw1 = self.dh1 * self.h1*(1-self.h1) * self.x1\n",
    "        self.dw2 = self.dh2 * self.h2*(1-self.h2) * self.x1\n",
    "        self.dw3 = self.dh1 * self.h1*(1-self.h1) * self.x2\n",
    "        self.dw4 = self.dh2 * self.h2*(1-self.h2) * self.x2\n",
    "        self.dw5 = self.dh1 * self.h1*(1-self.h1) * self.x3\n",
    "        self.dw6 = self.dh2 * self.h2*(1-self.h2) * self.x3\n",
    "        self.db1 = self.dh1 * self.h1*(1-self.h1)\n",
    "        self.db2 = self.dh2 * self.h2*(1-self.h2)\n",
    "            \n",
    "    def predict(self,X):\n",
    "        Y_pred = []\n",
    "        for x in X:\n",
    "            y_pred=self.forward_pass(x)\n",
    "            Y_pred.append(y_pred)\n",
    "        return np.array(Y_pred)\n",
    "        \n",
    "    def fit(self,X,Y,epoch=100,lr=1,init=False,display_loss=True):\n",
    "            \n",
    "        if init:\n",
    "            self.w1 = W1[0][0].copy()\n",
    "            self.w2 = W1[1][0].copy()\n",
    "            self.w3 = W1[2][0].copy()\n",
    "            self.w4 = W1[0][1].copy()\n",
    "            self.w5 = W1[1][1].copy()\n",
    "            self.w6 = W1[2][1].copy()\n",
    "            self.w7 = W2[0][0].copy()\n",
    "            self.w8 = W2[1][0].copy()\n",
    "            self.w9 = W3[0][0].copy()\n",
    "            self.w10 = W3[0][1].copy()\n",
    "            self.w11 = W3[0][2].copy()\n",
    "            self.w12 = W3[0][3].copy()\n",
    "            self.w13 = W3[0][4].copy()\n",
    "            self.w14 = W3[0][5].copy()\n",
    "            self.b1=0\n",
    "            self.b2=0\n",
    "            self.b3=0\n",
    "            self.b4=0\n",
    "            self.b5=0\n",
    "            self.b6=0\n",
    "            self.b7=0\n",
    "            self.b8=0\n",
    "            self.b9=0\n",
    "                \n",
    "        if display_loss:\n",
    "            loss={}\n",
    "                \n",
    "        for i in tqdm_notebook(range(epoch),unit=\"epoch\"):\n",
    "            dw1,dw2,dw3,dw4,dw5,dw6,dw7,dw8,dw9,dw10,dw11,dw12,dw13,dw14=[0]*14\n",
    "            db1,db2,db3,db4,db5,db6,db7,db8,db9=[0]*9\n",
    "            for x,y in zip(X,Y):\n",
    "                self.grad(x,y)\n",
    "                dw1 += self.dw1\n",
    "                dw2 += self.dw2\n",
    "                dw3 += self.dw3\n",
    "                dw4 += self.dw4\n",
    "                dw5 += self.dw5\n",
    "                dw6 += self.dw6\n",
    "                dw7 += self.dw7\n",
    "                dw8 += self.dw8\n",
    "                dw9 += self.dw9\n",
    "                dw10 += self.dw10\n",
    "                dw11 += self.dw11\n",
    "                dw12 += self.dw12\n",
    "                dw13 += self.dw13\n",
    "                dw14 += self.dw14\n",
    "                db1 += self.db1\n",
    "                db2 += self.db2\n",
    "                db3 += self.db3\n",
    "                db4 += self.db4\n",
    "                db5 += self.db5\n",
    "                db6 += self.db6\n",
    "                db7 += self.db7\n",
    "                db8 += self.db8\n",
    "                db9 += self.db9\n",
    "                \n",
    "            m=X.shape[0]\n",
    "            self.w1 -= lr * dw1/m\n",
    "            self.w2 -= lr * dw2/m\n",
    "            self.w3 -= lr * dw3/m\n",
    "            self.w4 -= lr * dw4/m\n",
    "            self.w5 -= lr * dw5/m\n",
    "            self.w6 -= lr * dw6/m\n",
    "            self.w7 -= lr * dw7/m\n",
    "            self.w8 -= lr * dw8/m\n",
    "            self.w9 -= lr * dw9/m\n",
    "            self.w10 -= lr * dw10/m\n",
    "            self.w11 -= lr * dw11/m\n",
    "            self.w12 -= lr * dw12/m\n",
    "            self.w13 -= lr * dw13/m\n",
    "            self.w14 -= lr * dw14/m\n",
    "            self.b1-= lr * db1/m\n",
    "            self.b2-= lr * db2/m\n",
    "            self.b3-= lr * db3/m\n",
    "            self.b4-= lr * db4/m\n",
    "            self.b5-= lr * db5/m\n",
    "            self.b6-= lr * db6/m\n",
    "            self.b7-= lr * db7/m\n",
    "            self.b8-= lr * db8/m\n",
    "            self.b9-= lr * db9/m\n",
    "                \n",
    "            if display_loss:\n",
    "                y_pred = self.predict(X)\n",
    "                loss[i] = log_loss(np.argmax(Y,1),y_pred)\n",
    "                \n",
    "        if display_loss:\n",
    "            plt.plot(loss.values())\n",
    "            plt.xlabel(\"Epoch\")\n",
    "            plt.ylabel(\"log_loss\")\n",
    "            plt.show()\n",
    "            "
   ]
  },
  {
   "cell_type": "markdown",
   "metadata": {},
   "source": [
    "# Making  training and testing datasets"
   ]
  },
  {
   "cell_type": "code",
   "execution_count": 12,
   "metadata": {},
   "outputs": [],
   "source": [
    "X_train,X_val,Y_train,Y_val= tts(data,labels,stratify=labels,random_state=0)"
   ]
  },
  {
   "cell_type": "code",
   "execution_count": 13,
   "metadata": {},
   "outputs": [
    {
     "name": "stdout",
     "output_type": "stream",
     "text": [
      "(900, 3) (300, 3) (900,) (300,)\n"
     ]
    }
   ],
   "source": [
    "print(X_train.shape,X_val.shape,Y_train.shape,Y_val.shape)"
   ]
  },
  {
   "cell_type": "code",
   "execution_count": 14,
   "metadata": {},
   "outputs": [],
   "source": [
    "enc=OneHotEncoder()"
   ]
  },
  {
   "cell_type": "code",
   "execution_count": 15,
   "metadata": {},
   "outputs": [
    {
     "name": "stderr",
     "output_type": "stream",
     "text": [
      "C:\\ProgramData\\Anaconda3\\lib\\site-packages\\sklearn\\preprocessing\\_encoders.py:368: FutureWarning: The handling of integer data will change in version 0.22. Currently, the categories are determined based on the range [0, max(values)], while in the future they will be determined based on the unique values.\n",
      "If you want the future behaviour and silence this warning, you can specify \"categories='auto'\".\n",
      "In case you used a LabelEncoder before this OneHotEncoder to convert the categories to integers, then you can now use the OneHotEncoder directly.\n",
      "  warnings.warn(msg, FutureWarning)\n"
     ]
    },
    {
     "data": {
      "text/plain": [
       "(900, 6)"
      ]
     },
     "execution_count": 15,
     "metadata": {},
     "output_type": "execute_result"
    }
   ],
   "source": [
    "Y_train_oh = enc.fit_transform(np.expand_dims(Y_train,1)).toarray()\n",
    "Y_train_oh.shape"
   ]
  },
  {
   "cell_type": "code",
   "execution_count": 35,
   "metadata": {},
   "outputs": [],
   "source": [
    "ffn_scalar=ffn_multi_scalar(W1,W2,W3)"
   ]
  },
  {
   "cell_type": "code",
   "execution_count": 36,
   "metadata": {},
   "outputs": [
    {
     "data": {
      "application/vnd.jupyter.widget-view+json": {
       "model_id": "7a011a5326a9428eb1382d0ff74ff096",
       "version_major": 2,
       "version_minor": 0
      },
      "text/plain": [
       "HBox(children=(IntProgress(value=0), HTML(value='')))"
      ]
     },
     "metadata": {},
     "output_type": "display_data"
    },
    {
     "name": "stdout",
     "output_type": "stream",
     "text": [
      "\n"
     ]
    },
    {
     "data": {
      "image/png": "[encoded data removed]",
      "text/plain": [
       "<Figure size 432x288 with 1 Axes>"
      ]
     },
     "metadata": {
      "needs_background": "light"
     },
     "output_type": "display_data"
    }
   ],
   "source": [
    "ffn_scalar.fit(X_train,Y_train_oh)"
   ]
  },
  {
   "cell_type": "markdown",
   "metadata": {},
   "source": [
    "# Vector Multiclass classification"
   ]
  },
  {
   "cell_type": "code",
   "execution_count": 70,
   "metadata": {},
   "outputs": [],
   "source": [
    "class ffn_multi_vector:\n",
    "    \n",
    "    def __init__(self,W1,W2,W3):\n",
    "        self.W1=W1.copy() #(3,2)\n",
    "        self.W2=W2.copy() #(2,1)\n",
    "        self.W3=W3.copy() #(1,6)\n",
    "        self.B1=np.zeros((1,2))\n",
    "        self.B2=np.zeros((1,1))\n",
    "        self.B3=np.zeros((1,6))\n",
    "        \n",
    "    def sigmoid(self,x):\n",
    "        return 1.0/(1.0 + np.exp(-x))\n",
    "    \n",
    "    def softmax(self,x):\n",
    "        exps = np.exp(x)\n",
    "        return exps/np.sum(exps)\n",
    "        \n",
    "    def forward_pass(self,x):\n",
    "        #self.x1,self.x2,self.x3=x\n",
    "        x=x.reshape(1,-1) #(1,3)\n",
    "        #print(x.shape,self.W1.shape,self.B1.shape)    \n",
    "        self.A1=np.matmul(x,self.W1) + self.B1 # (1,3) * (3,2) -> (1,2) + (1,2) -> (1,2)\n",
    "        self.H1=self.sigmoid(self.A1)\n",
    "        \n",
    "        self.A2 = np.matmul(self.H1,self.W2) + self.B2 # (1,2) * (2,1) -> (1,1) + (1,1) -> (1,1)\n",
    "        self.H2 = self.sigmoid(self.A2)\n",
    "        \n",
    "        self.A3 = np.matmul(self.H2,self.W3) + self.B3 #(1,1)*(1,6) -> (1,6) + (1,6) -> (1,6)\n",
    "        \n",
    "        self.H3=self.softmax(self.A3)\n",
    "            \n",
    "        return self.H3\n",
    "    \n",
    "    def grad_sigmoid(self,x):\n",
    "        return x*(1-x)\n",
    "        \n",
    "    def grad(self,x,y):\n",
    "        self.forward_pass(x)\n",
    "        #self.y1,self.y2,self.y3,self.y4,self.y5,self.y6=y\n",
    "        x=x.reshape(1,-1)#(1,3)\n",
    "        y=y.reshape(1,-1)#(1,6)\n",
    "        \n",
    "        \n",
    "        self.dA3 = (self.H3-y) #(1,6)\n",
    "        self.dW3 = np.matmul(self.H2.T,self.dA3) #(1,1) * (1,6) -> (1,6)\n",
    "        self.dB3 = self.dA3\n",
    "        \n",
    "        self.dH2= np.matmul(self.dA3,self.W3.T) #(1,6) * (6,1) -> (1,1)\n",
    "        self.dA2= np.multiply(self.dH2,self.grad_sigmoid(self.H2)) #(1,1)\n",
    "        self.dW2= np.matmul(self.H1.T,self.dA2)#(2,1) *(1,1) -> (2,1)\n",
    "        self.dB2 = self.dA2\n",
    "            \n",
    "        self.dH1 = np.matmul(self.dA2,self.W2.T) #(1,1) * (1,2) -> (1,2)\n",
    "        self.dA1 = np.multiply(self.dH1,self.grad_sigmoid(self.H1))# (1,2) \n",
    "        self.dW1= np.matmul(x.T,self.dA1) #(3,1) * (1,2) -> (3,2)\n",
    "        self.dB1= self.dA1\n",
    "        \n",
    "            \n",
    "    def predict(self,X):\n",
    "        Y_pred = []\n",
    "        for x in X:\n",
    "            y_pred=self.forward_pass(x)\n",
    "            Y_pred.append(y_pred)\n",
    "        return np.array(Y_pred).squeeze()\n",
    "    def predict1(self,X):\n",
    "        Y_pred = []\n",
    "        for x in X:\n",
    "            y_pred=self.forward_pass(x)\n",
    "            Y_pred.append(y_pred)\n",
    "        return np.array(Y_pred)\n",
    "        \n",
    "    def fit(self,X,Y,epoch=100,lr=1,init=False,display_loss=True):\n",
    "            \n",
    "        if init:\n",
    "            self.W1=W1.copy() #(3,2)\n",
    "            self.W2=W2.copy() #(2,1)\n",
    "            self.W3=W3.copy() #(1,6)\n",
    "            self.B1=np.zeros((1,2))\n",
    "            self.B2=np.zeros((1,1))\n",
    "            self.B3=np.zeros((1,6))\n",
    "                \n",
    "        if display_loss:\n",
    "            loss={}\n",
    "                \n",
    "        for i in tqdm_notebook(range(epoch),unit=\"epoch\"):\n",
    "            dW1,dW2,dW3=np.zeros((3,2)),np.zeros((2,1)),np.zeros((1,6))\n",
    "            dB1,dB2,dB3=np.zeros((1,2)),np.zeros((1,1)),np.zeros((1,6))\n",
    "            for x,y in zip(X,Y):\n",
    "                self.grad(x,y)\n",
    "                dW1 += self.dW1\n",
    "                dW2 += self.dW2\n",
    "                dW3 += self.dW3\n",
    "                dB1 += self.dB1\n",
    "                dB2 += self.dB2\n",
    "                dB3 += self.dB3\n",
    "                \n",
    "            m=X.shape[0]\n",
    "            self.W1 -= lr * dW1/m\n",
    "            self.W2 -= lr * dW2/m\n",
    "            self.W3 -= lr * dW3/m\n",
    "            self.B1-= lr * dB1/m\n",
    "            self.B2-= lr * dB2/m\n",
    "            self.B3-= lr * dB3/m\n",
    "                \n",
    "            if display_loss:\n",
    "                y_pred = self.predict(X)\n",
    "                loss[i] = log_loss(np.argmax(Y,1),y_pred)\n",
    "                \n",
    "        if display_loss:\n",
    "            plt.plot(loss.values())\n",
    "            plt.xlabel(\"Epoch\")\n",
    "            plt.ylabel(\"log_loss\")\n",
    "            plt.show()\n",
    "            "
   ]
  },
  {
   "cell_type": "code",
   "execution_count": 71,
   "metadata": {},
   "outputs": [],
   "source": [
    "ffn_vector=ffn_multi_vector(W1,W2,W3)"
   ]
  },
  {
   "cell_type": "code",
   "execution_count": 72,
   "metadata": {},
   "outputs": [
    {
     "data": {
      "application/vnd.jupyter.widget-view+json": {
       "model_id": "825eebd4f7024686a44c2674fa29da06",
       "version_major": 2,
       "version_minor": 0
      },
      "text/plain": [
       "HBox(children=(IntProgress(value=0), HTML(value='')))"
      ]
     },
     "metadata": {},
     "output_type": "display_data"
    },
    {
     "data": {
      "image/png": "[encoded data removed]",
      "text/plain": [
       "<Figure size 432x288 with 1 Axes>"
      ]
     },
     "metadata": {
      "needs_background": "light"
     },
     "output_type": "display_data"
    }
   ],
   "source": [
    "ffn_vector.fit(X_train,Y_train_oh)"
   ]
  },
  {
   "cell_type": "markdown",
   "metadata": {},
   "source": [
    "# making input also as vectors\n",
    "\n"
   ]
  },
  {
   "cell_type": "code",
   "execution_count": 85,
   "metadata": {},
   "outputs": [],
   "source": [
    "class ffn_multi_vector_input:\n",
    "    \n",
    "    def __init__(self,W1,W2,W3):\n",
    "        self.W1=W1.copy() #(3,2)\n",
    "        self.W2=W2.copy() #(2,1)\n",
    "        self.W3=W3.copy() #(1,6)\n",
    "        self.B1=np.zeros((1,2))\n",
    "        self.B2=np.zeros((1,1))\n",
    "        self.B3=np.zeros((1,6))\n",
    "        \n",
    "    def sigmoid(self,X):\n",
    "        return 1.0/(1.0 + np.exp(-X))\n",
    "    \n",
    "    def softmax(self,X):\n",
    "        exps = np.exp(X)\n",
    "        return exps/np.sum(exps,1).reshape(-1,1)\n",
    "        \n",
    "    def forward_pass(self,X):\n",
    "        #self.x1,self.x2,self.x3=x\n",
    "        #x=x.reshape(1,-1) #(1,3)\n",
    "        #print(x.shape,self.W1.shape,self.B1.shape)    \n",
    "        self.A1=np.matmul(X,self.W1) + self.B1 # (1,3) * (3,2) -> (1,2) + (1,2) -> (1,2)\n",
    "        self.H1=self.sigmoid(self.A1)\n",
    "        \n",
    "        self.A2 = np.matmul(self.H1,self.W2) + self.B2 # (1,2) * (2,1) -> (1,1) + (1,1) -> (1,1)\n",
    "        self.H2 = self.sigmoid(self.A2)\n",
    "        \n",
    "        self.A3 = np.matmul(self.H2,self.W3) + self.B3 #(1,1)*(1,6) -> (1,6) + (1,6) -> (1,6)\n",
    "        \n",
    "        self.H3=self.softmax(self.A3)\n",
    "            \n",
    "        return self.H3\n",
    "    \n",
    "    def grad_sigmoid(self,X):\n",
    "        return X*(1-X)\n",
    "        \n",
    "    def grad(self,X,Y):\n",
    "        self.forward_pass(X)\n",
    "        #self.y1,self.y2,self.y3,self.y4,self.y5,self.y6=y\n",
    "        #x=x.reshape(1,-1)#(1,3)\n",
    "        #y=y.reshape(1,-1)#(1,6)\n",
    "        \n",
    "        \n",
    "        self.dA3 = (self.H3-Y) #(N,6)\n",
    "        self.dW3 = np.matmul(self.H2.T,self.dA3) #(1,1) * (1,6) -> (1,6)\n",
    "        self.dB3 = np.sum(self.dA3,0).reshape(1,-1)\n",
    "        \n",
    "        self.dH2= np.matmul(self.dA3,self.W3.T) #(1,6) * (6,1) -> (1,1)\n",
    "        self.dA2= np.multiply(self.dH2,self.grad_sigmoid(self.H2)) #(1,1)\n",
    "        self.dW2= np.matmul(self.H1.T,self.dA2)#(2,1) *(1,1) -> (2,1)\n",
    "        self.dB2 = np.sum(self.dA2,0).reshape(1,-1)\n",
    "            \n",
    "        self.dH1 = np.matmul(self.dA2,self.W2.T) #(1,1) * (1,2) -> (1,2)\n",
    "        self.dA1 = np.multiply(self.dH1,self.grad_sigmoid(self.H1))# (1,2) \n",
    "        self.dW1= np.matmul(X.T,self.dA1) #(3,1) * (1,2) -> (3,2)\n",
    "        self.dB1= np.sum(self.dA1,0).reshape(1,-1)\n",
    "        \n",
    "            \n",
    "    def predict(self,X):\n",
    "        Y_pred = self.forward_pass(X)\n",
    "        return np.array(Y_pred).squeeze()\n",
    "    \n",
    "    \n",
    "    def fit(self,X,Y,epoch=100,lr=1,init=False,display_loss=True):\n",
    "            \n",
    "        if init:\n",
    "            self.W1=W1.copy() #(3,2)\n",
    "            self.W2=W2.copy() #(2,1)\n",
    "            self.W3=W3.copy() #(1,6)\n",
    "            self.B1=np.zeros((1,2))\n",
    "            self.B2=np.zeros((1,1))\n",
    "            self.B3=np.zeros((1,6))\n",
    "                \n",
    "        if display_loss:\n",
    "            loss={}\n",
    "                \n",
    "        for i in tqdm_notebook(range(epoch),unit=\"epoch\"):\n",
    "            self.grad(X,Y)\n",
    "                \n",
    "            m=X.shape[0]\n",
    "            self.W1 -= lr * self.dW1/m\n",
    "            self.W2 -= lr * self.dW2/m\n",
    "            self.W3 -= lr * self.dW3/m\n",
    "            self.B1-= lr * self.dB1/m\n",
    "            self.B2-= lr * self.dB2/m\n",
    "            self.B3-= lr * self.dB3/m\n",
    "                \n",
    "            if display_loss:\n",
    "                y_pred = self.predict(X)\n",
    "                loss[i] = log_loss(np.argmax(Y,1),y_pred)\n",
    "                \n",
    "        if display_loss:\n",
    "            plt.plot(loss.values())\n",
    "            plt.xlabel(\"Epoch\")\n",
    "            plt.ylabel(\"log_loss\")\n",
    "            plt.show()\n",
    "            "
   ]
  },
  {
   "cell_type": "code",
   "execution_count": 86,
   "metadata": {},
   "outputs": [
    {
     "data": {
      "application/vnd.jupyter.widget-view+json": {
       "model_id": "13e3c357b19c4b84af252e55d97631bd",
       "version_major": 2,
       "version_minor": 0
      },
      "text/plain": [
       "HBox(children=(IntProgress(value=0), HTML(value='')))"
      ]
     },
     "metadata": {},
     "output_type": "display_data"
    },
    {
     "data": {
      "image/png": "[encoded data removed]",
      "text/plain": [
       "<Figure size 432x288 with 1 Axes>"
      ]
     },
     "metadata": {
      "needs_background": "light"
     },
     "output_type": "display_data"
    },
    {
     "name": "stdout",
     "output_type": "stream",
     "text": [
      "Time taken by model 1: 12.108066082000732\n"
     ]
    },
    {
     "data": {
      "application/vnd.jupyter.widget-view+json": {
       "model_id": "68b21382ad1e4c809f93a78876bc4a35",
       "version_major": 2,
       "version_minor": 0
      },
      "text/plain": [
       "HBox(children=(IntProgress(value=0), HTML(value='')))"
      ]
     },
     "metadata": {},
     "output_type": "display_data"
    },
    {
     "data": {
      "image/png": "[encoded data removed]",
      "text/plain": [
       "<Figure size 432x288 with 1 Axes>"
      ]
     },
     "metadata": {
      "needs_background": "light"
     },
     "output_type": "display_data"
    },
    {
     "name": "stdout",
     "output_type": "stream",
     "text": [
      "Time taken by model 2: 10.460000038146973\n"
     ]
    },
    {
     "data": {
      "application/vnd.jupyter.widget-view+json": {
       "model_id": "6ed2691e010a48ce89345624fbaa4003",
       "version_major": 2,
       "version_minor": 0
      },
      "text/plain": [
       "HBox(children=(IntProgress(value=0), HTML(value='')))"
      ]
     },
     "metadata": {},
     "output_type": "display_data"
    },
    {
     "data": {
      "image/png": "[encoded data removed]",
      "text/plain": [
       "<Figure size 432x288 with 1 Axes>"
      ]
     },
     "metadata": {
      "needs_background": "light"
     },
     "output_type": "display_data"
    },
    {
     "name": "stdout",
     "output_type": "stream",
     "text": [
      "Time taken by model 3: 0.6826105117797852\n"
     ]
    }
   ],
   "source": [
    "models_init =[ ffn_multi_scalar(W1, W2,W3), ffn_multi_vector(W1, W2,W3),ffn_multi_vector_input(W1, W2,W3)]\n",
    "models = []\n",
    "for idx, model in enumerate(models_init, start=1):\n",
    "  tic = time.time()\n",
    "  ffsn_multi_specific = model\n",
    "  ffsn_multi_specific.fit(X_train,Y_train_oh,epoch=100,lr=.5,display_loss=True)\n",
    "  models.append(ffsn_multi_specific)\n",
    "  toc = time.time()\n",
    "  print(\"Time taken by model {}: {}\".format(idx, toc-tic))"
   ]
  },
  {
   "cell_type": "code",
   "execution_count": 90,
   "metadata": {},
   "outputs": [],
   "source": [
    "ffn_vec_inp=ffn_multi_vector_input(W1,W2,W3)"
   ]
  },
  {
   "cell_type": "code",
   "execution_count": 231,
   "metadata": {},
   "outputs": [
    {
     "data": {
      "application/vnd.jupyter.widget-view+json": {
       "model_id": "3d1bfc677ded4e3d97f294926b5bf3f9",
       "version_major": 2,
       "version_minor": 0
      },
      "text/plain": [
       "HBox(children=(IntProgress(value=0, max=10000), HTML(value='')))"
      ]
     },
     "metadata": {},
     "output_type": "display_data"
    },
    {
     "data": {
      "image/png": "[encoded data removed]",
      "text/plain": [
       "<Figure size 432x288 with 1 Axes>"
      ]
     },
     "metadata": {
      "needs_background": "light"
     },
     "output_type": "display_data"
    }
   ],
   "source": [
    "ffn_vec_inp.fit(X_train,Y_train_oh,10000,.005)"
   ]
  },
  {
   "cell_type": "code",
   "execution_count": 232,
   "metadata": {},
   "outputs": [
    {
     "name": "stdout",
     "output_type": "stream",
     "text": [
      "Training Accuracy 0.8888888888888888\n",
      "Validation Accuracy 0.9066666666666666\n"
     ]
    }
   ],
   "source": [
    "y_pred=ffn_vec_inp.predict(X_train)\n",
    "y_pred=np.argmax(y_pred,1)\n",
    "accuracy=accuracy_score(y_pred,Y_train)\n",
    "y_pred_val=ffn_vec_inp.predict(X_val)\n",
    "y_pred_val=np.argmax(y_pred_val,1)\n",
    "acc_val=accuracy_score(y_pred_val,Y_val)\n",
    "print(\"Training Accuracy\",accuracy)\n",
    "print(\"Validation Accuracy\",acc_val)"
   ]
  },
  {
   "cell_type": "code",
   "execution_count": 222,
   "metadata": {},
   "outputs": [
    {
     "data": {
      "image/png": "[encoded data removed]",
      "text/plain": [
       "<Figure size 432x288 with 1 Axes>"
      ]
     },
     "metadata": {
      "needs_background": "light"
     },
     "output_type": "display_data"
    }
   ],
   "source": [
    "plt.scatter(X_train[:,0],X_train[:,1],c=Y_train,cmap=my_cmap,s=15*(np.abs(Y_train-y_pred)) + .2)\n",
    "plt.show()"
   ]
  },
  {
   "cell_type": "code",
   "execution_count": null,
   "metadata": {},
   "outputs": [],
   "source": []
  }
 ],
 "metadata": {
  "kernelspec": {
   "display_name": "Python 3",
   "language": "python",
   "name": "python3"
  },
  "language_info": {
   "codemirror_mode": {
    "name": "ipython",
    "version": 3
   },
   "file_extension": ".py",
   "mimetype": "text/x-python",
   "name": "python",
   "nbconvert_exporter": "python",
   "pygments_lexer": "ipython3",
   "version": "3.7.1"
  }
 },
 "nbformat": 4,
 "nbformat_minor": 2
}
