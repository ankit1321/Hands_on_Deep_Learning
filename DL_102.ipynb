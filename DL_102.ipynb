{
 "cells": [
  {
   "cell_type": "markdown",
   "metadata": {},
   "source": [
    "# MP Neuron"
   ]
  },
  {
   "cell_type": "markdown",
   "metadata": {},
   "source": [
    "## Loading Datasets"
   ]
  },
  {
   "cell_type": "code",
   "execution_count": 1,
   "metadata": {},
   "outputs": [],
   "source": [
    "import sklearn.datasets as skd\n",
    "import numpy as np"
   ]
  },
  {
   "cell_type": "code",
   "execution_count": 2,
   "metadata": {},
   "outputs": [],
   "source": [
    "breast_cancer=skd.load_breast_cancer()"
   ]
  },
  {
   "cell_type": "code",
   "execution_count": 3,
   "metadata": {},
   "outputs": [
    {
     "data": {
      "text/plain": [
       "sklearn.utils.Bunch"
      ]
     },
     "execution_count": 3,
     "metadata": {},
     "output_type": "execute_result"
    }
   ],
   "source": [
    "type(breast_cancer)"
   ]
  },
  {
   "cell_type": "code",
   "execution_count": 4,
   "metadata": {},
   "outputs": [],
   "source": [
    "x=breast_cancer.data\n",
    "y=breast_cancer.target"
   ]
  },
  {
   "cell_type": "code",
   "execution_count": 5,
   "metadata": {},
   "outputs": [
    {
     "data": {
      "text/plain": [
       "array([[1.799e+01, 1.038e+01, 1.228e+02, ..., 2.654e-01, 4.601e-01,\n",
       "        1.189e-01],\n",
       "       [2.057e+01, 1.777e+01, 1.329e+02, ..., 1.860e-01, 2.750e-01,\n",
       "        8.902e-02],\n",
       "       [1.969e+01, 2.125e+01, 1.300e+02, ..., 2.430e-01, 3.613e-01,\n",
       "        8.758e-02],\n",
       "       ...,\n",
       "       [1.660e+01, 2.808e+01, 1.083e+02, ..., 1.418e-01, 2.218e-01,\n",
       "        7.820e-02],\n",
       "       [2.060e+01, 2.933e+01, 1.401e+02, ..., 2.650e-01, 4.087e-01,\n",
       "        1.240e-01],\n",
       "       [7.760e+00, 2.454e+01, 4.792e+01, ..., 0.000e+00, 2.871e-01,\n",
       "        7.039e-02]])"
      ]
     },
     "execution_count": 5,
     "metadata": {},
     "output_type": "execute_result"
    }
   ],
   "source": [
    "x"
   ]
  },
  {
   "cell_type": "code",
   "execution_count": 6,
   "metadata": {},
   "outputs": [
    {
     "data": {
      "text/plain": [
       "array([0, 0, 0, 0, 0, 0, 0, 0, 0, 0, 0, 0, 0, 0, 0, 0, 0, 0, 0, 1, 1, 1,\n",
       "       0, 0, 0, 0, 0, 0, 0, 0, 0, 0, 0, 0, 0, 0, 0, 1, 0, 0, 0, 0, 0, 0,\n",
       "       0, 0, 1, 0, 1, 1, 1, 1, 1, 0, 0, 1, 0, 0, 1, 1, 1, 1, 0, 1, 0, 0,\n",
       "       1, 1, 1, 1, 0, 1, 0, 0, 1, 0, 1, 0, 0, 1, 1, 1, 0, 0, 1, 0, 0, 0,\n",
       "       1, 1, 1, 0, 1, 1, 0, 0, 1, 1, 1, 0, 0, 1, 1, 1, 1, 0, 1, 1, 0, 1,\n",
       "       1, 1, 1, 1, 1, 1, 1, 0, 0, 0, 1, 0, 0, 1, 1, 1, 0, 0, 1, 0, 1, 0,\n",
       "       0, 1, 0, 0, 1, 1, 0, 1, 1, 0, 1, 1, 1, 1, 0, 1, 1, 1, 1, 1, 1, 1,\n",
       "       1, 1, 0, 1, 1, 1, 1, 0, 0, 1, 0, 1, 1, 0, 0, 1, 1, 0, 0, 1, 1, 1,\n",
       "       1, 0, 1, 1, 0, 0, 0, 1, 0, 1, 0, 1, 1, 1, 0, 1, 1, 0, 0, 1, 0, 0,\n",
       "       0, 0, 1, 0, 0, 0, 1, 0, 1, 0, 1, 1, 0, 1, 0, 0, 0, 0, 1, 1, 0, 0,\n",
       "       1, 1, 1, 0, 1, 1, 1, 1, 1, 0, 0, 1, 1, 0, 1, 1, 0, 0, 1, 0, 1, 1,\n",
       "       1, 1, 0, 1, 1, 1, 1, 1, 0, 1, 0, 0, 0, 0, 0, 0, 0, 0, 0, 0, 0, 0,\n",
       "       0, 0, 1, 1, 1, 1, 1, 1, 0, 1, 0, 1, 1, 0, 1, 1, 0, 1, 0, 0, 1, 1,\n",
       "       1, 1, 1, 1, 1, 1, 1, 1, 1, 1, 1, 0, 1, 1, 0, 1, 0, 1, 1, 1, 1, 1,\n",
       "       1, 1, 1, 1, 1, 1, 1, 1, 1, 0, 1, 1, 1, 0, 1, 0, 1, 1, 1, 1, 0, 0,\n",
       "       0, 1, 1, 1, 1, 0, 1, 0, 1, 0, 1, 1, 1, 0, 1, 1, 1, 1, 1, 1, 1, 0,\n",
       "       0, 0, 1, 1, 1, 1, 1, 1, 1, 1, 1, 1, 1, 0, 0, 1, 0, 0, 0, 1, 0, 0,\n",
       "       1, 1, 1, 1, 1, 0, 1, 1, 1, 1, 1, 0, 1, 1, 1, 0, 1, 1, 0, 0, 1, 1,\n",
       "       1, 1, 1, 1, 0, 1, 1, 1, 1, 1, 1, 1, 0, 1, 1, 1, 1, 1, 0, 1, 1, 0,\n",
       "       1, 1, 1, 1, 1, 1, 1, 1, 1, 1, 1, 1, 0, 1, 0, 0, 1, 0, 1, 1, 1, 1,\n",
       "       1, 0, 1, 1, 0, 1, 0, 1, 1, 0, 1, 0, 1, 1, 1, 1, 1, 1, 1, 1, 0, 0,\n",
       "       1, 1, 1, 1, 1, 1, 0, 1, 1, 1, 1, 1, 1, 1, 1, 1, 1, 0, 1, 1, 1, 1,\n",
       "       1, 1, 1, 0, 1, 0, 1, 1, 0, 1, 1, 1, 1, 1, 0, 0, 1, 0, 1, 0, 1, 1,\n",
       "       1, 1, 1, 0, 1, 1, 0, 1, 0, 1, 0, 0, 1, 1, 1, 0, 1, 1, 1, 1, 1, 1,\n",
       "       1, 1, 1, 1, 1, 0, 1, 0, 0, 1, 1, 1, 1, 1, 1, 1, 1, 1, 1, 1, 1, 1,\n",
       "       1, 1, 1, 1, 1, 1, 1, 1, 1, 1, 1, 1, 0, 0, 0, 0, 0, 0, 1])"
      ]
     },
     "execution_count": 6,
     "metadata": {},
     "output_type": "execute_result"
    }
   ],
   "source": [
    "y"
   ]
  },
  {
   "cell_type": "code",
   "execution_count": 7,
   "metadata": {},
   "outputs": [
    {
     "name": "stdout",
     "output_type": "stream",
     "text": [
      "(569, 30) (569,)\n"
     ]
    }
   ],
   "source": [
    "print(x.shape,y.shape)"
   ]
  },
  {
   "cell_type": "code",
   "execution_count": 8,
   "metadata": {},
   "outputs": [],
   "source": [
    "import pandas as pd\n",
    "data=pd.DataFrame(breast_cancer.data)"
   ]
  },
  {
   "cell_type": "code",
   "execution_count": 9,
   "metadata": {},
   "outputs": [
    {
     "data": {
      "text/html": [
       "<div>\n",
       "<style scoped>\n",
       "    .dataframe tbody tr th:only-of-type {\n",
       "        vertical-align: middle;\n",
       "    }\n",
       "\n",
       "    .dataframe tbody tr th {\n",
       "        vertical-align: top;\n",
       "    }\n",
       "\n",
       "    .dataframe thead th {\n",
       "        text-align: right;\n",
       "    }\n",
       "</style>\n",
       "<table border=\"1\" class=\"dataframe\">\n",
       "  <thead>\n",
       "    <tr style=\"text-align: right;\">\n",
       "      <th></th>\n",
       "      <th>0</th>\n",
       "      <th>1</th>\n",
       "      <th>2</th>\n",
       "      <th>3</th>\n",
       "      <th>4</th>\n",
       "      <th>5</th>\n",
       "      <th>6</th>\n",
       "      <th>7</th>\n",
       "      <th>8</th>\n",
       "      <th>9</th>\n",
       "      <th>...</th>\n",
       "      <th>20</th>\n",
       "      <th>21</th>\n",
       "      <th>22</th>\n",
       "      <th>23</th>\n",
       "      <th>24</th>\n",
       "      <th>25</th>\n",
       "      <th>26</th>\n",
       "      <th>27</th>\n",
       "      <th>28</th>\n",
       "      <th>29</th>\n",
       "    </tr>\n",
       "  </thead>\n",
       "  <tbody>\n",
       "    <tr>\n",
       "      <th>0</th>\n",
       "      <td>17.99</td>\n",
       "      <td>10.38</td>\n",
       "      <td>122.80</td>\n",
       "      <td>1001.0</td>\n",
       "      <td>0.11840</td>\n",
       "      <td>0.27760</td>\n",
       "      <td>0.3001</td>\n",
       "      <td>0.14710</td>\n",
       "      <td>0.2419</td>\n",
       "      <td>0.07871</td>\n",
       "      <td>...</td>\n",
       "      <td>25.38</td>\n",
       "      <td>17.33</td>\n",
       "      <td>184.60</td>\n",
       "      <td>2019.0</td>\n",
       "      <td>0.1622</td>\n",
       "      <td>0.6656</td>\n",
       "      <td>0.7119</td>\n",
       "      <td>0.2654</td>\n",
       "      <td>0.4601</td>\n",
       "      <td>0.11890</td>\n",
       "    </tr>\n",
       "    <tr>\n",
       "      <th>1</th>\n",
       "      <td>20.57</td>\n",
       "      <td>17.77</td>\n",
       "      <td>132.90</td>\n",
       "      <td>1326.0</td>\n",
       "      <td>0.08474</td>\n",
       "      <td>0.07864</td>\n",
       "      <td>0.0869</td>\n",
       "      <td>0.07017</td>\n",
       "      <td>0.1812</td>\n",
       "      <td>0.05667</td>\n",
       "      <td>...</td>\n",
       "      <td>24.99</td>\n",
       "      <td>23.41</td>\n",
       "      <td>158.80</td>\n",
       "      <td>1956.0</td>\n",
       "      <td>0.1238</td>\n",
       "      <td>0.1866</td>\n",
       "      <td>0.2416</td>\n",
       "      <td>0.1860</td>\n",
       "      <td>0.2750</td>\n",
       "      <td>0.08902</td>\n",
       "    </tr>\n",
       "    <tr>\n",
       "      <th>2</th>\n",
       "      <td>19.69</td>\n",
       "      <td>21.25</td>\n",
       "      <td>130.00</td>\n",
       "      <td>1203.0</td>\n",
       "      <td>0.10960</td>\n",
       "      <td>0.15990</td>\n",
       "      <td>0.1974</td>\n",
       "      <td>0.12790</td>\n",
       "      <td>0.2069</td>\n",
       "      <td>0.05999</td>\n",
       "      <td>...</td>\n",
       "      <td>23.57</td>\n",
       "      <td>25.53</td>\n",
       "      <td>152.50</td>\n",
       "      <td>1709.0</td>\n",
       "      <td>0.1444</td>\n",
       "      <td>0.4245</td>\n",
       "      <td>0.4504</td>\n",
       "      <td>0.2430</td>\n",
       "      <td>0.3613</td>\n",
       "      <td>0.08758</td>\n",
       "    </tr>\n",
       "    <tr>\n",
       "      <th>3</th>\n",
       "      <td>11.42</td>\n",
       "      <td>20.38</td>\n",
       "      <td>77.58</td>\n",
       "      <td>386.1</td>\n",
       "      <td>0.14250</td>\n",
       "      <td>0.28390</td>\n",
       "      <td>0.2414</td>\n",
       "      <td>0.10520</td>\n",
       "      <td>0.2597</td>\n",
       "      <td>0.09744</td>\n",
       "      <td>...</td>\n",
       "      <td>14.91</td>\n",
       "      <td>26.50</td>\n",
       "      <td>98.87</td>\n",
       "      <td>567.7</td>\n",
       "      <td>0.2098</td>\n",
       "      <td>0.8663</td>\n",
       "      <td>0.6869</td>\n",
       "      <td>0.2575</td>\n",
       "      <td>0.6638</td>\n",
       "      <td>0.17300</td>\n",
       "    </tr>\n",
       "    <tr>\n",
       "      <th>4</th>\n",
       "      <td>20.29</td>\n",
       "      <td>14.34</td>\n",
       "      <td>135.10</td>\n",
       "      <td>1297.0</td>\n",
       "      <td>0.10030</td>\n",
       "      <td>0.13280</td>\n",
       "      <td>0.1980</td>\n",
       "      <td>0.10430</td>\n",
       "      <td>0.1809</td>\n",
       "      <td>0.05883</td>\n",
       "      <td>...</td>\n",
       "      <td>22.54</td>\n",
       "      <td>16.67</td>\n",
       "      <td>152.20</td>\n",
       "      <td>1575.0</td>\n",
       "      <td>0.1374</td>\n",
       "      <td>0.2050</td>\n",
       "      <td>0.4000</td>\n",
       "      <td>0.1625</td>\n",
       "      <td>0.2364</td>\n",
       "      <td>0.07678</td>\n",
       "    </tr>\n",
       "  </tbody>\n",
       "</table>\n",
       "<p>5 rows × 30 columns</p>\n",
       "</div>"
      ],
      "text/plain": [
       "      0      1       2       3        4        5       6        7       8   \\\n",
       "0  17.99  10.38  122.80  1001.0  0.11840  0.27760  0.3001  0.14710  0.2419   \n",
       "1  20.57  17.77  132.90  1326.0  0.08474  0.07864  0.0869  0.07017  0.1812   \n",
       "2  19.69  21.25  130.00  1203.0  0.10960  0.15990  0.1974  0.12790  0.2069   \n",
       "3  11.42  20.38   77.58   386.1  0.14250  0.28390  0.2414  0.10520  0.2597   \n",
       "4  20.29  14.34  135.10  1297.0  0.10030  0.13280  0.1980  0.10430  0.1809   \n",
       "\n",
       "        9    ...        20     21      22      23      24      25      26  \\\n",
       "0  0.07871   ...     25.38  17.33  184.60  2019.0  0.1622  0.6656  0.7119   \n",
       "1  0.05667   ...     24.99  23.41  158.80  1956.0  0.1238  0.1866  0.2416   \n",
       "2  0.05999   ...     23.57  25.53  152.50  1709.0  0.1444  0.4245  0.4504   \n",
       "3  0.09744   ...     14.91  26.50   98.87   567.7  0.2098  0.8663  0.6869   \n",
       "4  0.05883   ...     22.54  16.67  152.20  1575.0  0.1374  0.2050  0.4000   \n",
       "\n",
       "       27      28       29  \n",
       "0  0.2654  0.4601  0.11890  \n",
       "1  0.1860  0.2750  0.08902  \n",
       "2  0.2430  0.3613  0.08758  \n",
       "3  0.2575  0.6638  0.17300  \n",
       "4  0.1625  0.2364  0.07678  \n",
       "\n",
       "[5 rows x 30 columns]"
      ]
     },
     "execution_count": 9,
     "metadata": {},
     "output_type": "execute_result"
    }
   ],
   "source": [
    "data.head()"
   ]
  },
  {
   "cell_type": "code",
   "execution_count": 10,
   "metadata": {},
   "outputs": [
    {
     "data": {
      "text/html": [
       "<div>\n",
       "<style scoped>\n",
       "    .dataframe tbody tr th:only-of-type {\n",
       "        vertical-align: middle;\n",
       "    }\n",
       "\n",
       "    .dataframe tbody tr th {\n",
       "        vertical-align: top;\n",
       "    }\n",
       "\n",
       "    .dataframe thead th {\n",
       "        text-align: right;\n",
       "    }\n",
       "</style>\n",
       "<table border=\"1\" class=\"dataframe\">\n",
       "  <thead>\n",
       "    <tr style=\"text-align: right;\">\n",
       "      <th></th>\n",
       "      <th>mean radius</th>\n",
       "      <th>mean texture</th>\n",
       "      <th>mean perimeter</th>\n",
       "      <th>mean area</th>\n",
       "      <th>mean smoothness</th>\n",
       "      <th>mean compactness</th>\n",
       "      <th>mean concavity</th>\n",
       "      <th>mean concave points</th>\n",
       "      <th>mean symmetry</th>\n",
       "      <th>mean fractal dimension</th>\n",
       "      <th>...</th>\n",
       "      <th>worst radius</th>\n",
       "      <th>worst texture</th>\n",
       "      <th>worst perimeter</th>\n",
       "      <th>worst area</th>\n",
       "      <th>worst smoothness</th>\n",
       "      <th>worst compactness</th>\n",
       "      <th>worst concavity</th>\n",
       "      <th>worst concave points</th>\n",
       "      <th>worst symmetry</th>\n",
       "      <th>worst fractal dimension</th>\n",
       "    </tr>\n",
       "  </thead>\n",
       "  <tbody>\n",
       "    <tr>\n",
       "      <th>0</th>\n",
       "      <td>17.99</td>\n",
       "      <td>10.38</td>\n",
       "      <td>122.80</td>\n",
       "      <td>1001.0</td>\n",
       "      <td>0.11840</td>\n",
       "      <td>0.27760</td>\n",
       "      <td>0.3001</td>\n",
       "      <td>0.14710</td>\n",
       "      <td>0.2419</td>\n",
       "      <td>0.07871</td>\n",
       "      <td>...</td>\n",
       "      <td>25.38</td>\n",
       "      <td>17.33</td>\n",
       "      <td>184.60</td>\n",
       "      <td>2019.0</td>\n",
       "      <td>0.1622</td>\n",
       "      <td>0.6656</td>\n",
       "      <td>0.7119</td>\n",
       "      <td>0.2654</td>\n",
       "      <td>0.4601</td>\n",
       "      <td>0.11890</td>\n",
       "    </tr>\n",
       "    <tr>\n",
       "      <th>1</th>\n",
       "      <td>20.57</td>\n",
       "      <td>17.77</td>\n",
       "      <td>132.90</td>\n",
       "      <td>1326.0</td>\n",
       "      <td>0.08474</td>\n",
       "      <td>0.07864</td>\n",
       "      <td>0.0869</td>\n",
       "      <td>0.07017</td>\n",
       "      <td>0.1812</td>\n",
       "      <td>0.05667</td>\n",
       "      <td>...</td>\n",
       "      <td>24.99</td>\n",
       "      <td>23.41</td>\n",
       "      <td>158.80</td>\n",
       "      <td>1956.0</td>\n",
       "      <td>0.1238</td>\n",
       "      <td>0.1866</td>\n",
       "      <td>0.2416</td>\n",
       "      <td>0.1860</td>\n",
       "      <td>0.2750</td>\n",
       "      <td>0.08902</td>\n",
       "    </tr>\n",
       "    <tr>\n",
       "      <th>2</th>\n",
       "      <td>19.69</td>\n",
       "      <td>21.25</td>\n",
       "      <td>130.00</td>\n",
       "      <td>1203.0</td>\n",
       "      <td>0.10960</td>\n",
       "      <td>0.15990</td>\n",
       "      <td>0.1974</td>\n",
       "      <td>0.12790</td>\n",
       "      <td>0.2069</td>\n",
       "      <td>0.05999</td>\n",
       "      <td>...</td>\n",
       "      <td>23.57</td>\n",
       "      <td>25.53</td>\n",
       "      <td>152.50</td>\n",
       "      <td>1709.0</td>\n",
       "      <td>0.1444</td>\n",
       "      <td>0.4245</td>\n",
       "      <td>0.4504</td>\n",
       "      <td>0.2430</td>\n",
       "      <td>0.3613</td>\n",
       "      <td>0.08758</td>\n",
       "    </tr>\n",
       "    <tr>\n",
       "      <th>3</th>\n",
       "      <td>11.42</td>\n",
       "      <td>20.38</td>\n",
       "      <td>77.58</td>\n",
       "      <td>386.1</td>\n",
       "      <td>0.14250</td>\n",
       "      <td>0.28390</td>\n",
       "      <td>0.2414</td>\n",
       "      <td>0.10520</td>\n",
       "      <td>0.2597</td>\n",
       "      <td>0.09744</td>\n",
       "      <td>...</td>\n",
       "      <td>14.91</td>\n",
       "      <td>26.50</td>\n",
       "      <td>98.87</td>\n",
       "      <td>567.7</td>\n",
       "      <td>0.2098</td>\n",
       "      <td>0.8663</td>\n",
       "      <td>0.6869</td>\n",
       "      <td>0.2575</td>\n",
       "      <td>0.6638</td>\n",
       "      <td>0.17300</td>\n",
       "    </tr>\n",
       "    <tr>\n",
       "      <th>4</th>\n",
       "      <td>20.29</td>\n",
       "      <td>14.34</td>\n",
       "      <td>135.10</td>\n",
       "      <td>1297.0</td>\n",
       "      <td>0.10030</td>\n",
       "      <td>0.13280</td>\n",
       "      <td>0.1980</td>\n",
       "      <td>0.10430</td>\n",
       "      <td>0.1809</td>\n",
       "      <td>0.05883</td>\n",
       "      <td>...</td>\n",
       "      <td>22.54</td>\n",
       "      <td>16.67</td>\n",
       "      <td>152.20</td>\n",
       "      <td>1575.0</td>\n",
       "      <td>0.1374</td>\n",
       "      <td>0.2050</td>\n",
       "      <td>0.4000</td>\n",
       "      <td>0.1625</td>\n",
       "      <td>0.2364</td>\n",
       "      <td>0.07678</td>\n",
       "    </tr>\n",
       "  </tbody>\n",
       "</table>\n",
       "<p>5 rows × 30 columns</p>\n",
       "</div>"
      ],
      "text/plain": [
       "   mean radius  mean texture  mean perimeter  mean area  mean smoothness  \\\n",
       "0        17.99         10.38          122.80     1001.0          0.11840   \n",
       "1        20.57         17.77          132.90     1326.0          0.08474   \n",
       "2        19.69         21.25          130.00     1203.0          0.10960   \n",
       "3        11.42         20.38           77.58      386.1          0.14250   \n",
       "4        20.29         14.34          135.10     1297.0          0.10030   \n",
       "\n",
       "   mean compactness  mean concavity  mean concave points  mean symmetry  \\\n",
       "0           0.27760          0.3001              0.14710         0.2419   \n",
       "1           0.07864          0.0869              0.07017         0.1812   \n",
       "2           0.15990          0.1974              0.12790         0.2069   \n",
       "3           0.28390          0.2414              0.10520         0.2597   \n",
       "4           0.13280          0.1980              0.10430         0.1809   \n",
       "\n",
       "   mean fractal dimension           ...             worst radius  \\\n",
       "0                 0.07871           ...                    25.38   \n",
       "1                 0.05667           ...                    24.99   \n",
       "2                 0.05999           ...                    23.57   \n",
       "3                 0.09744           ...                    14.91   \n",
       "4                 0.05883           ...                    22.54   \n",
       "\n",
       "   worst texture  worst perimeter  worst area  worst smoothness  \\\n",
       "0          17.33           184.60      2019.0            0.1622   \n",
       "1          23.41           158.80      1956.0            0.1238   \n",
       "2          25.53           152.50      1709.0            0.1444   \n",
       "3          26.50            98.87       567.7            0.2098   \n",
       "4          16.67           152.20      1575.0            0.1374   \n",
       "\n",
       "   worst compactness  worst concavity  worst concave points  worst symmetry  \\\n",
       "0             0.6656           0.7119                0.2654          0.4601   \n",
       "1             0.1866           0.2416                0.1860          0.2750   \n",
       "2             0.4245           0.4504                0.2430          0.3613   \n",
       "3             0.8663           0.6869                0.2575          0.6638   \n",
       "4             0.2050           0.4000                0.1625          0.2364   \n",
       "\n",
       "   worst fractal dimension  \n",
       "0                  0.11890  \n",
       "1                  0.08902  \n",
       "2                  0.08758  \n",
       "3                  0.17300  \n",
       "4                  0.07678  \n",
       "\n",
       "[5 rows x 30 columns]"
      ]
     },
     "execution_count": 10,
     "metadata": {},
     "output_type": "execute_result"
    }
   ],
   "source": [
    "data=pd.DataFrame(breast_cancer.data,columns=breast_cancer.feature_names)\n",
    "data.head()"
   ]
  },
  {
   "cell_type": "code",
   "execution_count": 11,
   "metadata": {},
   "outputs": [],
   "source": [
    "data['class']=breast_cancer.target"
   ]
  },
  {
   "cell_type": "code",
   "execution_count": 12,
   "metadata": {},
   "outputs": [
    {
     "data": {
      "text/html": [
       "<div>\n",
       "<style scoped>\n",
       "    .dataframe tbody tr th:only-of-type {\n",
       "        vertical-align: middle;\n",
       "    }\n",
       "\n",
       "    .dataframe tbody tr th {\n",
       "        vertical-align: top;\n",
       "    }\n",
       "\n",
       "    .dataframe thead th {\n",
       "        text-align: right;\n",
       "    }\n",
       "</style>\n",
       "<table border=\"1\" class=\"dataframe\">\n",
       "  <thead>\n",
       "    <tr style=\"text-align: right;\">\n",
       "      <th></th>\n",
       "      <th>mean radius</th>\n",
       "      <th>mean texture</th>\n",
       "      <th>mean perimeter</th>\n",
       "      <th>mean area</th>\n",
       "      <th>mean smoothness</th>\n",
       "      <th>mean compactness</th>\n",
       "      <th>mean concavity</th>\n",
       "      <th>mean concave points</th>\n",
       "      <th>mean symmetry</th>\n",
       "      <th>mean fractal dimension</th>\n",
       "      <th>...</th>\n",
       "      <th>worst texture</th>\n",
       "      <th>worst perimeter</th>\n",
       "      <th>worst area</th>\n",
       "      <th>worst smoothness</th>\n",
       "      <th>worst compactness</th>\n",
       "      <th>worst concavity</th>\n",
       "      <th>worst concave points</th>\n",
       "      <th>worst symmetry</th>\n",
       "      <th>worst fractal dimension</th>\n",
       "      <th>class</th>\n",
       "    </tr>\n",
       "  </thead>\n",
       "  <tbody>\n",
       "    <tr>\n",
       "      <th>0</th>\n",
       "      <td>17.99</td>\n",
       "      <td>10.38</td>\n",
       "      <td>122.80</td>\n",
       "      <td>1001.0</td>\n",
       "      <td>0.11840</td>\n",
       "      <td>0.27760</td>\n",
       "      <td>0.3001</td>\n",
       "      <td>0.14710</td>\n",
       "      <td>0.2419</td>\n",
       "      <td>0.07871</td>\n",
       "      <td>...</td>\n",
       "      <td>17.33</td>\n",
       "      <td>184.60</td>\n",
       "      <td>2019.0</td>\n",
       "      <td>0.1622</td>\n",
       "      <td>0.6656</td>\n",
       "      <td>0.7119</td>\n",
       "      <td>0.2654</td>\n",
       "      <td>0.4601</td>\n",
       "      <td>0.11890</td>\n",
       "      <td>0</td>\n",
       "    </tr>\n",
       "    <tr>\n",
       "      <th>1</th>\n",
       "      <td>20.57</td>\n",
       "      <td>17.77</td>\n",
       "      <td>132.90</td>\n",
       "      <td>1326.0</td>\n",
       "      <td>0.08474</td>\n",
       "      <td>0.07864</td>\n",
       "      <td>0.0869</td>\n",
       "      <td>0.07017</td>\n",
       "      <td>0.1812</td>\n",
       "      <td>0.05667</td>\n",
       "      <td>...</td>\n",
       "      <td>23.41</td>\n",
       "      <td>158.80</td>\n",
       "      <td>1956.0</td>\n",
       "      <td>0.1238</td>\n",
       "      <td>0.1866</td>\n",
       "      <td>0.2416</td>\n",
       "      <td>0.1860</td>\n",
       "      <td>0.2750</td>\n",
       "      <td>0.08902</td>\n",
       "      <td>0</td>\n",
       "    </tr>\n",
       "    <tr>\n",
       "      <th>2</th>\n",
       "      <td>19.69</td>\n",
       "      <td>21.25</td>\n",
       "      <td>130.00</td>\n",
       "      <td>1203.0</td>\n",
       "      <td>0.10960</td>\n",
       "      <td>0.15990</td>\n",
       "      <td>0.1974</td>\n",
       "      <td>0.12790</td>\n",
       "      <td>0.2069</td>\n",
       "      <td>0.05999</td>\n",
       "      <td>...</td>\n",
       "      <td>25.53</td>\n",
       "      <td>152.50</td>\n",
       "      <td>1709.0</td>\n",
       "      <td>0.1444</td>\n",
       "      <td>0.4245</td>\n",
       "      <td>0.4504</td>\n",
       "      <td>0.2430</td>\n",
       "      <td>0.3613</td>\n",
       "      <td>0.08758</td>\n",
       "      <td>0</td>\n",
       "    </tr>\n",
       "    <tr>\n",
       "      <th>3</th>\n",
       "      <td>11.42</td>\n",
       "      <td>20.38</td>\n",
       "      <td>77.58</td>\n",
       "      <td>386.1</td>\n",
       "      <td>0.14250</td>\n",
       "      <td>0.28390</td>\n",
       "      <td>0.2414</td>\n",
       "      <td>0.10520</td>\n",
       "      <td>0.2597</td>\n",
       "      <td>0.09744</td>\n",
       "      <td>...</td>\n",
       "      <td>26.50</td>\n",
       "      <td>98.87</td>\n",
       "      <td>567.7</td>\n",
       "      <td>0.2098</td>\n",
       "      <td>0.8663</td>\n",
       "      <td>0.6869</td>\n",
       "      <td>0.2575</td>\n",
       "      <td>0.6638</td>\n",
       "      <td>0.17300</td>\n",
       "      <td>0</td>\n",
       "    </tr>\n",
       "    <tr>\n",
       "      <th>4</th>\n",
       "      <td>20.29</td>\n",
       "      <td>14.34</td>\n",
       "      <td>135.10</td>\n",
       "      <td>1297.0</td>\n",
       "      <td>0.10030</td>\n",
       "      <td>0.13280</td>\n",
       "      <td>0.1980</td>\n",
       "      <td>0.10430</td>\n",
       "      <td>0.1809</td>\n",
       "      <td>0.05883</td>\n",
       "      <td>...</td>\n",
       "      <td>16.67</td>\n",
       "      <td>152.20</td>\n",
       "      <td>1575.0</td>\n",
       "      <td>0.1374</td>\n",
       "      <td>0.2050</td>\n",
       "      <td>0.4000</td>\n",
       "      <td>0.1625</td>\n",
       "      <td>0.2364</td>\n",
       "      <td>0.07678</td>\n",
       "      <td>0</td>\n",
       "    </tr>\n",
       "  </tbody>\n",
       "</table>\n",
       "<p>5 rows × 31 columns</p>\n",
       "</div>"
      ],
      "text/plain": [
       "   mean radius  mean texture  mean perimeter  mean area  mean smoothness  \\\n",
       "0        17.99         10.38          122.80     1001.0          0.11840   \n",
       "1        20.57         17.77          132.90     1326.0          0.08474   \n",
       "2        19.69         21.25          130.00     1203.0          0.10960   \n",
       "3        11.42         20.38           77.58      386.1          0.14250   \n",
       "4        20.29         14.34          135.10     1297.0          0.10030   \n",
       "\n",
       "   mean compactness  mean concavity  mean concave points  mean symmetry  \\\n",
       "0           0.27760          0.3001              0.14710         0.2419   \n",
       "1           0.07864          0.0869              0.07017         0.1812   \n",
       "2           0.15990          0.1974              0.12790         0.2069   \n",
       "3           0.28390          0.2414              0.10520         0.2597   \n",
       "4           0.13280          0.1980              0.10430         0.1809   \n",
       "\n",
       "   mean fractal dimension  ...    worst texture  worst perimeter  worst area  \\\n",
       "0                 0.07871  ...            17.33           184.60      2019.0   \n",
       "1                 0.05667  ...            23.41           158.80      1956.0   \n",
       "2                 0.05999  ...            25.53           152.50      1709.0   \n",
       "3                 0.09744  ...            26.50            98.87       567.7   \n",
       "4                 0.05883  ...            16.67           152.20      1575.0   \n",
       "\n",
       "   worst smoothness  worst compactness  worst concavity  worst concave points  \\\n",
       "0            0.1622             0.6656           0.7119                0.2654   \n",
       "1            0.1238             0.1866           0.2416                0.1860   \n",
       "2            0.1444             0.4245           0.4504                0.2430   \n",
       "3            0.2098             0.8663           0.6869                0.2575   \n",
       "4            0.1374             0.2050           0.4000                0.1625   \n",
       "\n",
       "   worst symmetry  worst fractal dimension  class  \n",
       "0          0.4601                  0.11890      0  \n",
       "1          0.2750                  0.08902      0  \n",
       "2          0.3613                  0.08758      0  \n",
       "3          0.6638                  0.17300      0  \n",
       "4          0.2364                  0.07678      0  \n",
       "\n",
       "[5 rows x 31 columns]"
      ]
     },
     "execution_count": 12,
     "metadata": {},
     "output_type": "execute_result"
    }
   ],
   "source": [
    "data.head()"
   ]
  },
  {
   "cell_type": "code",
   "execution_count": 13,
   "metadata": {},
   "outputs": [
    {
     "data": {
      "text/html": [
       "<div>\n",
       "<style scoped>\n",
       "    .dataframe tbody tr th:only-of-type {\n",
       "        vertical-align: middle;\n",
       "    }\n",
       "\n",
       "    .dataframe tbody tr th {\n",
       "        vertical-align: top;\n",
       "    }\n",
       "\n",
       "    .dataframe thead th {\n",
       "        text-align: right;\n",
       "    }\n",
       "</style>\n",
       "<table border=\"1\" class=\"dataframe\">\n",
       "  <thead>\n",
       "    <tr style=\"text-align: right;\">\n",
       "      <th></th>\n",
       "      <th>mean radius</th>\n",
       "      <th>mean texture</th>\n",
       "      <th>mean perimeter</th>\n",
       "      <th>mean area</th>\n",
       "      <th>mean smoothness</th>\n",
       "      <th>mean compactness</th>\n",
       "      <th>mean concavity</th>\n",
       "      <th>mean concave points</th>\n",
       "      <th>mean symmetry</th>\n",
       "      <th>mean fractal dimension</th>\n",
       "      <th>...</th>\n",
       "      <th>worst texture</th>\n",
       "      <th>worst perimeter</th>\n",
       "      <th>worst area</th>\n",
       "      <th>worst smoothness</th>\n",
       "      <th>worst compactness</th>\n",
       "      <th>worst concavity</th>\n",
       "      <th>worst concave points</th>\n",
       "      <th>worst symmetry</th>\n",
       "      <th>worst fractal dimension</th>\n",
       "      <th>class</th>\n",
       "    </tr>\n",
       "  </thead>\n",
       "  <tbody>\n",
       "    <tr>\n",
       "      <th>count</th>\n",
       "      <td>569.000000</td>\n",
       "      <td>569.000000</td>\n",
       "      <td>569.000000</td>\n",
       "      <td>569.000000</td>\n",
       "      <td>569.000000</td>\n",
       "      <td>569.000000</td>\n",
       "      <td>569.000000</td>\n",
       "      <td>569.000000</td>\n",
       "      <td>569.000000</td>\n",
       "      <td>569.000000</td>\n",
       "      <td>...</td>\n",
       "      <td>569.000000</td>\n",
       "      <td>569.000000</td>\n",
       "      <td>569.000000</td>\n",
       "      <td>569.000000</td>\n",
       "      <td>569.000000</td>\n",
       "      <td>569.000000</td>\n",
       "      <td>569.000000</td>\n",
       "      <td>569.000000</td>\n",
       "      <td>569.000000</td>\n",
       "      <td>569.000000</td>\n",
       "    </tr>\n",
       "    <tr>\n",
       "      <th>mean</th>\n",
       "      <td>14.127292</td>\n",
       "      <td>19.289649</td>\n",
       "      <td>91.969033</td>\n",
       "      <td>654.889104</td>\n",
       "      <td>0.096360</td>\n",
       "      <td>0.104341</td>\n",
       "      <td>0.088799</td>\n",
       "      <td>0.048919</td>\n",
       "      <td>0.181162</td>\n",
       "      <td>0.062798</td>\n",
       "      <td>...</td>\n",
       "      <td>25.677223</td>\n",
       "      <td>107.261213</td>\n",
       "      <td>880.583128</td>\n",
       "      <td>0.132369</td>\n",
       "      <td>0.254265</td>\n",
       "      <td>0.272188</td>\n",
       "      <td>0.114606</td>\n",
       "      <td>0.290076</td>\n",
       "      <td>0.083946</td>\n",
       "      <td>0.627417</td>\n",
       "    </tr>\n",
       "    <tr>\n",
       "      <th>std</th>\n",
       "      <td>3.524049</td>\n",
       "      <td>4.301036</td>\n",
       "      <td>24.298981</td>\n",
       "      <td>351.914129</td>\n",
       "      <td>0.014064</td>\n",
       "      <td>0.052813</td>\n",
       "      <td>0.079720</td>\n",
       "      <td>0.038803</td>\n",
       "      <td>0.027414</td>\n",
       "      <td>0.007060</td>\n",
       "      <td>...</td>\n",
       "      <td>6.146258</td>\n",
       "      <td>33.602542</td>\n",
       "      <td>569.356993</td>\n",
       "      <td>0.022832</td>\n",
       "      <td>0.157336</td>\n",
       "      <td>0.208624</td>\n",
       "      <td>0.065732</td>\n",
       "      <td>0.061867</td>\n",
       "      <td>0.018061</td>\n",
       "      <td>0.483918</td>\n",
       "    </tr>\n",
       "    <tr>\n",
       "      <th>min</th>\n",
       "      <td>6.981000</td>\n",
       "      <td>9.710000</td>\n",
       "      <td>43.790000</td>\n",
       "      <td>143.500000</td>\n",
       "      <td>0.052630</td>\n",
       "      <td>0.019380</td>\n",
       "      <td>0.000000</td>\n",
       "      <td>0.000000</td>\n",
       "      <td>0.106000</td>\n",
       "      <td>0.049960</td>\n",
       "      <td>...</td>\n",
       "      <td>12.020000</td>\n",
       "      <td>50.410000</td>\n",
       "      <td>185.200000</td>\n",
       "      <td>0.071170</td>\n",
       "      <td>0.027290</td>\n",
       "      <td>0.000000</td>\n",
       "      <td>0.000000</td>\n",
       "      <td>0.156500</td>\n",
       "      <td>0.055040</td>\n",
       "      <td>0.000000</td>\n",
       "    </tr>\n",
       "    <tr>\n",
       "      <th>25%</th>\n",
       "      <td>11.700000</td>\n",
       "      <td>16.170000</td>\n",
       "      <td>75.170000</td>\n",
       "      <td>420.300000</td>\n",
       "      <td>0.086370</td>\n",
       "      <td>0.064920</td>\n",
       "      <td>0.029560</td>\n",
       "      <td>0.020310</td>\n",
       "      <td>0.161900</td>\n",
       "      <td>0.057700</td>\n",
       "      <td>...</td>\n",
       "      <td>21.080000</td>\n",
       "      <td>84.110000</td>\n",
       "      <td>515.300000</td>\n",
       "      <td>0.116600</td>\n",
       "      <td>0.147200</td>\n",
       "      <td>0.114500</td>\n",
       "      <td>0.064930</td>\n",
       "      <td>0.250400</td>\n",
       "      <td>0.071460</td>\n",
       "      <td>0.000000</td>\n",
       "    </tr>\n",
       "    <tr>\n",
       "      <th>50%</th>\n",
       "      <td>13.370000</td>\n",
       "      <td>18.840000</td>\n",
       "      <td>86.240000</td>\n",
       "      <td>551.100000</td>\n",
       "      <td>0.095870</td>\n",
       "      <td>0.092630</td>\n",
       "      <td>0.061540</td>\n",
       "      <td>0.033500</td>\n",
       "      <td>0.179200</td>\n",
       "      <td>0.061540</td>\n",
       "      <td>...</td>\n",
       "      <td>25.410000</td>\n",
       "      <td>97.660000</td>\n",
       "      <td>686.500000</td>\n",
       "      <td>0.131300</td>\n",
       "      <td>0.211900</td>\n",
       "      <td>0.226700</td>\n",
       "      <td>0.099930</td>\n",
       "      <td>0.282200</td>\n",
       "      <td>0.080040</td>\n",
       "      <td>1.000000</td>\n",
       "    </tr>\n",
       "    <tr>\n",
       "      <th>75%</th>\n",
       "      <td>15.780000</td>\n",
       "      <td>21.800000</td>\n",
       "      <td>104.100000</td>\n",
       "      <td>782.700000</td>\n",
       "      <td>0.105300</td>\n",
       "      <td>0.130400</td>\n",
       "      <td>0.130700</td>\n",
       "      <td>0.074000</td>\n",
       "      <td>0.195700</td>\n",
       "      <td>0.066120</td>\n",
       "      <td>...</td>\n",
       "      <td>29.720000</td>\n",
       "      <td>125.400000</td>\n",
       "      <td>1084.000000</td>\n",
       "      <td>0.146000</td>\n",
       "      <td>0.339100</td>\n",
       "      <td>0.382900</td>\n",
       "      <td>0.161400</td>\n",
       "      <td>0.317900</td>\n",
       "      <td>0.092080</td>\n",
       "      <td>1.000000</td>\n",
       "    </tr>\n",
       "    <tr>\n",
       "      <th>max</th>\n",
       "      <td>28.110000</td>\n",
       "      <td>39.280000</td>\n",
       "      <td>188.500000</td>\n",
       "      <td>2501.000000</td>\n",
       "      <td>0.163400</td>\n",
       "      <td>0.345400</td>\n",
       "      <td>0.426800</td>\n",
       "      <td>0.201200</td>\n",
       "      <td>0.304000</td>\n",
       "      <td>0.097440</td>\n",
       "      <td>...</td>\n",
       "      <td>49.540000</td>\n",
       "      <td>251.200000</td>\n",
       "      <td>4254.000000</td>\n",
       "      <td>0.222600</td>\n",
       "      <td>1.058000</td>\n",
       "      <td>1.252000</td>\n",
       "      <td>0.291000</td>\n",
       "      <td>0.663800</td>\n",
       "      <td>0.207500</td>\n",
       "      <td>1.000000</td>\n",
       "    </tr>\n",
       "  </tbody>\n",
       "</table>\n",
       "<p>8 rows × 31 columns</p>\n",
       "</div>"
      ],
      "text/plain": [
       "       mean radius  mean texture  mean perimeter    mean area  \\\n",
       "count   569.000000    569.000000      569.000000   569.000000   \n",
       "mean     14.127292     19.289649       91.969033   654.889104   \n",
       "std       3.524049      4.301036       24.298981   351.914129   \n",
       "min       6.981000      9.710000       43.790000   143.500000   \n",
       "25%      11.700000     16.170000       75.170000   420.300000   \n",
       "50%      13.370000     18.840000       86.240000   551.100000   \n",
       "75%      15.780000     21.800000      104.100000   782.700000   \n",
       "max      28.110000     39.280000      188.500000  2501.000000   \n",
       "\n",
       "       mean smoothness  mean compactness  mean concavity  mean concave points  \\\n",
       "count       569.000000        569.000000      569.000000           569.000000   \n",
       "mean          0.096360          0.104341        0.088799             0.048919   \n",
       "std           0.014064          0.052813        0.079720             0.038803   \n",
       "min           0.052630          0.019380        0.000000             0.000000   \n",
       "25%           0.086370          0.064920        0.029560             0.020310   \n",
       "50%           0.095870          0.092630        0.061540             0.033500   \n",
       "75%           0.105300          0.130400        0.130700             0.074000   \n",
       "max           0.163400          0.345400        0.426800             0.201200   \n",
       "\n",
       "       mean symmetry  mean fractal dimension     ...      worst texture  \\\n",
       "count     569.000000              569.000000     ...         569.000000   \n",
       "mean        0.181162                0.062798     ...          25.677223   \n",
       "std         0.027414                0.007060     ...           6.146258   \n",
       "min         0.106000                0.049960     ...          12.020000   \n",
       "25%         0.161900                0.057700     ...          21.080000   \n",
       "50%         0.179200                0.061540     ...          25.410000   \n",
       "75%         0.195700                0.066120     ...          29.720000   \n",
       "max         0.304000                0.097440     ...          49.540000   \n",
       "\n",
       "       worst perimeter   worst area  worst smoothness  worst compactness  \\\n",
       "count       569.000000   569.000000        569.000000         569.000000   \n",
       "mean        107.261213   880.583128          0.132369           0.254265   \n",
       "std          33.602542   569.356993          0.022832           0.157336   \n",
       "min          50.410000   185.200000          0.071170           0.027290   \n",
       "25%          84.110000   515.300000          0.116600           0.147200   \n",
       "50%          97.660000   686.500000          0.131300           0.211900   \n",
       "75%         125.400000  1084.000000          0.146000           0.339100   \n",
       "max         251.200000  4254.000000          0.222600           1.058000   \n",
       "\n",
       "       worst concavity  worst concave points  worst symmetry  \\\n",
       "count       569.000000            569.000000      569.000000   \n",
       "mean          0.272188              0.114606        0.290076   \n",
       "std           0.208624              0.065732        0.061867   \n",
       "min           0.000000              0.000000        0.156500   \n",
       "25%           0.114500              0.064930        0.250400   \n",
       "50%           0.226700              0.099930        0.282200   \n",
       "75%           0.382900              0.161400        0.317900   \n",
       "max           1.252000              0.291000        0.663800   \n",
       "\n",
       "       worst fractal dimension       class  \n",
       "count               569.000000  569.000000  \n",
       "mean                  0.083946    0.627417  \n",
       "std                   0.018061    0.483918  \n",
       "min                   0.055040    0.000000  \n",
       "25%                   0.071460    0.000000  \n",
       "50%                   0.080040    1.000000  \n",
       "75%                   0.092080    1.000000  \n",
       "max                   0.207500    1.000000  \n",
       "\n",
       "[8 rows x 31 columns]"
      ]
     },
     "execution_count": 13,
     "metadata": {},
     "output_type": "execute_result"
    }
   ],
   "source": [
    "data.describe()"
   ]
  },
  {
   "cell_type": "code",
   "execution_count": 14,
   "metadata": {},
   "outputs": [
    {
     "data": {
      "text/plain": [
       "1    357\n",
       "0    212\n",
       "Name: class, dtype: int64"
      ]
     },
     "execution_count": 14,
     "metadata": {},
     "output_type": "execute_result"
    }
   ],
   "source": [
    "data['class'].value_counts()"
   ]
  },
  {
   "cell_type": "code",
   "execution_count": 15,
   "metadata": {},
   "outputs": [
    {
     "data": {
      "text/plain": [
       "array(['malignant', 'benign'], dtype='<U9')"
      ]
     },
     "execution_count": 15,
     "metadata": {},
     "output_type": "execute_result"
    }
   ],
   "source": [
    "breast_cancer.target_names"
   ]
  },
  {
   "cell_type": "code",
   "execution_count": 16,
   "metadata": {},
   "outputs": [
    {
     "data": {
      "text/html": [
       "<div>\n",
       "<style scoped>\n",
       "    .dataframe tbody tr th:only-of-type {\n",
       "        vertical-align: middle;\n",
       "    }\n",
       "\n",
       "    .dataframe tbody tr th {\n",
       "        vertical-align: top;\n",
       "    }\n",
       "\n",
       "    .dataframe thead tr th {\n",
       "        text-align: left;\n",
       "    }\n",
       "\n",
       "    .dataframe thead tr:last-of-type th {\n",
       "        text-align: right;\n",
       "    }\n",
       "</style>\n",
       "<table border=\"1\" class=\"dataframe\">\n",
       "  <thead>\n",
       "    <tr>\n",
       "      <th></th>\n",
       "      <th colspan=\"8\" halign=\"left\">area error</th>\n",
       "      <th colspan=\"2\" halign=\"left\">compactness error</th>\n",
       "      <th>...</th>\n",
       "      <th colspan=\"2\" halign=\"left\">worst symmetry</th>\n",
       "      <th colspan=\"8\" halign=\"left\">worst texture</th>\n",
       "    </tr>\n",
       "    <tr>\n",
       "      <th></th>\n",
       "      <th>count</th>\n",
       "      <th>mean</th>\n",
       "      <th>std</th>\n",
       "      <th>min</th>\n",
       "      <th>25%</th>\n",
       "      <th>50%</th>\n",
       "      <th>75%</th>\n",
       "      <th>max</th>\n",
       "      <th>count</th>\n",
       "      <th>mean</th>\n",
       "      <th>...</th>\n",
       "      <th>75%</th>\n",
       "      <th>max</th>\n",
       "      <th>count</th>\n",
       "      <th>mean</th>\n",
       "      <th>std</th>\n",
       "      <th>min</th>\n",
       "      <th>25%</th>\n",
       "      <th>50%</th>\n",
       "      <th>75%</th>\n",
       "      <th>max</th>\n",
       "    </tr>\n",
       "    <tr>\n",
       "      <th>class</th>\n",
       "      <th></th>\n",
       "      <th></th>\n",
       "      <th></th>\n",
       "      <th></th>\n",
       "      <th></th>\n",
       "      <th></th>\n",
       "      <th></th>\n",
       "      <th></th>\n",
       "      <th></th>\n",
       "      <th></th>\n",
       "      <th></th>\n",
       "      <th></th>\n",
       "      <th></th>\n",
       "      <th></th>\n",
       "      <th></th>\n",
       "      <th></th>\n",
       "      <th></th>\n",
       "      <th></th>\n",
       "      <th></th>\n",
       "      <th></th>\n",
       "      <th></th>\n",
       "    </tr>\n",
       "  </thead>\n",
       "  <tbody>\n",
       "    <tr>\n",
       "      <th>0</th>\n",
       "      <td>212.0</td>\n",
       "      <td>72.672406</td>\n",
       "      <td>61.355268</td>\n",
       "      <td>13.990</td>\n",
       "      <td>35.7625</td>\n",
       "      <td>58.455</td>\n",
       "      <td>94.00</td>\n",
       "      <td>542.20</td>\n",
       "      <td>212.0</td>\n",
       "      <td>0.032281</td>\n",
       "      <td>...</td>\n",
       "      <td>0.359225</td>\n",
       "      <td>0.6638</td>\n",
       "      <td>212.0</td>\n",
       "      <td>29.318208</td>\n",
       "      <td>5.434804</td>\n",
       "      <td>16.67</td>\n",
       "      <td>25.7825</td>\n",
       "      <td>28.945</td>\n",
       "      <td>32.69</td>\n",
       "      <td>49.54</td>\n",
       "    </tr>\n",
       "    <tr>\n",
       "      <th>1</th>\n",
       "      <td>357.0</td>\n",
       "      <td>21.135148</td>\n",
       "      <td>8.843472</td>\n",
       "      <td>6.802</td>\n",
       "      <td>15.2600</td>\n",
       "      <td>19.630</td>\n",
       "      <td>25.03</td>\n",
       "      <td>77.11</td>\n",
       "      <td>357.0</td>\n",
       "      <td>0.021438</td>\n",
       "      <td>...</td>\n",
       "      <td>0.298300</td>\n",
       "      <td>0.4228</td>\n",
       "      <td>357.0</td>\n",
       "      <td>23.515070</td>\n",
       "      <td>5.493955</td>\n",
       "      <td>12.02</td>\n",
       "      <td>19.5800</td>\n",
       "      <td>22.820</td>\n",
       "      <td>26.51</td>\n",
       "      <td>41.78</td>\n",
       "    </tr>\n",
       "  </tbody>\n",
       "</table>\n",
       "<p>2 rows × 240 columns</p>\n",
       "</div>"
      ],
      "text/plain": [
       "      area error                                                        \\\n",
       "           count       mean        std     min      25%     50%    75%   \n",
       "class                                                                    \n",
       "0          212.0  72.672406  61.355268  13.990  35.7625  58.455  94.00   \n",
       "1          357.0  21.135148   8.843472   6.802  15.2600  19.630  25.03   \n",
       "\n",
       "              compactness error            ...   worst symmetry          \\\n",
       "          max             count      mean  ...              75%     max   \n",
       "class                                      ...                            \n",
       "0      542.20             212.0  0.032281  ...         0.359225  0.6638   \n",
       "1       77.11             357.0  0.021438  ...         0.298300  0.4228   \n",
       "\n",
       "      worst texture                                                             \n",
       "              count       mean       std    min      25%     50%    75%    max  \n",
       "class                                                                           \n",
       "0             212.0  29.318208  5.434804  16.67  25.7825  28.945  32.69  49.54  \n",
       "1             357.0  23.515070  5.493955  12.02  19.5800  22.820  26.51  41.78  \n",
       "\n",
       "[2 rows x 240 columns]"
      ]
     },
     "execution_count": 16,
     "metadata": {},
     "output_type": "execute_result"
    }
   ],
   "source": [
    "data.groupby('class').describe()"
   ]
  },
  {
   "cell_type": "code",
   "execution_count": 17,
   "metadata": {},
   "outputs": [
    {
     "data": {
      "text/html": [
       "<div>\n",
       "<style scoped>\n",
       "    .dataframe tbody tr th:only-of-type {\n",
       "        vertical-align: middle;\n",
       "    }\n",
       "\n",
       "    .dataframe tbody tr th {\n",
       "        vertical-align: top;\n",
       "    }\n",
       "\n",
       "    .dataframe thead th {\n",
       "        text-align: right;\n",
       "    }\n",
       "</style>\n",
       "<table border=\"1\" class=\"dataframe\">\n",
       "  <thead>\n",
       "    <tr style=\"text-align: right;\">\n",
       "      <th></th>\n",
       "      <th>mean radius</th>\n",
       "      <th>mean texture</th>\n",
       "      <th>mean perimeter</th>\n",
       "      <th>mean area</th>\n",
       "      <th>mean smoothness</th>\n",
       "      <th>mean compactness</th>\n",
       "      <th>mean concavity</th>\n",
       "      <th>mean concave points</th>\n",
       "      <th>mean symmetry</th>\n",
       "      <th>mean fractal dimension</th>\n",
       "      <th>...</th>\n",
       "      <th>worst radius</th>\n",
       "      <th>worst texture</th>\n",
       "      <th>worst perimeter</th>\n",
       "      <th>worst area</th>\n",
       "      <th>worst smoothness</th>\n",
       "      <th>worst compactness</th>\n",
       "      <th>worst concavity</th>\n",
       "      <th>worst concave points</th>\n",
       "      <th>worst symmetry</th>\n",
       "      <th>worst fractal dimension</th>\n",
       "    </tr>\n",
       "    <tr>\n",
       "      <th>class</th>\n",
       "      <th></th>\n",
       "      <th></th>\n",
       "      <th></th>\n",
       "      <th></th>\n",
       "      <th></th>\n",
       "      <th></th>\n",
       "      <th></th>\n",
       "      <th></th>\n",
       "      <th></th>\n",
       "      <th></th>\n",
       "      <th></th>\n",
       "      <th></th>\n",
       "      <th></th>\n",
       "      <th></th>\n",
       "      <th></th>\n",
       "      <th></th>\n",
       "      <th></th>\n",
       "      <th></th>\n",
       "      <th></th>\n",
       "      <th></th>\n",
       "      <th></th>\n",
       "    </tr>\n",
       "  </thead>\n",
       "  <tbody>\n",
       "    <tr>\n",
       "      <th>0</th>\n",
       "      <td>17.462830</td>\n",
       "      <td>21.604906</td>\n",
       "      <td>115.365377</td>\n",
       "      <td>978.376415</td>\n",
       "      <td>0.102898</td>\n",
       "      <td>0.145188</td>\n",
       "      <td>0.160775</td>\n",
       "      <td>0.087990</td>\n",
       "      <td>0.192909</td>\n",
       "      <td>0.062680</td>\n",
       "      <td>...</td>\n",
       "      <td>21.134811</td>\n",
       "      <td>29.318208</td>\n",
       "      <td>141.370330</td>\n",
       "      <td>1422.286321</td>\n",
       "      <td>0.144845</td>\n",
       "      <td>0.374824</td>\n",
       "      <td>0.450606</td>\n",
       "      <td>0.182237</td>\n",
       "      <td>0.323468</td>\n",
       "      <td>0.091530</td>\n",
       "    </tr>\n",
       "    <tr>\n",
       "      <th>1</th>\n",
       "      <td>12.146524</td>\n",
       "      <td>17.914762</td>\n",
       "      <td>78.075406</td>\n",
       "      <td>462.790196</td>\n",
       "      <td>0.092478</td>\n",
       "      <td>0.080085</td>\n",
       "      <td>0.046058</td>\n",
       "      <td>0.025717</td>\n",
       "      <td>0.174186</td>\n",
       "      <td>0.062867</td>\n",
       "      <td>...</td>\n",
       "      <td>13.379801</td>\n",
       "      <td>23.515070</td>\n",
       "      <td>87.005938</td>\n",
       "      <td>558.899440</td>\n",
       "      <td>0.124959</td>\n",
       "      <td>0.182673</td>\n",
       "      <td>0.166238</td>\n",
       "      <td>0.074444</td>\n",
       "      <td>0.270246</td>\n",
       "      <td>0.079442</td>\n",
       "    </tr>\n",
       "  </tbody>\n",
       "</table>\n",
       "<p>2 rows × 30 columns</p>\n",
       "</div>"
      ],
      "text/plain": [
       "       mean radius  mean texture  mean perimeter   mean area  mean smoothness  \\\n",
       "class                                                                           \n",
       "0        17.462830     21.604906      115.365377  978.376415         0.102898   \n",
       "1        12.146524     17.914762       78.075406  462.790196         0.092478   \n",
       "\n",
       "       mean compactness  mean concavity  mean concave points  mean symmetry  \\\n",
       "class                                                                         \n",
       "0              0.145188        0.160775             0.087990       0.192909   \n",
       "1              0.080085        0.046058             0.025717       0.174186   \n",
       "\n",
       "       mean fractal dimension           ...             worst radius  \\\n",
       "class                                   ...                            \n",
       "0                    0.062680           ...                21.134811   \n",
       "1                    0.062867           ...                13.379801   \n",
       "\n",
       "       worst texture  worst perimeter   worst area  worst smoothness  \\\n",
       "class                                                                  \n",
       "0          29.318208       141.370330  1422.286321          0.144845   \n",
       "1          23.515070        87.005938   558.899440          0.124959   \n",
       "\n",
       "       worst compactness  worst concavity  worst concave points  \\\n",
       "class                                                             \n",
       "0               0.374824         0.450606              0.182237   \n",
       "1               0.182673         0.166238              0.074444   \n",
       "\n",
       "       worst symmetry  worst fractal dimension  \n",
       "class                                           \n",
       "0            0.323468                 0.091530  \n",
       "1            0.270246                 0.079442  \n",
       "\n",
       "[2 rows x 30 columns]"
      ]
     },
     "execution_count": 17,
     "metadata": {},
     "output_type": "execute_result"
    }
   ],
   "source": [
    "data.groupby('class').mean()"
   ]
  },
  {
   "cell_type": "markdown",
   "metadata": {},
   "source": [
    "## Splitting training and testing datasets"
   ]
  },
  {
   "cell_type": "code",
   "execution_count": 18,
   "metadata": {},
   "outputs": [],
   "source": [
    "from sklearn.model_selection import train_test_split as tts"
   ]
  },
  {
   "cell_type": "code",
   "execution_count": 19,
   "metadata": {},
   "outputs": [],
   "source": [
    "x=data.drop('class',axis=1)\n",
    "y=data['class']"
   ]
  },
  {
   "cell_type": "code",
   "execution_count": 20,
   "metadata": {},
   "outputs": [
    {
     "data": {
      "text/plain": [
       "pandas.core.frame.DataFrame"
      ]
     },
     "execution_count": 20,
     "metadata": {},
     "output_type": "execute_result"
    }
   ],
   "source": [
    "type(x)"
   ]
  },
  {
   "cell_type": "code",
   "execution_count": 21,
   "metadata": {},
   "outputs": [],
   "source": [
    "x_train,x_test,y_train,y_test=tts(x,y)"
   ]
  },
  {
   "cell_type": "code",
   "execution_count": 22,
   "metadata": {},
   "outputs": [
    {
     "name": "stdout",
     "output_type": "stream",
     "text": [
      "(426, 30) (143, 30) (426,) (143,)\n"
     ]
    }
   ],
   "source": [
    "print(x_train.shape,x_test.shape,y_train.shape,y_test.shape)"
   ]
  },
  {
   "cell_type": "code",
   "execution_count": 23,
   "metadata": {},
   "outputs": [],
   "source": [
    "x_train,x_test,y_train,y_test=tts(x,y,test_size=0.1)"
   ]
  },
  {
   "cell_type": "code",
   "execution_count": 24,
   "metadata": {},
   "outputs": [
    {
     "name": "stdout",
     "output_type": "stream",
     "text": [
      "(512, 30) (57, 30) (512,) (57,)\n"
     ]
    }
   ],
   "source": [
    "print(x_train.shape,x_test.shape,y_train.shape,y_test.shape)"
   ]
  },
  {
   "cell_type": "code",
   "execution_count": 25,
   "metadata": {},
   "outputs": [
    {
     "name": "stdout",
     "output_type": "stream",
     "text": [
      "0.6274165202108963 0.630859375 0.5964912280701754\n"
     ]
    }
   ],
   "source": [
    "print(y.mean(),y_train.mean(),y_test.mean())"
   ]
  },
  {
   "cell_type": "markdown",
   "metadata": {},
   "source": [
    "### Making mean almost similar of train and test data as of original data"
   ]
  },
  {
   "cell_type": "code",
   "execution_count": 26,
   "metadata": {},
   "outputs": [],
   "source": [
    "x_train,x_test,y_train,y_test=tts(x, y, test_size=0.1, stratify=y)"
   ]
  },
  {
   "cell_type": "code",
   "execution_count": 27,
   "metadata": {},
   "outputs": [
    {
     "name": "stdout",
     "output_type": "stream",
     "text": [
      "0.6274165202108963 0.626953125 0.631578947368421\n"
     ]
    }
   ],
   "source": [
    "print(y.mean(),y_train.mean(),y_test.mean())"
   ]
  },
  {
   "cell_type": "markdown",
   "metadata": {},
   "source": [
    "### When we run tts it splits in random way each time, so to reproduce same tts we use:"
   ]
  },
  {
   "cell_type": "code",
   "execution_count": 28,
   "metadata": {},
   "outputs": [],
   "source": [
    "x_train,x_test,y_train,y_test=tts(x, y, test_size=0.1, stratify=y, random_state=1) #Random state is any integer"
   ]
  },
  {
   "cell_type": "code",
   "execution_count": 29,
   "metadata": {},
   "outputs": [
    {
     "name": "stdout",
     "output_type": "stream",
     "text": [
      "mean radius                 14.127292\n",
      "mean texture                19.289649\n",
      "mean perimeter              91.969033\n",
      "mean area                  654.889104\n",
      "mean smoothness              0.096360\n",
      "mean compactness             0.104341\n",
      "mean concavity               0.088799\n",
      "mean concave points          0.048919\n",
      "mean symmetry                0.181162\n",
      "mean fractal dimension       0.062798\n",
      "radius error                 0.405172\n",
      "texture error                1.216853\n",
      "perimeter error              2.866059\n",
      "area error                  40.337079\n",
      "smoothness error             0.007041\n",
      "compactness error            0.025478\n",
      "concavity error              0.031894\n",
      "concave points error         0.011796\n",
      "symmetry error               0.020542\n",
      "fractal dimension error      0.003795\n",
      "worst radius                16.269190\n",
      "worst texture               25.677223\n",
      "worst perimeter            107.261213\n",
      "worst area                 880.583128\n",
      "worst smoothness             0.132369\n",
      "worst compactness            0.254265\n",
      "worst concavity              0.272188\n",
      "worst concave points         0.114606\n",
      "worst symmetry               0.290076\n",
      "worst fractal dimension      0.083946\n",
      "dtype: float64 mean radius                 14.058656\n",
      "mean texture                19.309668\n",
      "mean perimeter              91.530488\n",
      "mean area                  648.097266\n",
      "mean smoothness              0.096568\n",
      "mean compactness             0.105144\n",
      "mean concavity               0.089342\n",
      "mean concave points          0.048892\n",
      "mean symmetry                0.181961\n",
      "mean fractal dimension       0.062979\n",
      "radius error                 0.403659\n",
      "texture error                1.206856\n",
      "perimeter error              2.861173\n",
      "area error                  39.935506\n",
      "smoothness error             0.007067\n",
      "compactness error            0.025681\n",
      "concavity error              0.032328\n",
      "concave points error         0.011963\n",
      "symmetry error               0.020584\n",
      "fractal dimension error      0.003815\n",
      "worst radius                16.194275\n",
      "worst texture               25.644902\n",
      "worst perimeter            106.757715\n",
      "worst area                 871.647852\n",
      "worst smoothness             0.132592\n",
      "worst compactness            0.257415\n",
      "worst concavity              0.275623\n",
      "worst concave points         0.115454\n",
      "worst symmetry               0.291562\n",
      "worst fractal dimension      0.084402\n",
      "dtype: float64 mean radius                 14.743807\n",
      "mean texture                19.109825\n",
      "mean perimeter              95.908246\n",
      "mean area                  715.896491\n",
      "mean smoothness              0.094496\n",
      "mean compactness             0.097130\n",
      "mean concavity               0.083923\n",
      "mean concave points          0.049159\n",
      "mean symmetry                0.173981\n",
      "mean fractal dimension       0.061169\n",
      "radius error                 0.418767\n",
      "texture error                1.306656\n",
      "perimeter error              2.909946\n",
      "area error                  43.944193\n",
      "smoothness error             0.006809\n",
      "compactness error            0.023659\n",
      "concavity error              0.027989\n",
      "concave points error         0.010293\n",
      "symmetry error               0.020169\n",
      "fractal dimension error      0.003618\n",
      "worst radius                16.942105\n",
      "worst texture               25.967544\n",
      "worst perimeter            111.783860\n",
      "worst area                 960.843860\n",
      "worst smoothness             0.130357\n",
      "worst compactness            0.225973\n",
      "worst concavity              0.241340\n",
      "worst concave points         0.106994\n",
      "worst symmetry               0.276719\n",
      "worst fractal dimension      0.079852\n",
      "dtype: float64\n"
     ]
    }
   ],
   "source": [
    "print(x.mean(),x_train.mean(),x_test.mean())"
   ]
  },
  {
   "cell_type": "markdown",
   "metadata": {},
   "source": [
    "## Binarization Of Input"
   ]
  },
  {
   "cell_type": "code",
   "execution_count": 30,
   "metadata": {},
   "outputs": [],
   "source": [
    "import matplotlib.pyplot as plt"
   ]
  },
  {
   "cell_type": "code",
   "execution_count": 31,
   "metadata": {},
   "outputs": [
    {
     "data": {
      "image/png": "[encoded data removed]",
      "text/plain": [
       "<Figure size 432x288 with 1 Axes>"
      ]
     },
     "metadata": {
      "needs_background": "light"
     },
     "output_type": "display_data"
    }
   ],
   "source": [
    "plt.plot(x_train.T, '+')\n",
    "plt.xticks(rotation='vertical')\n",
    "plt.show()"
   ]
  },
  {
   "cell_type": "markdown",
   "metadata": {},
   "source": [
    "### Manually binarising the column "
   ]
  },
  {
   "cell_type": "code",
   "execution_count": 32,
   "metadata": {},
   "outputs": [],
   "source": [
    "x_binarised_3_train=x_train['mean area'].map(lambda x: 0 if x<1000 else 1)"
   ]
  },
  {
   "cell_type": "code",
   "execution_count": 33,
   "metadata": {},
   "outputs": [
    {
     "data": {
      "text/plain": [
       "[<matplotlib.lines.Line2D at 0x1984e8afeb8>]"
      ]
     },
     "execution_count": 33,
     "metadata": {},
     "output_type": "execute_result"
    },
    {
     "data": {
      "image/png": "[encoded data removed]",
      "text/plain": [
       "<Figure size 432x288 with 1 Axes>"
      ]
     },
     "metadata": {
      "needs_background": "light"
     },
     "output_type": "display_data"
    }
   ],
   "source": [
    "plt.plot(x_binarised_3_train, '+')\n",
    "#plt.show()"
   ]
  },
  {
   "cell_type": "markdown",
   "metadata": {},
   "source": [
    "### Binarising by the help of library of pandas"
   ]
  },
  {
   "cell_type": "code",
   "execution_count": 34,
   "metadata": {},
   "outputs": [],
   "source": [
    "x_binarised_train=x_train.apply(pd.cut,bins=2,labels=[1,0]) #Case Sensitive"
   ]
  },
  {
   "cell_type": "code",
   "execution_count": 35,
   "metadata": {},
   "outputs": [
    {
     "data": {
      "image/png": "[encoded data removed]",
      "text/plain": [
       "<Figure size 432x288 with 1 Axes>"
      ]
     },
     "metadata": {
      "needs_background": "light"
     },
     "output_type": "display_data"
    }
   ],
   "source": [
    "plt.plot(x_binarised_train.T, '+')\n",
    "plt.xticks(rotation='vertical')\n",
    "plt.show()"
   ]
  },
  {
   "cell_type": "code",
   "execution_count": 36,
   "metadata": {},
   "outputs": [],
   "source": [
    "x_binarised_test=x_test.apply(pd.cut,bins=2,labels=[1,0]) #Case Sensitive"
   ]
  },
  {
   "cell_type": "markdown",
   "metadata": {},
   "source": [
    "Converted the pandas dataframe into numpy arrays for manipulation"
   ]
  },
  {
   "cell_type": "code",
   "execution_count": 37,
   "metadata": {},
   "outputs": [],
   "source": [
    "x_binarised_test=x_binarised_test.values\n",
    "x_binarised_train=x_binarised_train.values"
   ]
  },
  {
   "cell_type": "code",
   "execution_count": 38,
   "metadata": {},
   "outputs": [
    {
     "data": {
      "text/plain": [
       "numpy.ndarray"
      ]
     },
     "execution_count": 38,
     "metadata": {},
     "output_type": "execute_result"
    }
   ],
   "source": [
    "type(x_binarised_test)"
   ]
  },
  {
   "cell_type": "code",
   "execution_count": 39,
   "metadata": {},
   "outputs": [
    {
     "data": {
      "text/plain": [
       "pandas.core.series.Series"
      ]
     },
     "execution_count": 39,
     "metadata": {},
     "output_type": "execute_result"
    }
   ],
   "source": [
    "type(x_binarised_3_train)"
   ]
  },
  {
   "cell_type": "markdown",
   "metadata": {},
   "source": [
    "## MP neuron model working"
   ]
  },
  {
   "cell_type": "code",
   "execution_count": 40,
   "metadata": {},
   "outputs": [
    {
     "name": "stdout",
     "output_type": "stream",
     "text": [
      "321 0.626953125\n"
     ]
    }
   ],
   "source": [
    "b=3\n",
    "\n",
    "y_pred_train=[]\n",
    "accurate_rows=0\n",
    "\n",
    "for x,y in zip(x_binarised_train,y_train):\n",
    "    y_pred = (np.sum(x) >= b)\n",
    "    y_pred_train.append(y_pred)\n",
    "    accurate_rows += (y == y_pred)\n",
    "    \n",
    "print(accurate_rows, accurate_rows/x_binarised_train.shape[0])"
   ]
  },
  {
   "cell_type": "code",
   "execution_count": 110,
   "metadata": {},
   "outputs": [
    {
     "name": "stdout",
     "output_type": "stream",
     "text": [
      "0 0.626953125\n",
      "1 0.626953125\n",
      "2 0.626953125\n",
      "3 0.626953125\n",
      "4 0.626953125\n",
      "5 0.626953125\n",
      "6 0.626953125\n",
      "7 0.626953125\n",
      "8 0.626953125\n",
      "9 0.626953125\n",
      "10 0.626953125\n",
      "11 0.626953125\n",
      "12 0.626953125\n",
      "13 0.626953125\n",
      "14 0.630859375\n",
      "15 0.6328125\n",
      "16 0.642578125\n",
      "17 0.6484375\n",
      "18 0.65625\n",
      "19 0.6640625\n",
      "20 0.671875\n",
      "21 0.6875\n",
      "22 0.701171875\n",
      "23 0.724609375\n",
      "24 0.755859375\n",
      "25 0.78515625\n",
      "26 0.818359375\n",
      "27 0.845703125\n",
      "28 0.849609375\n",
      "29 0.814453125\n",
      "30 0.759765625\n"
     ]
    },
    {
     "data": {
      "image/png": "[encoded data removed]",
      "text/plain": [
       "<Figure size 432x288 with 1 Axes>"
      ]
     },
     "metadata": {
      "needs_background": "light"
     },
     "output_type": "display_data"
    }
   ],
   "source": [
    "for b in range(x_binarised_train.shape[1]+1):\n",
    "    y_pred_train=[]\n",
    "    accurate_rows=0\n",
    "\n",
    "    for x,y in zip(x_binarised_train,y_train):\n",
    "        y_pred = (np.sum(x) >= b)\n",
    "        y_pred_train.append(y_pred)\n",
    "        accurate_rows += (y == y_pred)\n",
    "    \n",
    "    print(b, accurate_rows/x_binarised_train.shape[0])\n",
    "    plt.plot(accurate_rows/x_binarised_train.shape[0],'*')\n",
    "    plt.ylim(0.5,1)\n",
    "    plt.xlim(0,30)\n",
    "plt.show()"
   ]
  },
  {
   "cell_type": "markdown",
   "metadata": {},
   "source": [
    "### working on test data"
   ]
  },
  {
   "cell_type": "code",
   "execution_count": 42,
   "metadata": {},
   "outputs": [],
   "source": [
    "from sklearn.metrics import accuracy_score"
   ]
  },
  {
   "cell_type": "code",
   "execution_count": 43,
   "metadata": {},
   "outputs": [
    {
     "name": "stdout",
     "output_type": "stream",
     "text": [
      "28 0.7894736842105263\n"
     ]
    }
   ],
   "source": [
    "b=28\n",
    "y_pred_test=[]\n",
    "accurate_rows=0\n",
    "\n",
    "for x in x_binarised_test:\n",
    "    y_pred = (np.sum(x) >= b)\n",
    "    y_pred_test.append(y_pred)\n",
    "    \n",
    "accuracy= accuracy_score(y_pred_test,y_test)\n",
    "    \n",
    "print(b, accuracy)"
   ]
  },
  {
   "cell_type": "markdown",
   "metadata": {},
   "source": [
    "## MP Neuron Class"
   ]
  },
  {
   "cell_type": "code",
   "execution_count": 44,
   "metadata": {},
   "outputs": [],
   "source": [
    "class MPneuron:\n",
    "    def __init__(self):\n",
    "        self.b = None\n",
    "    \n",
    "    def model(self, x):\n",
    "        return (sum(x) >= self.b)\n",
    "    \n",
    "    def predict(self, X):\n",
    "        Y = []\n",
    "        for x in X:\n",
    "            result = self.model(x)\n",
    "            Y.append(result)\n",
    "        return np.array(Y)\n",
    "    \n",
    "    def fit(self, X, Y_test):\n",
    "        accuracy= {}\n",
    "        \n",
    "        for b in range(X.shape[1] + 1):\n",
    "            self.b=b\n",
    "            y_pred=self.predict(X)\n",
    "            accuracy[b]=accuracy_score(y_pred,Y_test)\n",
    "        \n",
    "        best_b=max(accuracy, key=accuracy.get)\n",
    "        self.b=best_b\n",
    "        \n",
    "        print(\"Optimal value of b is \", best_b)\n",
    "        print(\"Highest accuracy is\",accuracy[best_b])"
   ]
  },
  {
   "cell_type": "code",
   "execution_count": 45,
   "metadata": {},
   "outputs": [
    {
     "name": "stdout",
     "output_type": "stream",
     "text": [
      "Optimal value of b is  28\n",
      "Highest accuracy is 0.849609375\n"
     ]
    }
   ],
   "source": [
    "mp=MPneuron()\n",
    "mp.fit(x_binarised_train, y_train)"
   ]
  },
  {
   "cell_type": "code",
   "execution_count": 46,
   "metadata": {},
   "outputs": [
    {
     "data": {
      "text/plain": [
       "(512,)"
      ]
     },
     "execution_count": 46,
     "metadata": {},
     "output_type": "execute_result"
    }
   ],
   "source": [
    "y_train.shape"
   ]
  },
  {
   "cell_type": "code",
   "execution_count": 47,
   "metadata": {},
   "outputs": [
    {
     "data": {
      "text/plain": [
       "(512,)"
      ]
     },
     "execution_count": 47,
     "metadata": {},
     "output_type": "execute_result"
    }
   ],
   "source": [
    "y_train.shape"
   ]
  },
  {
   "cell_type": "code",
   "execution_count": 48,
   "metadata": {},
   "outputs": [
    {
     "data": {
      "text/plain": [
       "array([[1, 1, 1, ..., 1, 1, 0],\n",
       "       [0, 0, 0, ..., 0, 0, 0],\n",
       "       [1, 1, 1, ..., 1, 1, 1],\n",
       "       ...,\n",
       "       [1, 1, 1, ..., 1, 0, 1],\n",
       "       [0, 0, 0, ..., 0, 0, 0],\n",
       "       [1, 1, 1, ..., 1, 1, 1]], dtype=object)"
      ]
     },
     "execution_count": 48,
     "metadata": {},
     "output_type": "execute_result"
    }
   ],
   "source": [
    "np.array(x_binarised_test)"
   ]
  },
  {
   "cell_type": "code",
   "execution_count": 49,
   "metadata": {},
   "outputs": [],
   "source": [
    "y_test_pred=mp.predict(x_binarised_test)\n",
    "acc_test=accuracy_score(y_test_pred,y_test)"
   ]
  },
  {
   "cell_type": "code",
   "execution_count": 50,
   "metadata": {},
   "outputs": [
    {
     "data": {
      "text/plain": [
       "0.7894736842105263"
      ]
     },
     "execution_count": 50,
     "metadata": {},
     "output_type": "execute_result"
    }
   ],
   "source": [
    "acc_test"
   ]
  },
  {
   "cell_type": "markdown",
   "metadata": {},
   "source": [
    "## Perceptron Class"
   ]
  },
  {
   "cell_type": "markdown",
   "metadata": {},
   "source": [
    "$y=1, \\mbox{if} \\sum_i w_i x_i >= b$\n",
    "\n",
    "$y=0 , \\mbox{otherwise}$"
   ]
  },
  {
   "cell_type": "code",
   "execution_count": 51,
   "metadata": {},
   "outputs": [],
   "source": [
    "class perceptron:\n",
    "    \n",
    "    def __init__(self):\n",
    "        self.b=None\n",
    "        self.w=None\n",
    "        \n",
    "    def model(self,x):\n",
    "        return 1 if (np.dot(self.w,x) >=self.b) else 0\n",
    "        \n",
    "    def predict(self,X):\n",
    "        Y=[]\n",
    "        for x in X:\n",
    "            result=self.model(x)\n",
    "            Y.append(result)\n",
    "        return np.array(Y)\n",
    "        \n",
    "    \n",
    "    def fit(self,X,Y):\n",
    "        self.w=np.ones(X.shape[1])\n",
    "        self.b=0\n",
    "        \n",
    "        for x,y in zip(X,Y):\n",
    "            y_percep_pred=self.model(x)\n",
    "            if y==1 and y_percep_pred == 0:\n",
    "                self.w +=x\n",
    "                self.b+=1\n",
    "            elif y==0 and y_percep_pred == 1:\n",
    "                self.w-=x\n",
    "                self.b-=1"
   ]
  },
  {
   "cell_type": "code",
   "execution_count": 52,
   "metadata": {},
   "outputs": [],
   "source": [
    "percep=perceptron()"
   ]
  },
  {
   "cell_type": "code",
   "execution_count": 53,
   "metadata": {},
   "outputs": [
    {
     "data": {
      "text/plain": [
       "(512, 30)"
      ]
     },
     "execution_count": 53,
     "metadata": {},
     "output_type": "execute_result"
    }
   ],
   "source": [
    "x_train.shape"
   ]
  },
  {
   "cell_type": "code",
   "execution_count": 54,
   "metadata": {},
   "outputs": [],
   "source": [
    "x_train=x_train.values"
   ]
  },
  {
   "cell_type": "code",
   "execution_count": 55,
   "metadata": {},
   "outputs": [
    {
     "data": {
      "text/plain": [
       "numpy.ndarray"
      ]
     },
     "execution_count": 55,
     "metadata": {},
     "output_type": "execute_result"
    }
   ],
   "source": [
    "type(x_train)"
   ]
  },
  {
   "cell_type": "code",
   "execution_count": 56,
   "metadata": {},
   "outputs": [
    {
     "data": {
      "text/plain": [
       "pandas.core.frame.DataFrame"
      ]
     },
     "execution_count": 56,
     "metadata": {},
     "output_type": "execute_result"
    }
   ],
   "source": [
    "type(x_test)"
   ]
  },
  {
   "cell_type": "code",
   "execution_count": 57,
   "metadata": {},
   "outputs": [],
   "source": [
    "x_test=x_test.values"
   ]
  },
  {
   "cell_type": "code",
   "execution_count": 58,
   "metadata": {},
   "outputs": [
    {
     "data": {
      "text/plain": [
       "numpy.ndarray"
      ]
     },
     "execution_count": 58,
     "metadata": {},
     "output_type": "execute_result"
    }
   ],
   "source": [
    "type(x_test)"
   ]
  },
  {
   "cell_type": "code",
   "execution_count": 59,
   "metadata": {},
   "outputs": [],
   "source": [
    "percep.fit(x_train,y_train)"
   ]
  },
  {
   "cell_type": "code",
   "execution_count": 60,
   "metadata": {},
   "outputs": [
    {
     "data": {
      "image/png": "[encoded data removed]",
      "text/plain": [
       "<Figure size 432x288 with 1 Axes>"
      ]
     },
     "metadata": {},
     "output_type": "display_data"
    }
   ],
   "source": [
    "import seaborn as sns\n",
    "sns.set()\n",
    "plt.plot(percep.w)\n",
    "plt.show()"
   ]
  },
  {
   "cell_type": "code",
   "execution_count": 61,
   "metadata": {},
   "outputs": [
    {
     "name": "stdout",
     "output_type": "stream",
     "text": [
      "0.373046875\n"
     ]
    }
   ],
   "source": [
    "y_percep_pred=percep.predict(x_train)\n",
    "print(accuracy_score(y_percep_pred,y_train))"
   ]
  },
  {
   "cell_type": "code",
   "execution_count": 62,
   "metadata": {},
   "outputs": [
    {
     "name": "stdout",
     "output_type": "stream",
     "text": [
      "0.3684210526315789\n"
     ]
    }
   ],
   "source": [
    "y_percep_pred_test=percep.predict(x_test)\n",
    "print(accuracy_score(y_percep_pred_test,y_test))"
   ]
  },
  {
   "cell_type": "markdown",
   "metadata": {},
   "source": [
    "### Rewriting Perceptron class by adding epoch i.e. no. of iterations"
   ]
  },
  {
   "cell_type": "code",
   "execution_count": 63,
   "metadata": {},
   "outputs": [],
   "source": [
    "class perceptron_epoch:\n",
    "    \n",
    "    def __init__(self):\n",
    "        self.b=None\n",
    "        self.w=None\n",
    "        \n",
    "    def model(self,x):\n",
    "        return 1 if (np.dot(self.w,x) >=self.b) else 0\n",
    "        \n",
    "    def predict(self,X):\n",
    "        Y=[]\n",
    "        for x in X:\n",
    "            result=self.model(x)\n",
    "            Y.append(result)\n",
    "        return np.array(Y)\n",
    "        \n",
    "    \n",
    "    def fit(self,X,Y,epoch=1):\n",
    "        self.w=np.ones(X.shape[1])\n",
    "        self.b=0\n",
    "        accuracy ={}\n",
    "        max_accuracy=0\n",
    "        for i in range(epoch):\n",
    "            \n",
    "            for x,y in zip(X,Y):\n",
    "                y_percep_pred=self.model(x)\n",
    "                if y==1 and y_percep_pred == 0:\n",
    "                    self.w +=x\n",
    "                    self.b+=1\n",
    "                elif y==0 and y_percep_pred == 1:\n",
    "                    self.w-=x\n",
    "                    self.b-=1\n",
    "                    \n",
    "            accuracy[i]=accuracy_score(self.predict(X),Y)\n",
    "            if(accuracy[i]>max_accuracy):\n",
    "                max_accuracy=accuracy[i]\n",
    "                chkptw=self.w\n",
    "                chkptb=self.b\n",
    "                \n",
    "                \n",
    "        self.w=chkptw\n",
    "        self.b=chkptb\n",
    "        print(type(self.b),type(self.w))\n",
    "\n",
    "        \n",
    "        print(max_accuracy)\n",
    "        plt.plot(accuracy.values())\n",
    "        plt.show()\n",
    "                    \n",
    "                    \n",
    "                    "
   ]
  },
  {
   "cell_type": "code",
   "execution_count": 64,
   "metadata": {},
   "outputs": [],
   "source": [
    "percep_epoch=perceptron_epoch()"
   ]
  },
  {
   "cell_type": "code",
   "execution_count": 65,
   "metadata": {},
   "outputs": [
    {
     "name": "stdout",
     "output_type": "stream",
     "text": [
      "<class 'int'> <class 'numpy.ndarray'>\n",
      "0.921875\n"
     ]
    },
    {
     "data": {
      "image/png": "[encoded data removed]",
      "text/plain": [
       "<Figure size 432x288 with 1 Axes>"
      ]
     },
     "metadata": {},
     "output_type": "display_data"
    },
    {
     "name": "stdout",
     "output_type": "stream",
     "text": [
      "0.919921875\n"
     ]
    }
   ],
   "source": [
    "percep_epoch.fit(x_train,y_train,50)\n",
    "y_epoch_pred=percep_epoch.predict(x_train)\n",
    "print(accuracy_score(y_epoch_pred,y_train))"
   ]
  },
  {
   "cell_type": "code",
   "execution_count": 66,
   "metadata": {},
   "outputs": [
    {
     "name": "stdout",
     "output_type": "stream",
     "text": [
      "0.919921875\n"
     ]
    }
   ],
   "source": [
    "y_epoch_pred=percep_epoch.predict(x_train)\n",
    "print(accuracy_score(y_epoch_pred,y_train))"
   ]
  },
  {
   "cell_type": "markdown",
   "metadata": {},
   "source": [
    "### Rewriting  perceptron class by adding learning rate"
   ]
  },
  {
   "cell_type": "code",
   "execution_count": 73,
   "metadata": {},
   "outputs": [],
   "source": [
    "class perceptron_epoch_lr:\n",
    "    \n",
    "    def __init__(self):\n",
    "        self.b=None\n",
    "        self.w=None\n",
    "        \n",
    "    def model(self,x):\n",
    "        return 1 if (np.dot(self.w,x) >=self.b) else 0\n",
    "        \n",
    "    def predict(self,X):\n",
    "        Y=[]\n",
    "        for x in X:\n",
    "            result=self.model(x)\n",
    "            Y.append(result)\n",
    "        return np.array(Y)\n",
    "        \n",
    "    \n",
    "    def fit(self,X,Y,epoch=1,lr=1):\n",
    "        self.w=np.ones(X.shape[1])\n",
    "        self.b=0\n",
    "        accuracy ={}\n",
    "        max_accuracy=0\n",
    "        \n",
    "        wt_matrix=[]\n",
    "        for i in range(epoch):\n",
    "            \n",
    "            for x,y in zip(X,Y):\n",
    "                y_percep_pred=self.model(x)\n",
    "                if y==1 and y_percep_pred == 0:\n",
    "                    self.w +=lr*x\n",
    "                    self.b+=lr*1\n",
    "                elif y==0 and y_percep_pred == 1:\n",
    "                    self.w-=lr*x\n",
    "                    self.b-=lr*1\n",
    "            \n",
    "            wt_matrix.append(self.w)        \n",
    "            accuracy[i]=accuracy_score(self.predict(X),Y)\n",
    "            if(accuracy[i]>max_accuracy):\n",
    "                max_accuracy=accuracy[i]\n",
    "                chkptw=self.w\n",
    "                chkptb=self.b\n",
    "                \n",
    "                \n",
    "        self.w=chkptw\n",
    "        self.b=chkptb\n",
    "        print(type(self.b),type(self.w))\n",
    "\n",
    "        \n",
    "        print(max_accuracy)\n",
    "        plt.plot(accuracy.values())\n",
    "        plt.ylim(0,1)\n",
    "        plt.show()\n",
    "                    \n",
    "        return np.array(wt_matrix)            \n",
    "                    "
   ]
  },
  {
   "cell_type": "code",
   "execution_count": 74,
   "metadata": {},
   "outputs": [],
   "source": [
    "percep_epoch_lr=perceptron_epoch_lr()"
   ]
  },
  {
   "cell_type": "code",
   "execution_count": 87,
   "metadata": {},
   "outputs": [
    {
     "name": "stdout",
     "output_type": "stream",
     "text": [
      "<class 'int'> <class 'numpy.ndarray'>\n",
      "0.927734375\n"
     ]
    },
    {
     "data": {
      "image/png": "[encoded data removed]",
      "text/plain": [
       "<Figure size 432x288 with 1 Axes>"
      ]
     },
     "metadata": {
      "needs_background": "light"
     },
     "output_type": "display_data"
    },
    {
     "name": "stdout",
     "output_type": "stream",
     "text": [
      "0.9298245614035088\n"
     ]
    }
   ],
   "source": [
    "wt_matrix = percep_epoch_lr.fit(x_train,y_train,100)\n",
    "y_epoch_pred=percep_epoch_lr.predict(x_test)\n",
    "print(accuracy_score(y_epoch_pred,y_test))"
   ]
  },
  {
   "cell_type": "code",
   "execution_count": 88,
   "metadata": {},
   "outputs": [
    {
     "data": {
      "image/png": "[encoded data removed]",
      "text/plain": [
       "<Figure size 432x288 with 1 Axes>"
      ]
     },
     "metadata": {
      "needs_background": "light"
     },
     "output_type": "display_data"
    }
   ],
   "source": [
    "plt.plot(wt_matrix[-1,:])\n",
    "plt.show()"
   ]
  },
  {
   "cell_type": "markdown",
   "metadata": {},
   "source": [
    "## Matplotlib animations"
   ]
  },
  {
   "cell_type": "code",
   "execution_count": 89,
   "metadata": {},
   "outputs": [],
   "source": [
    "%matplotlib inline\n",
    "from matplotlib import animation, rc\n",
    "from IPython.display import HTML"
   ]
  },
  {
   "cell_type": "code",
   "execution_count": 90,
   "metadata": {},
   "outputs": [
    {
     "data": {
      "image/png": "[encoded data removed]",
      "text/plain": [
       "<Figure size 432x288 with 1 Axes>"
      ]
     },
     "metadata": {
      "needs_background": "light"
     },
     "output_type": "display_data"
    }
   ],
   "source": [
    "# First set up the figure, the axis, and the plot element we want to animate\n",
    "fig, ax = plt.subplots()\n",
    "\n",
    "ax.set_xlim(( 0, wt_matrix.shape[1]))\n",
    "ax.set_ylim((-15000, 25000))\n",
    "\n",
    "line, = ax.plot([], [], lw=2)"
   ]
  },
  {
   "cell_type": "code",
   "execution_count": 91,
   "metadata": {},
   "outputs": [],
   "source": [
    "# animation function. This is called sequentially\n",
    "def animate(i):\n",
    "    x = list(range(wt_matrix.shape[1]))\n",
    "    y = wt_matrix[i,:]\n",
    "    line.set_data(x, y)\n",
    "    return (line,)"
   ]
  },
  {
   "cell_type": "code",
   "execution_count": 98,
   "metadata": {},
   "outputs": [],
   "source": [
    "# call the animator. blit=True means only re-draw the parts that have changed.\n",
    "anim = animation.FuncAnimation(fig, animate,frames=100, interval=50, blit=True)"
   ]
  },
  {
   "cell_type": "code",
   "execution_count": 99,
   "metadata": {},
   "outputs": [
    {
     "data": {
      "text/html": [
       "<video width=\"432\" height=\"288\" controls autoplay loop>\n",
       "  <source type=\"video/mp4\" src=\"data:video/mp4;base64,AAAAHGZ0eXBNNFYgAAACAGlzb21pc28yYXZjMQAAAAhmcmVlAAAmPW1kYXQAAAKuBgX//6rcRem9\n",
       "5tlIt5Ys2CDZI+7veDI2NCAtIGNvcmUgMTU3IHIyOTY5IGQ0MDk5ZGQgLSBILjI2NC9NUEVHLTQg\n",
       "QVZDIGNvZGVjIC0gQ29weWxlZnQgMjAwMy0yMDE5IC0gaHR0cDovL3d3dy52aWRlb2xhbi5vcmcv\n",
       "eDI2NC5odG1sIC0gb3B0aW9uczogY2FiYWM9MSByZWY9MyBkZWJsb2NrPTE6MDowIGFuYWx5c2U9\n",
       "MHgzOjB4MTEzIG1lPWhleCBzdWJtZT03IHBzeT0xIHBzeV9yZD0xLjAwOjAuMDAgbWl4ZWRfcmVm\n",
       "PTEgbWVfcmFuZ2U9MTYgY2hyb21hX21lPTEgdHJlbGxpcz0xIDh4OGRjdD0xIGNxbT0wIGRlYWR6\n",
       "b25lPTIxLDExIGZhc3RfcHNraXA9MSBjaHJvbWFfcXBfb2Zmc2V0PS0yIHRocmVhZHM9NiBsb29r\n",
       "YWhlYWRfdGhyZWFkcz0xIHNsaWNlZF90aHJlYWRzPTAgbnI9MCBkZWNpbWF0ZT0xIGludGVybGFj\n",
       "ZWQ9MCBibHVyYXlfY29tcGF0PTAgY29uc3RyYWluZWRfaW50cmE9MCBiZnJhbWVzPTMgYl9weXJh\n",
       "bWlkPTIgYl9hZGFwdD0xIGJfYmlhcz0wIGRpcmVjdD0xIHdlaWdodGI9MSBvcGVuX2dvcD0wIHdl\n",
       "aWdodHA9MiBrZXlpbnQ9MjUwIGtleWludF9taW49MjAgc2NlbmVjdXQ9NDAgaW50cmFfcmVmcmVz\n",
       "aD0wIHJjX2xvb2thaGVhZD00MCByYz1jcmYgbWJ0cmVlPTEgY3JmPTIzLjAgcWNvbXA9MC42MCBx\n",
       "cG1pbj0wIHFwbWF4PTY5IHFwc3RlcD00IGlwX3JhdGlvPTEuNDAgYXE9MToxLjAwAIAAABoFZYiE\n",
       "AD///vdonwKbWkN6gOSVxSXbT4H/q2dwfI/pAwAAAwABhz+CZY6hDuBnLNqezlBEBu7snZutzH73\n",
       "bqqjpbr7wswYiGtM8LJc7x9rIq/jVaYRuV4aQ61OPLZzGolvfOHl0GuikQiBaSQQT5Byo828DjK3\n",
       "Y1/zE79v3tuTirHOTvBgxsM0nHqCHwAAAwBR6EM2VX02qDQveDzrOWCGIhopluBxNrvOnatBn5Is\n",
       "GbbFLNVN+70sSRw6mjmfXCbrEiPjnwVpFkZ9yyd0SYoaVywwSO4TfBqoJKbwNt0Qv73GkeD64LL2\n",
       "Zibzzzv2Qw7X+17w++PDn0f1GruUht2M0NmxZ7MEYIcrkUAqpir42cBNm8zS2GdQB9a4sKa48UdU\n",
       "BkPn0tVx04V0MZ6WVBuqLRxaAW+3E/DBELPKdNTg4Bs4hXCoyNHLwW3jketX9s9JBMOsYlcJf+uF\n",
       "qD7RrgN9hyv33j5Z7bhBr9I6Z9EP+pp9YqLLXL0+ysTolYXBpNyfsM3pOoMT/9PjtAeZOOCYzhSd\n",
       "n9/sQKchDmXsirhc+b0fWnM3H08ol30f2sHNhGb6ybA/ySXDvD6q0w1Y1vuOOU2zKswrC6eNjeVF\n",
       "doyMiIZN68+7elgn68tpGCbcrCqHCNpWpahj0G2tRx8t4OV4BJTWIF37S08bnzrFRHDohtGAXXSF\n",
       "L4b1eJeTpGx//esIfxOCaTV5EZWmIfJhNSgmIxLGLFY/krCrxHiX3SsntC67WWeKuSWaGuiwSd/x\n",
       "2I4x3S0XfP05S/UBmkehIeIeOTbLD6QoErY3Wq1LUbj8L7uHeqTqy12gSDC+R2BPzSk+5z3Y3KDo\n",
       "m5fHcDD5CNBL7ZkspATnOW1GoEhadoFaInBu+MTU2oM01ljo8TiamBFGqeM857yneMilar7wgQkE\n",
       "FrkI/F1EWZqX//98Awf2i+YdPfo/AmkTiq8kcu4/YN8ydAUTEsjIpTy4OZZjc9VNBKGGXtC2R0ck\n",
       "IWvt8vHPPO8HSy5nZosxQ9jJn16E84DgFePyTJddjUIH5gV2XORzz2rErYDUlO+wAVjO9UiJMBzQ\n",
       "kK+gIb9V1/tdPLLf5cyLtujR0/0IAQFC1b4c+OXBPUSlIsY0EVhXN+o3ZdykUnFGIgekqFzqDwO6\n",
       "2bb95ICV4QoNwzDcSbOSib2UvrjkRT7KZ8f1RkcZyPmfSUedR7KQ8YR/9JfKGKQOHPkvHL3xakJt\n",
       "W12LiFaJ085bc+ytQ7/udV/sMT/TOoq86Eh0+VRQ7bgQehL8Q2rh2VHzPUyQG3InBt/SOB97r2tk\n",
       "NTvNITmUELcVlicI95JScaGvrib8oQPW6WFNFOl1u1xEshW6nDLt6Xbt+11eDbisZ0cLwK2/2QFy\n",
       "0/TzcmH5lVs9+GhS6jK7D56pBGeJvgPAF+TzkUBV5KWDpbtAX+1u9mgH+Kix5q6dW0mRCeKpgO2n\n",
       "ZirBQ925+cb09uGJyngHfKFUbzT7tzqmARVwktHmD1pzA21ULObgII4AGQASyYkXG7lR27SAfojE\n",
       "EDf5S7snpKytJOXqJv/tN4Tmb9acg/avZk9VXd9BSorse8nlneC5aRnEflTVDvd9n2nLSCvXWklG\n",
       "GYu/8N++/melGQKio7AmElniZDlhsppgOybXbdhuc4R0Bdz6myb1FVE3Er7Wcpc0/dS2CG4o+Bon\n",
       "lJ3CfaTpEa9cNoE/W74S9Ch0e/ymfqnB7U/RydFc4kcVNeBohz1OhWbOWvIuLDHJfSnmvffq308m\n",
       "Ddf/wrW5OtxLiJzCdCvWE3iDiDcJvaxYyUchqvFSIcllF7yEF14JQSc1jMClBaofbsf1K/33JrcC\n",
       "PMv0C3EiylHMQRSV/WwMLAyhORzeHhpI6NosaxjZdGn9EWdlz/ReVwl8Qtb6pcOx3hXhuvoWVhrT\n",
       "YjqrseID53W0g4fLUrKuyugxmDjmGplBeri1975F+yBAkaqGsPEvxNYucG1rXpgWtLiIqwGwU2cv\n",
       "CHFJ24De9neBFQSjYd3GHJrHuon3gIdBGA1gTjy+ZQpEWZZ69KF8sCqE/6ZrKhLgySqfbDQpmfoq\n",
       "3EZddkMAjmzRS5WjU2TOL0iXrIAYVAObYWheI4HtrJ8RJY34E6QQpjvyM/MRSZWr4TM0EUnwmqx9\n",
       "iaP7skj31jL6k4SpjnvUxHCR2xjyqdoHXNJkto9YL8TMV8+LuSx3nTBNqvIpo7+/yKNFu6J0K7dB\n",
       "EE0SS28Ck9+M/JaEM3Z1WmNPRIAo2XoWYNMyOY3CHi8y9AxDNvjVaRrc460Kw8jJIIfWZvpVqm7R\n",
       "EcduhygdNm9UxpxBoCC5+yWNp4eXY/sb0CEYhDD83CKizvfjBIz/7KkUPhM/i2imu4tdBTrCm4D9\n",
       "mvurFahSMcQHw7WjwJWWggganSi+FoWHuyH2gL1oyZ7GLY9p3OOc87kKLTn4rRCF7WmhOZYOvsq3\n",
       "NhhWHLA7llrMZiprqt+3PCCOYrlJ4GMCI4HCJgGBBTqOqdaddR1qn/r8Oq6r2ZJg+gH2MFqjV+Sq\n",
       "RdJV2RNjIpkylLzlF7ChFboZ9vVL72u2JfKdoBzHYK3y4G61gWhAdXQTZ1HL6sTrUWpP47ytCTvd\n",
       "utokCJKMZHgZRTltIacJ0oQQ+2vuOjjrYyJuCXM/i9CtJR4Yai5gNeJBDVm9rclmqlr2BqWOxOgq\n",
       "rTxls9f6ESBicILg/KygBDKlR+u7ZbyuQGRL0zGKULI8m0//tOsWTTRG1R74C9cq1zEUfMuuPke6\n",
       "QBH5Fhaupoib4BpO+O+bJtM6l3frBOGziyFesT9UDWj9XlTCmhYYpj7Rb9asaCLObygnEXAXZPj9\n",
       "RTivZYtETIwBSOL+2iRCQlOWEaCiqm/adov81J218WCBDCigBgjWkfWgb9HvAbHr+wFTvfA4HXMC\n",
       "x+zu+4ihE48lNFxZFw3ZbL75uswWwMlSSahz07r1fcgomLWV+/bpeh/gweYc7Ga35w51rmXLkpjp\n",
       "NUEJE7Pln0d4sjBRrzl5KVvIA6qjLZjqXy/gh5PeFjDafOROt16kb5BfEylt1d2fPsYyWTLwFJqx\n",
       "A01WTkkLjdz02NcgJE+38rPl5PLc0xUjz/qLmBFg6VnueCUyrlwVNJ+ghM7A6NGSiab+7uid5kVe\n",
       "2MD3XhA10iNrNO4rKsH9Kqe5rsLmLwxfQaIwE6RQahxDptIGGlwlXsNIAiEdFSyxZdv/9clSf4mR\n",
       "h2YKBnAYkn0JiTztCCY16WeUkRoKPCKXTRyrG9MXOvACUW//v5T6TksT0VXT2eEFfAHD1y+VobIa\n",
       "zwaKKub7D9lbAPg7Y0hjT9EXiDPZrdDwIR7hPbfvSzhNiYgM1zAwa7h/bU/LYy+fIEPrBM1xg+Tl\n",
       "qQJ1Z/AzZ0m2wAguIuk51X84G8Y0pVfs7Uf8fqZ9oZfAe8cgf6AX5224pZDgc1g0uHUCAQ08XBzf\n",
       "4ilaTNTfDLlI629/RMY9Ws9jA/WZl7HZZeXD9AhoR9XPLwFH3BQYANeS8WBban919wMKmzL8KhPZ\n",
       "qmA1I30+EcIs8rxNYdfrN+/jpHzh0OatRCuBu3rz4Yp0v2dExQXG1yn2JugQPI/d2NXD+uaA91ZS\n",
       "mKc1vSXxzzobc0bFBMWmudTeQ57BiRjFqDXajnZ77Mn22zJJy60JJhUMRsfADE0QCPc7x/rLeHRZ\n",
       "qaPNP4Oc5ShnnNJVGBMz1ASB+PtUrrbH+7VySR9PrTERHlJoCDrlSr+xW2VfcUR38ssSLh8ZvhMg\n",
       "cfg6/9KlKCFqoHWPH0fi0Oa2hWSlhf6CVdhspqJk15oqxSVNCfuQVy9MjhG/7z7wQEch/IXFj8ps\n",
       "hp6AgPb8+MY9h2v/4gJuIYzNGVtZzCIUHQkEwAzWWoNq+TpWwHciinjzdlDjVJKCfZffyJXVDKlC\n",
       "0zIv7kBDMNQUYfQ6gRq1wMwvd26A4SK1KoRnfZsqa40DshXoXattCPSopFuW8GCJnUlPXanMm257\n",
       "av79tbXXn+0guu66A6m6iVYFuK/TxwgCNEVZUjZuIVGAJg+gR/d/xr/DlCWP3Ff8rdeUBojADVNE\n",
       "+6vbXIyoETYrGAisy99rtliTHMLY4OhB5poTGNDgkeYPWm+kDDuMoD/wmlAHWhEmWPqMhiXe8jDp\n",
       "+GSwaUed2/5ZSPmzh9QJx4ewm70N1EU6BZjWjZWFN9H4pjg+5DcuTNDgB7RF+7KHKeQLAuJ0goEb\n",
       "009vIQ//ZeODLr1sBlaLAdPLiq18kzOkYLXOD2isTRqoslG8RXMjKrHBIOGkfQcvpNoUFhO5HLxD\n",
       "f/7v/wKXuC/cqXBUqh3v6iMVbXz7WqaYaNi+Bn8gqXcqsxJBj9L59l7OlFBusV3YHJfmAr1yNwAh\n",
       "sYk1fV/rsoadfyZorzq0J7zsMFFgGqqz1Sym4SmubSSv2gWtySsx8bqIgUrGRWSyhNXeNqgkLoN1\n",
       "JEjA3R7wWMzhhZvHSnv+6ZpPqzzaZabUMhWHR655/zUcqQT2V/2Hzo0nJ8j7BhOGGYpzGqJk+tbt\n",
       "/JdLBAjHSP4LbUev/Jw8288K5dtYugcAIycnJZO3RQCVPG9Jyv04Fs4D2QPLTGDf2BD6wmjIVfmF\n",
       "t/2PnJ3bVY+kFiZnGz/lA3FfBXhFl0L2Gt34ji+eNtyQSJO6uFhGf8F2qiAjQ+eLFze4f+iimHOA\n",
       "nocBIHiLzaa6NRj3N4Lx8mo4MEpvMuR+S3eiSN9PvFRUV+RhtYWuEFHK4OdLqeCtAFpenzbI2XqL\n",
       "WfOj/+oTiKXI699zCom7jWayViG9/BLkxbmbBJoXpg98clx1LujEOqGjuf7uq3qwm/GpBxAiwWWD\n",
       "C77q/N2nxX2cKdrEUjnaROVrX7FNaFufaHyzT7a18+samSaz+UNn27YH8R3i4JHizSlvuz/D3Pev\n",
       "liPnm3Tof5ABvy5fGLeIITeR04TekCZvYz2cGI0egm7npIzgl8EW2KinHqEdv3wejVlt4/hLNzBZ\n",
       "6cUilFvm+ghpXmIoJnI7kKQEkKTbF9iwCI0H4wWPyq0lLnwFiVYEGHoiPQW/d0oL5cC9dIKkT4Z1\n",
       "HBNzGMbuX7QyHixOpLYfuKuQdoktNxZQuTODi3WuTVaU8qAKNS+ysxLRp7krS8ZBl5BjO0G2QqhJ\n",
       "LHjbpfeYl3uioSFvrliX2l3A/H9/e5UiufTNfRz/CfK1FmBSK4whPhRsWPrlDwK2e5GBnFKky4oG\n",
       "rZ5+zYeQQG4VwvZlkPWgmO19HqlKiCo3smsIjF9l/lOY2rSaoySwPPQSfM1pDxypqm4S0MUKluVa\n",
       "tANdBZV+xrjC+3N/8yzlPsDP4dpxxzFxvLIAu87dtZRqc3y5f98LkOuEaX6RUsMhsXD5R9B+p6QC\n",
       "IFOVZi/jQCqADR+t1AemUtiaZpZA6ME6zS5pL/WyqTv1zwn/+EJbtzs6Lyk5UoyBC0fb8hvuNV0J\n",
       "dMk7NqZDwK4PSO5Qm2g0mlg2aUysWXqos5K8BKoUDzcMovqUeSxQRzmvlewxSgFjhpCp5yp2Twme\n",
       "fvdoKPZ/K0YX2G2MMLHDCxngZnP687+Aep39dwyKIjAZdVRCP64eH+zQMjxf84fNpQs9F+R2ed5N\n",
       "hpBdUXYkt9ETN/oYl3GKr7Fm6hgcB1BRJD3XUs4/pZ+4sdUFIu4KiII07FHQdpmAXyo4XpaiSlJx\n",
       "HEj4wUqAoY/l4CYS3keZq3hoa0O/6/nGAFTDD8x/0LWs9vfCTEXadyjy6+TvWh7RdAXSCoyeS+6+\n",
       "rPV8hcbSyRoPJZQ6Ede4pNj+AnlRFoyMKpnXofl3k6b4FjzUKZMn1h2Fg+w2S8NeSoNCUGGPrETC\n",
       "okL/VirCo7eyn8/00Zj01TWGh+HV2f0xw/yxPqZ0RZ8TwbPJ0iPlsqLTP7avuYADEKb3FJ8s0hnR\n",
       "5xUqg0wgci3uN2h+LO8BCSJx/HzJfb6prIRl0o84z3WrhuFeawqgiUEN5UmmT8H1RKFy0IbKzbLK\n",
       "aHQzpxTxIrMItZQIuwSgTaiQtMXjboL8nYMHhpnYZeveueX07UUBotwsvDPBLv6dtwljKOgzs6Oa\n",
       "F04uZvQf2lrGF3ENUt5VcMiXt9AV/g2zY1cPwMDBlCU53/mPh8i/a2bhLbSqPzCopz1AHzLYC79d\n",
       "kbQ62bCbV6DHhih5Q2h1N2JIWBSd+bCAeX62ICw3gSIJCAYviFqMpSJ58qiT5lKpZrNMbiM8YXf0\n",
       "yflXl7CP7DSMq0dlnz1gDO3xX3iEg4KUHFEFP5uTQyr6eOY5hsgdS/2qt5KdRCUypXXjDeBrvUAz\n",
       "uxyVUZj1zvN/bTbitaShLrEvE0T824mVjyjBFF5XiBORMrRccNBoGmpQiZZ7aYY3dUTFinWFWMza\n",
       "r1u/mM7eXH/vG0klfGZtVFjOOXZqnuypgWqnUpVABQMh+CiA28akwkWhmAzBO/gpBeXT/xwTXPld\n",
       "K9d1XbxM2aczMVivnnA5hKL0VLDUws1+/9t1i5Gvo+e1aUt4F4GjczPHvR6haingfhZTJu1S4yJ3\n",
       "ZVhcJWeBoVLF9Th1j6XG80BtZMn4I/Wq6hZiaccI5IwUYGC/qYiwQxZDHQNhXsWD/M4rZOwaqjyf\n",
       "PGlcEZl8CJubymM9kEKAs3u/cTCw5nJ/pli8qJfKClM/Sfle4lOKjTcCGQIhJwUIOVjq/CdUrpO/\n",
       "aJxfjCswCVWqn5wwuWWOjjPFhqmkr/PfWbasUroxWjm9CmEmlxeG1nDNegjCh6aNgnvdnp5htVmU\n",
       "6Tyg9L+YR2mKou8iJWsI7fjdEV7PJ6sWdbo7Uk2eP+BKYTMiUXgDdGo65Hh/2gIGDyA1fx0JSk2W\n",
       "tTvzwk5SVSqZP2Jo2obJOwt+FDYc+MtrPHW+i/fKOAMtHtJiKPTnKbQp74tzowl5wOBXfbMKnVV4\n",
       "Cl+LJtUg4uNob7gnYmfG9bCGr8tSibLRxdyjotQumBAaaatotdtgVwyqKgtpuARfjGfjoVdpHB3k\n",
       "S9O9n0z9jgyH1CYhWF5VIbXGcLUo2U3wByT6bnkdPkaL1qA7tiMI82Py7IPb0HUef0Fi86Yh/dGY\n",
       "ItffRlHzICmeH5SFlVned2aRWjqKVrPEVT3jZ51UgdlIygONO2Gd2IjOXFMnTo5VPz3V0eRbr6vF\n",
       "9qaMpOCGk6UlaBG1p9JfN7mJf4YcubBoyZjrM/LR4NGW4KvrcUO/xvHqAXoHrXpg0tQbUAoAymfm\n",
       "YoUFlywoAjHvn+/ZRyr47fwP6rXjmvxi7o2Dp2eSIiC8bnwC+FaH16cmu6aMwOEa8FUyIithJgLA\n",
       "ABDipKB2lQ2P9WGcNNO602ToW+9krnP1AZpZ6LEPYQwe+kusss1abPalnFnD93VUQaBLM32qvTfA\n",
       "+GMVAX/Xk2oFSWFnbPiCG2Jjv6uj+G3CwFEIm7YfxkdVZJEfIGptRZlkVDyNY++jxg1mfNpMVti3\n",
       "Qk0QrNG2Z1qcsiLTknsUe3xSd9o/xOQkbGDMFZQr/DCgrpAnKDbQNuk5ViB1CwXh33aIs5FUxQC+\n",
       "VsLSZ1v8GnbbuiKswDL6R+wSXzdURFNaC9r7vpL82ZzDR5jOoDodBdbNFnrshlXijMaEfXbeUkAG\n",
       "Epmne8T6v/UV+kprR7F+1bWsZSBeD+/qgdiiUy/HyXFdyOzSsixAiJ4tR5kM0tXRSuBbbAz57d0N\n",
       "XplLMuaQShrTZN8POTZK7CnEo2mO+wIUo8JN9LJFQ3wFJjF2Yzy8LuX0ZnvJY8kXHLG5TaBgAYr8\n",
       "a/LbTAZBVfvK06jv4ar/mmqIhwBzAhqNCWUXn1K83dlmXDezaltQNBLcZjg1LuEvMxEiHJt8SWJb\n",
       "v62wM5Fb9s4iOFqcY31JNJZiLK67uK+UvYaitc5GGdrmg9fDrMUGSYgMbttuQZtTyCNig44CtvKs\n",
       "o1aInGMfSsI1Fq3MCKZK6ZcNXEnfvsQPBrtv+1WMKNN+zUqTuL4Ii2vVO+lhZI8vQlVPZY4j5Atj\n",
       "RgyDxnqOhvZ2H/hoaR/e9jbl8BVcaLjWLEsJwY5pzBWMQMh7+NGjVod6Np/KcFBRQjE/gLqQHqla\n",
       "q5Hx8XlO4K+BnMYvn1Vg4JL4YEaKdSGkkx7RiCnGzWkMLkTze103YsWTy5QC5MO3/mlhmuMUXcqH\n",
       "4wBgelFxSast6fsjVWOgoGbkiSKmKOly4ECBybh4IV9jYCJiCYlJ+edGDzhJL+LtMStTE0GoKOVI\n",
       "99XWwE7Eo3Wihgs8k459QzF9ixZIJrFFAukJu83dZvLPxg+qOywukRPG1wDCNrDMRZLQZ+ON+Vs6\n",
       "IGHi7idplNKT+w5WpCVVLslqLQUPfaeqOe7UXOeXwOnvGDxeJp16HIUKL6AkWankOxmS3DgWnIB9\n",
       "uOOT9VYVAZ65/oEtE5BgMJad97eyXCH2YqUiaV5qNmUjJCMyeKH8xT0x+WpJ3qnXcpB8UT0I85Zc\n",
       "a3Eod7pD1F5GFLMQWFg4gJBDB+nYld5q4i8coNpnl6n/74q+KmjL56YiOGmZ6gl0d2F33AcCveBY\n",
       "NN0dhbYHcQbhX/aqsmiXCD1YWVtNrHfYEnbpHyhMgCbDd8Z9f7hpQbha0Mk/ZuR02saHmnIo1oYI\n",
       "G20Gdyh2nCC18lFTFLq3NE7XdTDSAbO9xd/JFq8twKXXg8ZGruWMPMif4BAzvmEMAfNNnV9t0M5U\n",
       "PYNpjoDyvw9BYBHXhUt/vHwuVtycZIcvJ+N81ofZN0zTU4wTAY+8Tx3pF7HNqDg+vxBIc965KXld\n",
       "Htx1f4XDZHLTTCAJApZz5LU0ThVqfZny/L4lCgObDLItK673negO7SjdjFbyKRv44/UNI6yoYREC\n",
       "PizS7Cbw3Gs9WrimqtjKAna5QeP5uHLfAQb/+U8w7VE9bDRR3lCPNP6+aKVOv0cEzbwOFGtLqKoE\n",
       "U7N7l9HUQsVXPJPBWUJMkgPc8DYhwMbbZ+VcOKzAFlwAAFOCCgkCKCSZwQEu5QAAAIZBmiRsQ//+\n",
       "qZYATBdxwD/uXMurHQ6eawqSia4q9rBkliC2QmZGKx9XDbT3jYWjFmAJ1EmwnuVcf3Xmn94lyPhb\n",
       "CdAmOgUlPRBLleNSpl+9rw9/bOqDNjzObnJbBRHmgRRY7Pss7sQdXUjYEdL6Jy9DQrunCyW6z38a\n",
       "ohwcxqh+7Td52naIgAAAABZBnkJ4hn8AQWLLaGv5rP1gvDISt4TnAAAADQGeYXRCvwAAAwGl/30A\n",
       "AAAOAZ5jakK/AAADAaZ1YYEAAAAkQZpoSahBaJlMCH///qmWAAAHdYWKcAoSBdvbLT8S56J/nZf5\n",
       "AAAAGEGehkURLDP/AAy/Ecx3mJfDcQnOB1GdqwAAAA8BnqV0Qr8AF9/rHDc6QUEAAAARAZ6nakK/\n",
       "ABfnS3SoWBbGM7MAAAAVQZqsSahBbJlMCH///qmWAAADAPCAAAAAFkGeykUVLDP/AAzjDkHPM8cG\n",
       "pdOqLTUAAAARAZ7pdEK/ABff6xzN8vq7u0QAAAARAZ7rakK/ABfnS3SoWBbGM7MAAAAVQZrwSahB\n",
       "bJlMCH///qmWAAADAPCBAAAAFkGfDkUVLDP/AAzjDkHPM8cGpdOqLTUAAAARAZ8tdEK/ABff6xzN\n",
       "8vq7u0UAAAARAZ8vakK/ABfnS3SoWBbGM7MAAAAVQZs0SahBbJlMCH///qmWAAADAPCAAAAAFkGf\n",
       "UkUVLDP/AAzjDkHPM8cGpdOqLTUAAAARAZ9xdEK/ABff6xzN8vq7u0QAAAARAZ9zakK/ABfnS3So\n",
       "WBbGM7MAAAAVQZt4SahBbJlMCH///qmWAAADAPCBAAAAFkGflkUVLDP/AAzjDkHPM8cGpdOqLTQA\n",
       "AAARAZ+1dEK/ABff6xzN8vq7u0UAAAARAZ+3akK/ABfnS3SoWBbGM7MAAAAVQZu8SahBbJlMCH//\n",
       "/qmWAAADAPCAAAAAFkGf2kUVLDP/AAzjDkHPM8cGpdOqLTUAAAARAZ/5dEK/ABff6xzN8vq7u0QA\n",
       "AAARAZ/7akK/ABfnS3SoWBbGM7MAAAAVQZvgSahBbJlMCH///qmWAAADAPCBAAAAFkGeHkUVLDP/\n",
       "AAzjDkHPM8cGpdOqLTQAAAARAZ49dEK/ABff6xzN8vq7u0QAAAARAZ4/akK/ABfnS3SoWBbGM7MA\n",
       "AAAVQZokSahBbJlMCH///qmWAAADAPCAAAAAFkGeQkUVLDP/AAzjDkHPM8cGpdOqLTUAAAARAZ5h\n",
       "dEK/ABff6xzN8vq7u0QAAAARAZ5jakK/ABfnS3SoWBbGM7MAAAAVQZpoSahBbJlMCH///qmWAAAD\n",
       "APCBAAAAFkGehkUVLDP/AAzjDkHPM8cGpdOqLTUAAAARAZ6ldEK/ABff6xzN8vq7u0UAAAARAZ6n\n",
       "akK/ABfnS3SoWBbGM7MAAAAVQZqsSahBbJlMCH///qmWAAADAPCAAAAAFkGeykUVLDP/AAzjDkHP\n",
       "M8cGpdOqLTUAAAARAZ7pdEK/ABff6xzN8vq7u0QAAAARAZ7rakK/ABfnS3SoWBbGM7MAAAAVQZrw\n",
       "SahBbJlMCH///qmWAAADAPCBAAAAFkGfDkUVLDP/AAzjDkHPM8cGpdOqLTUAAAARAZ8tdEK/ABff\n",
       "6xzN8vq7u0UAAAARAZ8vakK/ABfnS3SoWBbGM7MAAAAVQZs0SahBbJlMCH///qmWAAADAPCAAAAA\n",
       "FkGfUkUVLDP/AAzjDkHPM8cGpdOqLTUAAAARAZ9xdEK/ABff6xzN8vq7u0QAAAARAZ9zakK/ABfn\n",
       "S3SoWBbGM7MAAAAVQZt4SahBbJlMCH///qmWAAADAPCBAAAAFkGflkUVLDP/AAzjDkHPM8cGpdOq\n",
       "LTQAAAARAZ+1dEK/ABff6xzN8vq7u0UAAAARAZ+3akK/ABfnS3SoWBbGM7MAAAAVQZu8SahBbJlM\n",
       "CH///qmWAAADAPCAAAAAFkGf2kUVLDP/AAzjDkHPM8cGpdOqLTUAAAARAZ/5dEK/ABff6xzN8vq7\n",
       "u0QAAAARAZ/7akK/ABfnS3SoWBbGM7MAAAAVQZvgSahBbJlMCH///qmWAAADAPCBAAAAFkGeHkUV\n",
       "LDP/AAzjDkHPM8cGpdOqLTQAAAARAZ49dEK/ABff6xzN8vq7u0QAAAARAZ4/akK/ABfnS3SoWBbG\n",
       "M7MAAAAVQZokSahBbJlMCH///qmWAAADAPCAAAAAFkGeQkUVLDP/AAzjDkHPM8cGpdOqLTUAAAAR\n",
       "AZ5hdEK/ABff6xzN8vq7u0QAAAARAZ5jakK/ABfnS3SoWBbGM7MAAAAVQZpoSahBbJlMCH///qmW\n",
       "AAADAPCBAAAAFkGehkUVLDP/AAzjDkHPM8cGpdOqLTUAAAARAZ6ldEK/ABff6xzN8vq7u0UAAAAR\n",
       "AZ6nakK/ABfnS3SoWBbGM7MAAAAVQZqsSahBbJlMCH///qmWAAADAPCAAAAAFkGeykUVLDP/AAzj\n",
       "DkHPM8cGpdOqLTUAAAARAZ7pdEK/ABff6xzN8vq7u0QAAAARAZ7rakK/ABfnS3SoWBbGM7MAAAAV\n",
       "QZrwSahBbJlMCH///qmWAAADAPCBAAAAFkGfDkUVLDP/AAzjDkHPM8cGpdOqLTUAAAARAZ8tdEK/\n",
       "ABff6xzN8vq7u0UAAAARAZ8vakK/ABfnS3SoWBbGM7MAAAAVQZs0SahBbJlMCH///qmWAAADAPCA\n",
       "AAAAFkGfUkUVLDP/AAzjDkHPM8cGpdOqLTUAAAARAZ9xdEK/ABff6xzN8vq7u0QAAAARAZ9zakK/\n",
       "ABfnS3SoWBbGM7MAAAAVQZt4SahBbJlMCHf//qmWAAADAPCBAAAAFkGflkUVLDP/AAzjDkHPM8cG\n",
       "pdOqLTQAAAARAZ+1dEK/ABff6xzN8vq7u0UAAAARAZ+3akK/ABfnS3SoWBbGM7MAAAAZQZu8SahB\n",
       "bJlMCHf//qmWAABGDPS4xvpN6AAAABZBn9pFFSwz/wAM4w5BzzPHBqXTqi01AAAAEQGf+XRCvwAX\n",
       "3+sczfL6u7tEAAAAEQGf+2pCvwAX50t0qFgWxjOzAAAAFEGb4EmoQWyZTAhv//6nhAAAAwHdAAAA\n",
       "FkGeHkUVLDP/AAzjDkHPM8cGpdOqLTQAAAARAZ49dEK/ABff6xzN8vq7u0QAAAARAZ4/akK/ABfn\n",
       "S3SoWBbGM7MAAAATQZojSahBbJlMCFf//jhAAAAccAAAABZBnkFFFSwv/wARXzmDnmoN/1Blg6Vp\n",
       "AAAAEQGeYmpCvwAX50t0qFgWxjOzAAAH1m1vb3YAAABsbXZoZAAAAAAAAAAAAAAAAAAAA+gAABOI\n",
       "AAEAAAEAAAAAAAAAAAAAAAABAAAAAAAAAAAAAAAAAAAAAQAAAAAAAAAAAAAAAAAAQAAAAAAAAAAA\n",
       "AAAAAAAAAAAAAAAAAAAAAAAAAAAAAAIAAAcAdHJhawAAAFx0a2hkAAAAAwAAAAAAAAAAAAAAAQAA\n",
       "AAAAABOIAAAAAAAAAAAAAAAAAAAAAAABAAAAAAAAAAAAAAAAAAAAAQAAAAAAAAAAAAAAAAAAQAAA\n",
       "AAGwAAABIAAAAAAAJGVkdHMAAAAcZWxzdAAAAAAAAAABAAATiAAABAAAAQAAAAAGeG1kaWEAAAAg\n",
       "bWRoZAAAAAAAAAAAAAAAAAAAKAAAAMgAVcQAAAAAAC1oZGxyAAAAAAAAAAB2aWRlAAAAAAAAAAAA\n",
       "AAAAVmlkZW9IYW5kbGVyAAAABiNtaW5mAAAAFHZtaGQAAAABAAAAAAAAAAAAAAAkZGluZgAAABxk\n",
       "cmVmAAAAAAAAAAEAAAAMdXJsIAAAAAEAAAXjc3RibAAAALNzdHNkAAAAAAAAAAEAAACjYXZjMQAA\n",
       "AAAAAAABAAAAAAAAAAAAAAAAAAAAAAGwASAASAAAAEgAAAAAAAAAAQAAAAAAAAAAAAAAAAAAAAAA\n",
       "AAAAAAAAAAAAAAAAAAAAABj//wAAADFhdmNDAWQIFf/hABhnZAgVrNlBsJaEAAADAAQAAAMAoDxY\n",
       "tlgBAAZo6+PLIsAAAAAcdXVpZGtoQPJfJE/FujmlG88DI/MAAAAAAAAAGHN0dHMAAAAAAAAAAQAA\n",
       "AGQAAAIAAAAAFHN0c3MAAAAAAAAAAQAAAAEAAAMoY3R0cwAAAAAAAABjAAAAAQAABAAAAAABAAAK\n",
       "AAAAAAEAAAQAAAAAAQAAAAAAAAABAAACAAAAAAEAAAoAAAAAAQAABAAAAAABAAAAAAAAAAEAAAIA\n",
       "AAAAAQAACgAAAAABAAAEAAAAAAEAAAAAAAAAAQAAAgAAAAABAAAKAAAAAAEAAAQAAAAAAQAAAAAA\n",
       "AAABAAACAAAAAAEAAAoAAAAAAQAABAAAAAABAAAAAAAAAAEAAAIAAAAAAQAACgAAAAABAAAEAAAA\n",
       "AAEAAAAAAAAAAQAAAgAAAAABAAAKAAAAAAEAAAQAAAAAAQAAAAAAAAABAAACAAAAAAEAAAoAAAAA\n",
       "AQAABAAAAAABAAAAAAAAAAEAAAIAAAAAAQAACgAAAAABAAAEAAAAAAEAAAAAAAAAAQAAAgAAAAAB\n",
       "AAAKAAAAAAEAAAQAAAAAAQAAAAAAAAABAAACAAAAAAEAAAoAAAAAAQAABAAAAAABAAAAAAAAAAEA\n",
       "AAIAAAAAAQAACgAAAAABAAAEAAAAAAEAAAAAAAAAAQAAAgAAAAABAAAKAAAAAAEAAAQAAAAAAQAA\n",
       "AAAAAAABAAACAAAAAAEAAAoAAAAAAQAABAAAAAABAAAAAAAAAAEAAAIAAAAAAQAACgAAAAABAAAE\n",
       "AAAAAAEAAAAAAAAAAQAAAgAAAAABAAAKAAAAAAEAAAQAAAAAAQAAAAAAAAABAAACAAAAAAEAAAoA\n",
       "AAAAAQAABAAAAAABAAAAAAAAAAEAAAIAAAAAAQAACgAAAAABAAAEAAAAAAEAAAAAAAAAAQAAAgAA\n",
       "AAABAAAKAAAAAAEAAAQAAAAAAQAAAAAAAAABAAACAAAAAAEAAAoAAAAAAQAABAAAAAABAAAAAAAA\n",
       "AAEAAAIAAAAAAQAACgAAAAABAAAEAAAAAAEAAAAAAAAAAQAAAgAAAAABAAAKAAAAAAEAAAQAAAAA\n",
       "AQAAAAAAAAABAAACAAAAAAEAAAoAAAAAAQAABAAAAAABAAAAAAAAAAEAAAIAAAAAAQAACgAAAAAB\n",
       "AAAEAAAAAAEAAAAAAAAAAQAAAgAAAAABAAAIAAAAAAIAAAIAAAAAHHN0c2MAAAAAAAAAAQAAAAEA\n",
       "AABkAAAAAQAAAaRzdHN6AAAAAAAAAAAAAABkAAAcuwAAAIoAAAAaAAAAEQAAABIAAAAoAAAAHAAA\n",
       "ABMAAAAVAAAAGQAAABoAAAAVAAAAFQAAABkAAAAaAAAAFQAAABUAAAAZAAAAGgAAABUAAAAVAAAA\n",
       "GQAAABoAAAAVAAAAFQAAABkAAAAaAAAAFQAAABUAAAAZAAAAGgAAABUAAAAVAAAAGQAAABoAAAAV\n",
       "AAAAFQAAABkAAAAaAAAAFQAAABUAAAAZAAAAGgAAABUAAAAVAAAAGQAAABoAAAAVAAAAFQAAABkA\n",
       "AAAaAAAAFQAAABUAAAAZAAAAGgAAABUAAAAVAAAAGQAAABoAAAAVAAAAFQAAABkAAAAaAAAAFQAA\n",
       "ABUAAAAZAAAAGgAAABUAAAAVAAAAGQAAABoAAAAVAAAAFQAAABkAAAAaAAAAFQAAABUAAAAZAAAA\n",
       "GgAAABUAAAAVAAAAGQAAABoAAAAVAAAAFQAAABkAAAAaAAAAFQAAABUAAAAdAAAAGgAAABUAAAAV\n",
       "AAAAGAAAABoAAAAVAAAAFQAAABcAAAAaAAAAFQAAABRzdGNvAAAAAAAAAAEAAAAsAAAAYnVkdGEA\n",
       "AABabWV0YQAAAAAAAAAhaGRscgAAAAAAAAAAbWRpcmFwcGwAAAAAAAAAAAAAAAAtaWxzdAAAACWp\n",
       "dG9vAAAAHWRhdGEAAAABAAAAAExhdmY1OC4yNi4xMDE=\n",
       "\">\n",
       "  Your browser does not support the video tag.\n",
       "</video>"
      ],
      "text/plain": [
       "<IPython.core.display.HTML object>"
      ]
     },
     "execution_count": 99,
     "metadata": {},
     "output_type": "execute_result"
    }
   ],
   "source": [
    "HTML(anim.to_html5_video())"
   ]
  },
  {
   "cell_type": "code",
   "execution_count": null,
   "metadata": {},
   "outputs": [],
   "source": []
  }
 ],
 "metadata": {
  "kernelspec": {
   "display_name": "Python 3",
   "language": "python",
   "name": "python3"
  },
  "language_info": {
   "codemirror_mode": {
    "name": "ipython",
    "version": 3
   },
   "file_extension": ".py",
   "mimetype": "text/x-python",
   "name": "python",
   "nbconvert_exporter": "python",
   "pygments_lexer": "ipython3",
   "version": "3.7.1"
  }
 },
 "nbformat": 4,
 "nbformat_minor": 2
}
