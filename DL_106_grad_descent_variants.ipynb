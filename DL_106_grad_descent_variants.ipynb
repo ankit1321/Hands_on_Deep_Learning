{
 "cells": [
  {
   "cell_type": "code",
   "execution_count": 1,
   "metadata": {},
   "outputs": [],
   "source": [
    "from mpl_toolkits.mplot3d import Axes3D\n",
    "import matplotlib.pyplot as plt\n",
    "import matplotlib\n",
    "from matplotlib import animation,rc,cm\n",
    "from IPython.display import HTML\n",
    "import numpy as np\n",
    "import pandas as pd\n",
    "from tqdm import tqdm_notebook\n",
    "from sklearn.metrics import mean_squared_error\n"
   ]
  },
  {
   "cell_type": "code",
   "execution_count": 33,
   "metadata": {},
   "outputs": [],
   "source": [
    "class SN:\n",
    "    \n",
    "    def __init__(self,w_init,b_init,algo):\n",
    "        self.w=w_init\n",
    "        self.b=b_init\n",
    "        self.algo=algo\n",
    "        self.e_h = []\n",
    "        self.w_h = []\n",
    "        self.b_h = []\n",
    "        \n",
    "    def sigmoid(self,x,w=None,b=None):\n",
    "        if w is None:\n",
    "            w=self.w\n",
    "        if b is None:\n",
    "            b=self.b\n",
    "        return 1.0/(1.0 + np.exp(-(w*x+b)))\n",
    "    \n",
    "    def error(self,X,Y,w=None,b=None):\n",
    "        if w is None:\n",
    "            w=self.w\n",
    "        if b is None:\n",
    "            b=self.b\n",
    "        error= 0\n",
    "        for x,y in zip(X,Y):\n",
    "            error += 0.5 * (self.sigmoid(x,w,b) - y) ** 2\n",
    "        return error\n",
    "    \n",
    "    def grad_w(self,x,y,w=None,b=None):\n",
    "        if w is None:\n",
    "            w=self.w\n",
    "        if b is None:\n",
    "            b=self.b\n",
    "        y_pred = self.sigmoid(x,w,b)\n",
    "        return (y_pred -y) * y_pred*(1-y_pred) * x\n",
    "    \n",
    "    def grad_b(self,x,y,w=None,b=None):\n",
    "        if w is None:\n",
    "            w=self.w\n",
    "        if b is None:\n",
    "            b=self.b\n",
    "        y_pred = self.sigmoid(x,w,b)\n",
    "        return (y_pred -y) * y_pred*(1-y_pred)\n",
    "    \n",
    "    def predict(self,X,w=None,b=None):\n",
    "        if w is None:\n",
    "            w=self.w\n",
    "        if b is None:\n",
    "            b=self.b\n",
    "        Y_pred = []\n",
    "        for x in X:\n",
    "            y_pred=self.sigmoid(w,x,b)\n",
    "            Y_pred.append(y_pred)\n",
    "        return np.array(Y_pred)\n",
    "    \n",
    "    def fit(self,X,Y,epoch=100,display_loss=True,eta = 0.01, gamma=0.9,\n",
    "            mini_batch_size=4,eps=1e-8,beta=0.9,beta1=0.9,beta2=0.9):\n",
    "        \n",
    "        self.w_h = []\n",
    "        self.b_h = []\n",
    "        self.e_h = []\n",
    "        self.X = X\n",
    "        self.Y = Y\n",
    "        \n",
    "        if display_loss:\n",
    "            loss = {}\n",
    "            \n",
    "        if self.algo == \"GD\":\n",
    "            for i in tqdm_notebook(range(epoch),unit=\"epoch\"):\n",
    "                db,dw=0,0\n",
    "                for x,y in zip(X,Y):\n",
    "                    dw += self.grad_w(x,y)\n",
    "                    db += self.grad_b(x,y)\n",
    "                m=X.shape[0]\n",
    "                self.b -= eta * db/m\n",
    "                self.w -= eta * dw/m\n",
    "                self.append_log()\n",
    "                \n",
    "                if display_loss:\n",
    "                    y_pred=self.predict(X)\n",
    "                    loss[i] = mean_squared_error(y_pred,Y)\n",
    "                \n",
    "            if display_loss:\n",
    "                plt.plot(loss.values())\n",
    "                plt.xlabel(\"epoch\")\n",
    "                plt.ylabel(\"mse\")\n",
    "                plt.show()\n",
    "                \n",
    "        elif self.algo == \"minibatch\":\n",
    "            for i in tqdm_notebook(range(epoch),unit=\"epoch\"):\n",
    "                db,dw=0,0\n",
    "                points_seen=0\n",
    "                for x,y in zip(X,Y):\n",
    "                    dw += self.grad_w(x,y)\n",
    "                    db += self.grad_b(x,y)\n",
    "                    points_seen +=1\n",
    "                    if points_seen % mini_batch_size == 0:\n",
    "                        m=X.shape[0]\n",
    "                        self.b -= eta * db/m\n",
    "                        self.w -= eta * dw/m\n",
    "                        self.append_log()\n",
    "                \n",
    "                        if display_loss:\n",
    "                            y_pred=self.predict(X)\n",
    "                            loss[i] = mean_squared_error(y_pred,Y)\n",
    "                \n",
    "            if display_loss:\n",
    "                plt.plot(loss.values())\n",
    "                plt.xlabel(\"epoch\")\n",
    "                plt.ylabel(\"mse\")\n",
    "                plt.show()\n",
    "                \n",
    "        elif self.algo == \"momentum\":\n",
    "            v_b,v_w=0,0\n",
    "            for i in tqdm_notebook(range(epoch),unit=\"epoch\"):\n",
    "                db,dw=0,0\n",
    "                for x,y in zip(X,Y):\n",
    "                    dw += self.grad_w(x,y)\n",
    "                    db += self.grad_b(x,y)\n",
    "                m=X.shape[0]\n",
    "                v_b = gamma * v_b + eta *db\n",
    "                v_w = gamma * v_w + eta *dw\n",
    "                self.b -= v_b/m\n",
    "                self.w -= v_w/m\n",
    "                self.append_log()\n",
    "                \n",
    "                if display_loss:\n",
    "                    y_pred=self.predict(X)\n",
    "                    loss[i] = mean_squared_error(y_pred,Y)\n",
    "                \n",
    "            if display_loss:\n",
    "                plt.plot(loss.values())\n",
    "                plt.xlabel(\"epoch\")\n",
    "                plt.ylabel(\"mse\")\n",
    "                plt.show()\n",
    "                \n",
    "        elif self.algo == \"NAG\":\n",
    "            v_b,v_w=0,0\n",
    "            for i in tqdm_notebook(range(epoch),unit=\"epoch\"):\n",
    "                db,dw=0,0\n",
    "                for x,y in zip(X,Y):\n",
    "                    dw += self.grad_w(x,y,self.w-v_w,self.b-v_b)\n",
    "                    db += self.grad_b(x,y,self.w-v_w,self.b-v_b)\n",
    "                m=X.shape[0]\n",
    "                v_b += eta *db\n",
    "                v_w += eta *dw\n",
    "                self.b -= v_b/m\n",
    "                self.w -= v_w/m\n",
    "                self.append_log()\n",
    "                \n",
    "                if display_loss:\n",
    "                    y_pred=self.predict(X)\n",
    "                    loss[i] = mean_squared_error(y_pred,Y)\n",
    "                \n",
    "            if display_loss:\n",
    "                plt.plot(loss.values())\n",
    "                plt.xlabel(\"epoch\")\n",
    "                plt.ylabel(\"mse\")\n",
    "                plt.show()\n",
    "                \n",
    "        elif self.algo == \"AdaGrad\":\n",
    "            v_b,v_w=0,0\n",
    "            for i in tqdm_notebook(range(epoch),unit=\"epoch\"):\n",
    "                db,dw=0,0\n",
    "                for x,y in zip(X,Y):\n",
    "                    dw += self.grad_w(x,y)\n",
    "                    db += self.grad_b(x,y)\n",
    "                m=X.shape[0]\n",
    "                v_b += db **2\n",
    "                v_w += dw **2\n",
    "                self.b -= (eta/np.sqrt(v_b) + eps)*db /m\n",
    "                self.w -= (eta/np.sqrt(v_w) + eps)*dw /m\n",
    "                self.append_log()\n",
    "                \n",
    "                if display_loss:\n",
    "                    y_pred=self.predict(X)\n",
    "                    loss[i] = mean_squared_error(y_pred,Y)\n",
    "                \n",
    "            if display_loss:\n",
    "                plt.plot(loss.values())\n",
    "                plt.xlabel(\"epoch\")\n",
    "                plt.ylabel(\"mse\")\n",
    "                plt.show()\n",
    "                \n",
    "        elif self.algo == \"RMSprop\":\n",
    "            v_b,v_w=0,0\n",
    "            for i in tqdm_notebook(range(epoch),unit=\"epoch\"):\n",
    "                db,dw=0,0\n",
    "                for x,y in zip(X,Y):\n",
    "                    dw += self.grad_w(x,y)\n",
    "                    db += self.grad_b(x,y)\n",
    "                m=X.shape[0]\n",
    "                v_b = beta * v_b + (1-beta)*db **2\n",
    "                v_w = beta * v_w + (1-beta)*dw **2\n",
    "                self.b -= (eta/np.sqrt(v_b) + eps)*db /m\n",
    "                self.w -= (eta/np.sqrt(v_w) + eps)*dw /m\n",
    "                self.append_log()\n",
    "                \n",
    "                if display_loss:\n",
    "                    y_pred=self.predict(X)\n",
    "                    loss[i] = mean_squared_error(y_pred,Y)\n",
    "                \n",
    "            if display_loss:\n",
    "                plt.plot(loss.values())\n",
    "                plt.xlabel(\"epoch\")\n",
    "                plt.ylabel(\"mse\")\n",
    "                plt.show()\n",
    "                \n",
    "        elif self.algo == \"Adam\":\n",
    "            v_b,v_w=0,0\n",
    "            m_b,m_w=0,0\n",
    "            num_updates=0\n",
    "            for i in tqdm_notebook(range(epoch),unit=\"epoch\"):\n",
    "                db,dw=0,0\n",
    "                for x,y in zip(X,Y):\n",
    "                    dw += self.grad_w(x,y)\n",
    "                    db += self.grad_b(x,y)\n",
    "                    num_updates +=1\n",
    "                    m_b = (beta1 * v_b + (1-beta1)*db) /(1 - np.power(beta1, num_updates))\n",
    "                    m_w = (beta1 * v_w + (1-beta1)*dw) /(1 - np.power(beta1, num_updates)) \n",
    "                    v_b = (beta2 * v_b + (1-beta2)*db **2) /(1 - np.power(beta2, num_updates))\n",
    "                    v_w = (beta2 * v_w + (1-beta2)*dw **2) /(1 - np.power(beta2, num_updates))\n",
    "                    self.b -= (eta/np.sqrt(v_b) + eps)*m_b\n",
    "                    self.w -= (eta/np.sqrt(v_w) + eps)*m_w\n",
    "                    self.append_log()\n",
    "                \n",
    "                    if display_loss:\n",
    "                        y_pred=self.predict(X)\n",
    "                        loss[i] = mean_squared_error(y_pred,Y)\n",
    "                \n",
    "            if display_loss:\n",
    "                plt.plot(loss.values())\n",
    "                plt.xlabel(\"epoch\")\n",
    "                plt.ylabel(\"mse\")\n",
    "                plt.show()\n",
    "                \n",
    "    def append_log(self):\n",
    "        self.w_h.append(self.w)\n",
    "        self.b_h.append(self.b)\n",
    "        self.e_h.append(self.error(self.X,self.Y))\n",
    "                \n",
    "        \n",
    "                \n",
    "        \n",
    "                "
   ]
  },
  {
   "cell_type": "code",
   "execution_count": 23,
   "metadata": {},
   "outputs": [],
   "source": [
    "X = np.asarray([3.5, 0.35, 3.2, -2.0, 1.5, -0.5])\n",
    "Y = np.asarray([0.5, 0.50, 0.5,  0.5, 0.1,  0.3])\n",
    "\n",
    "algo = 'GD'\n",
    "\n",
    "w_init = -6\n",
    "b_init = 4.0\n",
    "\n",
    "w_min = -7\n",
    "w_max = 5\n",
    "\n",
    "b_min = -7\n",
    "b_max = 5\n",
    "\n",
    "epochs = 500\n",
    "gamma = 0.9\n",
    "eta = 0.5\n",
    "eps = 1e-8\n",
    "\n",
    "animation_frames = 20\n",
    "\n",
    "plot_2d = True\n",
    "plot_3d = False"
   ]
  },
  {
   "cell_type": "markdown",
   "metadata": {},
   "source": [
    "# For GD Algorithm"
   ]
  },
  {
   "cell_type": "code",
   "execution_count": 24,
   "metadata": {},
   "outputs": [
    {
     "data": {
      "application/vnd.jupyter.widget-view+json": {
       "model_id": "364ce2b031944640b0c089c05d5e0349",
       "version_major": 2,
       "version_minor": 0
      },
      "text/plain": [
       "HBox(children=(IntProgress(value=0, max=500), HTML(value='')))"
      ]
     },
     "metadata": {},
     "output_type": "display_data"
    },
    {
     "name": "stdout",
     "output_type": "stream",
     "text": [
      "\n"
     ]
    },
    {
     "data": {
      "image/png": "[encoded data removed]",
      "text/plain": [
       "<Figure size 432x288 with 1 Axes>"
      ]
     },
     "metadata": {
      "needs_background": "light"
     },
     "output_type": "display_data"
    },
    {
     "data": {
      "image/png": "[encoded data removed]",
      "text/plain": [
       "<Figure size 432x288 with 1 Axes>"
      ]
     },
     "metadata": {
      "needs_background": "light"
     },
     "output_type": "display_data"
    }
   ],
   "source": [
    "sn = SN(w_init, b_init, algo)\n",
    "sn.fit(X, Y, epoch=epochs, eta=eta, gamma=gamma)\n",
    "plt.plot(sn.e_h, 'r')\n",
    "plt.plot(sn.w_h, 'b')\n",
    "plt.plot(sn.b_h, 'g')\n",
    "# w_diff = [t - s for t, s in zip(sn.w_h, sn.w_h[1:])]\n",
    "# b_diff = [t - s for t, s in zip(sn.b_h, sn.b_h[1:])]\n",
    "# plt.plot(w_diff, 'b--')\n",
    "# plt.plot(b_diff, 'g--')\n",
    "plt.show()"
   ]
  },
  {
   "cell_type": "code",
   "execution_count": null,
   "metadata": {},
   "outputs": [],
   "source": []
  },
  {
   "cell_type": "code",
   "execution_count": 26,
   "metadata": {},
   "outputs": [
    {
     "data": {
      "application/vnd.jupyter.widget-view+json": {
       "model_id": "eb56bdd211ad401f8c1629094930ae86",
       "version_major": 2,
       "version_minor": 0
      },
      "text/plain": [
       "HBox(children=(IntProgress(value=0, max=500), HTML(value='')))"
      ]
     },
     "metadata": {},
     "output_type": "display_data"
    },
    {
     "name": "stdout",
     "output_type": "stream",
     "text": [
      "\n"
     ]
    },
    {
     "data": {
      "image/png": "[encoded data removed]",
      "text/plain": [
       "<Figure size 432x288 with 1 Axes>"
      ]
     },
     "metadata": {
      "needs_background": "light"
     },
     "output_type": "display_data"
    },
    {
     "data": {
      "image/png": "[encoded data removed]",
      "text/plain": [
       "<Figure size 432x288 with 1 Axes>"
      ]
     },
     "metadata": {
      "needs_background": "light"
     },
     "output_type": "display_data"
    }
   ],
   "source": [
    "sn = SN(w_init, b_init, \"NAG\")\n",
    "sn.fit(X, Y, epoch=epochs, eta=eta, gamma=gamma)\n",
    "plt.plot(sn.e_h, 'r')\n",
    "plt.plot(sn.w_h, 'b')\n",
    "plt.plot(sn.b_h, 'g')\n",
    "# w_diff = [t - s for t, s in zip(sn.w_h, sn.w_h[1:])]\n",
    "# b_diff = [t - s for t, s in zip(sn.b_h, sn.b_h[1:])]\n",
    "# plt.plot(w_diff, 'b--')\n",
    "# plt.plot(b_diff, 'g--')\n",
    "plt.show()"
   ]
  },
  {
   "cell_type": "code",
   "execution_count": 27,
   "metadata": {},
   "outputs": [
    {
     "data": {
      "application/vnd.jupyter.widget-view+json": {
       "model_id": "78ad7e800b3546d1b06dd6796ff2d2fc",
       "version_major": 2,
       "version_minor": 0
      },
      "text/plain": [
       "HBox(children=(IntProgress(value=0, max=500), HTML(value='')))"
      ]
     },
     "metadata": {},
     "output_type": "display_data"
    },
    {
     "name": "stdout",
     "output_type": "stream",
     "text": [
      "\n"
     ]
    },
    {
     "data": {
      "image/png": "[encoded data removed]",
      "text/plain": [
       "<Figure size 432x288 with 1 Axes>"
      ]
     },
     "metadata": {
      "needs_background": "light"
     },
     "output_type": "display_data"
    },
    {
     "data": {
      "image/png": "[encoded data removed]",
      "text/plain": [
       "<Figure size 432x288 with 1 Axes>"
      ]
     },
     "metadata": {
      "needs_background": "light"
     },
     "output_type": "display_data"
    }
   ],
   "source": [
    "sn = SN(w_init, b_init, \"momentum\")\n",
    "sn.fit(X, Y, epoch=epochs, eta=eta, gamma=gamma)\n",
    "plt.plot(sn.e_h, 'r')\n",
    "plt.plot(sn.w_h, 'b')\n",
    "plt.plot(sn.b_h, 'g')\n",
    "# w_diff = [t - s for t, s in zip(sn.w_h, sn.w_h[1:])]\n",
    "# b_diff = [t - s for t, s in zip(sn.b_h, sn.b_h[1:])]\n",
    "# plt.plot(w_diff, 'b--')\n",
    "# plt.plot(b_diff, 'g--')\n",
    "plt.show()"
   ]
  },
  {
   "cell_type": "code",
   "execution_count": 29,
   "metadata": {},
   "outputs": [
    {
     "data": {
      "application/vnd.jupyter.widget-view+json": {
       "model_id": "adf75ba4692c40938bb3e79ac6a74f71",
       "version_major": 2,
       "version_minor": 0
      },
      "text/plain": [
       "HBox(children=(IntProgress(value=0, max=500), HTML(value='')))"
      ]
     },
     "metadata": {},
     "output_type": "display_data"
    },
    {
     "name": "stdout",
     "output_type": "stream",
     "text": [
      "\n"
     ]
    },
    {
     "data": {
      "image/png": "[encoded data removed]",
      "text/plain": [
       "<Figure size 432x288 with 1 Axes>"
      ]
     },
     "metadata": {
      "needs_background": "light"
     },
     "output_type": "display_data"
    },
    {
     "data": {
      "image/png": "[encoded data removed]",
      "text/plain": [
       "<Figure size 432x288 with 1 Axes>"
      ]
     },
     "metadata": {
      "needs_background": "light"
     },
     "output_type": "display_data"
    }
   ],
   "source": [
    "sn = SN(w_init, b_init, \"AdaGrad\")\n",
    "sn.fit(X, Y, epoch=epochs, eta=eta, gamma=gamma)\n",
    "plt.plot(sn.e_h, 'r')\n",
    "plt.plot(sn.w_h, 'b')\n",
    "plt.plot(sn.b_h, 'g')\n",
    "# w_diff = [t - s for t, s in zip(sn.w_h, sn.w_h[1:])]\n",
    "# b_diff = [t - s for t, s in zip(sn.b_h, sn.b_h[1:])]\n",
    "# plt.plot(w_diff, 'b--')\n",
    "# plt.plot(b_diff, 'g--')\n",
    "plt.show()"
   ]
  },
  {
   "cell_type": "code",
   "execution_count": 30,
   "metadata": {},
   "outputs": [
    {
     "data": {
      "application/vnd.jupyter.widget-view+json": {
       "model_id": "b61b080ed8bc4ae1b5151df3197bb8e8",
       "version_major": 2,
       "version_minor": 0
      },
      "text/plain": [
       "HBox(children=(IntProgress(value=0, max=500), HTML(value='')))"
      ]
     },
     "metadata": {},
     "output_type": "display_data"
    },
    {
     "name": "stdout",
     "output_type": "stream",
     "text": [
      "\n"
     ]
    },
    {
     "data": {
      "image/png": "[encoded data removed]",
      "text/plain": [
       "<Figure size 432x288 with 1 Axes>"
      ]
     },
     "metadata": {
      "needs_background": "light"
     },
     "output_type": "display_data"
    },
    {
     "data": {
      "image/png": "[encoded data removed]",
      "text/plain": [
       "<Figure size 432x288 with 1 Axes>"
      ]
     },
     "metadata": {
      "needs_background": "light"
     },
     "output_type": "display_data"
    }
   ],
   "source": [
    "sn = SN(w_init, b_init, \"minibatch\")\n",
    "sn.fit(X, Y, epoch=epochs, eta=eta, gamma=gamma)\n",
    "plt.plot(sn.e_h, 'r')\n",
    "plt.plot(sn.w_h, 'b')\n",
    "plt.plot(sn.b_h, 'g')\n",
    "# w_diff = [t - s for t, s in zip(sn.w_h, sn.w_h[1:])]\n",
    "# b_diff = [t - s for t, s in zip(sn.b_h, sn.b_h[1:])]\n",
    "# plt.plot(w_diff, 'b--')\n",
    "# plt.plot(b_diff, 'g--')\n",
    "plt.show()"
   ]
  },
  {
   "cell_type": "code",
   "execution_count": 31,
   "metadata": {},
   "outputs": [
    {
     "data": {
      "application/vnd.jupyter.widget-view+json": {
       "model_id": "86bf3fb7e1874bfdb25045e223f659b8",
       "version_major": 2,
       "version_minor": 0
      },
      "text/plain": [
       "HBox(children=(IntProgress(value=0, max=500), HTML(value='')))"
      ]
     },
     "metadata": {},
     "output_type": "display_data"
    },
    {
     "name": "stdout",
     "output_type": "stream",
     "text": [
      "\n"
     ]
    },
    {
     "data": {
      "image/png": "[encoded data removed]",
      "text/plain": [
       "<Figure size 432x288 with 1 Axes>"
      ]
     },
     "metadata": {
      "needs_background": "light"
     },
     "output_type": "display_data"
    },
    {
     "data": {
      "image/png": "[encoded data removed]",
      "text/plain": [
       "<Figure size 432x288 with 1 Axes>"
      ]
     },
     "metadata": {
      "needs_background": "light"
     },
     "output_type": "display_data"
    }
   ],
   "source": [
    "sn = SN(w_init, b_init, \"RMSprop\")\n",
    "sn.fit(X, Y, epoch=epochs, eta=eta, gamma=gamma)\n",
    "plt.plot(sn.e_h, 'r')\n",
    "plt.plot(sn.w_h, 'b')\n",
    "plt.plot(sn.b_h, 'g')\n",
    "# w_diff = [t - s for t, s in zip(sn.w_h, sn.w_h[1:])]\n",
    "# b_diff = [t - s for t, s in zip(sn.b_h, sn.b_h[1:])]\n",
    "# plt.plot(w_diff, 'b--')\n",
    "# plt.plot(b_diff, 'g--')\n",
    "plt.show()"
   ]
  },
  {
   "cell_type": "code",
   "execution_count": 34,
   "metadata": {},
   "outputs": [
    {
     "data": {
      "application/vnd.jupyter.widget-view+json": {
       "model_id": "01176a885d8040a196c11e08fd452a06",
       "version_major": 2,
       "version_minor": 0
      },
      "text/plain": [
       "HBox(children=(IntProgress(value=0, max=500), HTML(value='')))"
      ]
     },
     "metadata": {},
     "output_type": "display_data"
    },
    {
     "name": "stdout",
     "output_type": "stream",
     "text": [
      "\n"
     ]
    },
    {
     "data": {
      "image/png": "[encoded data removed]",
      "text/plain": [
       "<Figure size 432x288 with 1 Axes>"
      ]
     },
     "metadata": {
      "needs_background": "light"
     },
     "output_type": "display_data"
    },
    {
     "data": {
      "image/png": "[encoded data removed]",
      "text/plain": [
       "<Figure size 432x288 with 1 Axes>"
      ]
     },
     "metadata": {
      "needs_background": "light"
     },
     "output_type": "display_data"
    }
   ],
   "source": [
    "sn = SN(w_init, b_init, \"Adam\")\n",
    "sn.fit(X, Y, epoch=epochs, eta=eta, gamma=gamma)\n",
    "plt.plot(sn.e_h, 'r')\n",
    "plt.plot(sn.w_h, 'b')\n",
    "plt.plot(sn.b_h, 'g')\n",
    "# w_diff = [t - s for t, s in zip(sn.w_h, sn.w_h[1:])]\n",
    "# b_diff = [t - s for t, s in zip(sn.b_h, sn.b_h[1:])]\n",
    "# plt.plot(w_diff, 'b--')\n",
    "# plt.plot(b_diff, 'g--')\n",
    "plt.show()"
   ]
  },
  {
   "cell_type": "code",
   "execution_count": null,
   "metadata": {},
   "outputs": [],
   "source": []
  },
  {
   "cell_type": "code",
   "execution_count": null,
   "metadata": {},
   "outputs": [],
   "source": []
  },
  {
   "cell_type": "code",
   "execution_count": null,
   "metadata": {},
   "outputs": [],
   "source": []
  },
  {
   "cell_type": "code",
   "execution_count": null,
   "metadata": {},
   "outputs": [],
   "source": []
  },
  {
   "cell_type": "code",
   "execution_count": null,
   "metadata": {},
   "outputs": [],
   "source": []
  },
  {
   "cell_type": "code",
   "execution_count": null,
   "metadata": {},
   "outputs": [],
   "source": []
  },
  {
   "cell_type": "code",
   "execution_count": null,
   "metadata": {},
   "outputs": [],
   "source": []
  }
 ],
 "metadata": {
  "kernelspec": {
   "display_name": "Python 3",
   "language": "python",
   "name": "python3"
  },
  "language_info": {
   "codemirror_mode": {
    "name": "ipython",
    "version": 3
   },
   "file_extension": ".py",
   "mimetype": "text/x-python",
   "name": "python",
   "nbconvert_exporter": "python",
   "pygments_lexer": "ipython3",
   "version": "3.7.1"
  }
 },
 "nbformat": 4,
 "nbformat_minor": 2
}
