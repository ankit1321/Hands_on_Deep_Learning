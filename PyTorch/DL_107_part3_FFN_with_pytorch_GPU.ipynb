{
 "cells": [
  {
   "cell_type": "code",
   "execution_count": 0,
   "metadata": {
    "colab": {},
    "colab_type": "code",
    "id": "hZ5LLo0wTG2w"
   },
   "outputs": [],
   "source": [
    "import torch\n",
    "import numpy as np\n",
    "import math\n",
    "import matplotlib.pyplot as plt\n",
    "import matplotlib\n",
    "import pandas as pd\n",
    "from sklearn.metrics import accuracy_score,mean_squared_error,log_loss\n",
    "from sklearn.preprocessing import OneHotEncoder\n",
    "from sklearn.datasets import make_blobs\n",
    "from sklearn.model_selection import train_test_split\n",
    "from IPython.display import HTML\n",
    "import seaborn as sns\n",
    "from tqdm import tqdm_notebook"
   ]
  },
  {
   "cell_type": "code",
   "execution_count": 0,
   "metadata": {
    "colab": {},
    "colab_type": "code",
    "id": "VhsADJWMTZtb"
   },
   "outputs": [],
   "source": [
    "import warnings\n",
    "warnings.filterwarnings(\"ignore\")"
   ]
  },
  {
   "cell_type": "code",
   "execution_count": 0,
   "metadata": {
    "colab": {},
    "colab_type": "code",
    "id": "kjZ4eabrUMz-"
   },
   "outputs": [],
   "source": [
    "data,labels = make_blobs(2000,12,16,random_state=0)"
   ]
  },
  {
   "cell_type": "code",
   "execution_count": 0,
   "metadata": {
    "colab": {},
    "colab_type": "code",
    "id": "-JdZ1JL9UlHU"
   },
   "outputs": [],
   "source": [
    "X_train,X_val,Y_train,Y_val = train_test_split(data,labels,stratify=labels,random_state=0)"
   ]
  },
  {
   "cell_type": "markdown",
   "metadata": {
    "colab_type": "text",
    "id": "rnzBnzLyU7pn"
   },
   "source": [
    "torch Prerequisites"
   ]
  },
  {
   "cell_type": "code",
   "execution_count": 0,
   "metadata": {
    "colab": {},
    "colab_type": "code",
    "id": "_3aUOFeKU1Od"
   },
   "outputs": [],
   "source": [
    "X_train,X_val,Y_train,Y_val = map(torch.tensor,(X_train,X_val,Y_train,Y_val))"
   ]
  },
  {
   "cell_type": "code",
   "execution_count": 0,
   "metadata": {
    "colab": {},
    "colab_type": "code",
    "id": "pD11R3vxVNk2"
   },
   "outputs": [],
   "source": [
    "X_train,X_val,Y_train,Y_val = X_train.float(),X_val.float(),Y_train.long(),Y_val.long()"
   ]
  },
  {
   "cell_type": "code",
   "execution_count": 0,
   "metadata": {
    "colab": {},
    "colab_type": "code",
    "id": "Os1D-vavVo_a"
   },
   "outputs": [],
   "source": [
    "import torch.nn as nn\n",
    "import torch.optim as optim\n",
    "import torch.nn.functional as F"
   ]
  },
  {
   "cell_type": "code",
   "execution_count": 0,
   "metadata": {
    "colab": {},
    "colab_type": "code",
    "id": "uGG3GNDDV3cq"
   },
   "outputs": [],
   "source": [
    "class first_torch_network_linear_sequential_complex_dataset_gpu(nn.Module):\n",
    "    \n",
    "    def __init__(self):\n",
    "        super().__init__()\n",
    "        torch.manual_seed(0)\n",
    "        self.seq = nn.Sequential(nn.Linear(12,32),nn.Tanh(),nn.Linear(32,64),nn.Sigmoid(),nn.Linear(64,128),nn.Sigmoid()\n",
    "                                 ,nn.Linear(128,16),nn.Softmax())\n",
    "        \n",
    "    def forward(self,X):\n",
    "        return self.seq(X)"
   ]
  },
  {
   "cell_type": "code",
   "execution_count": 29,
   "metadata": {
    "colab": {
     "base_uri": "https://localhost:8080/",
     "height": 84
    },
    "colab_type": "code",
    "executionInfo": {
     "elapsed": 1284,
     "status": "ok",
     "timestamp": 1591526802458,
     "user": {
      "displayName": "Ankit Prasad",
      "photoUrl": "https://lh3.googleusercontent.com/a-/AOh14GiAQwyQw2IRixLJTTF0tRW9i6wZYDmubnS0T3bjuA=s64",
      "userId": "02678407393542677005"
     },
     "user_tz": -330
    },
    "id": "MeMqOK0bWMdJ",
    "outputId": "e0e51ae6-330c-4702-b06a-d3b5aa5549db"
   },
   "outputs": [
    {
     "name": "stdout",
     "output_type": "stream",
     "text": [
      "1\n",
      "<torch.cuda.device object at 0x7efbba1476a0>\n",
      "Tesla P100-PCIE-16GB\n"
     ]
    },
    {
     "data": {
      "text/plain": [
       "device(type='cuda')"
      ]
     },
     "execution_count": 29,
     "metadata": {
      "tags": []
     },
     "output_type": "execute_result"
    }
   ],
   "source": [
    "print(torch.cuda.device_count())\n",
    "print(torch.cuda.device(0))\n",
    "print(torch.cuda.get_device_name(0))\n",
    "device = torch.device(\"cuda\")\n",
    "device"
   ]
  },
  {
   "cell_type": "code",
   "execution_count": 0,
   "metadata": {
    "colab": {},
    "colab_type": "code",
    "id": "OpVBsVjUW9is"
   },
   "outputs": [],
   "source": [
    "def accuracy(y_hat, y):\n",
    "  pred = torch.argmax(y_hat, dim=1)\n",
    "  return (pred == y).float().mean()"
   ]
  },
  {
   "cell_type": "code",
   "execution_count": 0,
   "metadata": {
    "colab": {},
    "colab_type": "code",
    "id": "6mFpSsedWmt5"
   },
   "outputs": [],
   "source": [
    "def fit_optim_complex(epoch=100000,lr = 0.01):\n",
    "    loss_arr = []\n",
    "    acc_arr = []\n",
    "    opt = optim.SGD(model.parameters(),lr = lr)\n",
    "\n",
    "    for i in tqdm_notebook(range(epoch),unit='epoch'):\n",
    "        y_hat = model(X_train)\n",
    "        loss = F.cross_entropy(y_hat,Y_train)\n",
    "        \n",
    "        loss_arr.append(loss.item())\n",
    "        acc_arr.append(accuracy(y_hat,Y_train))\n",
    "        \n",
    "        loss.backward()\n",
    "        opt.step()\n",
    "        opt.zero_grad()\n",
    "\n",
    "\n",
    "    print(\"loss before training\",loss_arr[0])\n",
    "    print(\"loss after training\",loss_arr[-1])\n",
    "    print(\"Accuracy\",acc_arr[-1].item())\n",
    "    plt.plot(loss_arr , 'red')\n",
    "    plt.plot(acc_arr , 'b')\n",
    "    plt.show()\n"
   ]
  },
  {
   "cell_type": "code",
   "execution_count": 41,
   "metadata": {
    "colab": {
     "base_uri": "https://localhost:8080/",
     "height": 33
    },
    "colab_type": "code",
    "executionInfo": {
     "elapsed": 1020,
     "status": "ok",
     "timestamp": 1591527452451,
     "user": {
      "displayName": "Ankit Prasad",
      "photoUrl": "https://lh3.googleusercontent.com/a-/AOh14GiAQwyQw2IRixLJTTF0tRW9i6wZYDmubnS0T3bjuA=s64",
      "userId": "02678407393542677005"
     },
     "user_tz": -330
    },
    "id": "Im1Q-KGMbUqk",
    "outputId": "705df373-8934-49f7-ced9-f0f0b0cb4050"
   },
   "outputs": [
    {
     "data": {
      "text/plain": [
       "True"
      ]
     },
     "execution_count": 41,
     "metadata": {
      "tags": []
     },
     "output_type": "execute_result"
    }
   ],
   "source": [
    "torch.cuda.is_available()"
   ]
  },
  {
   "cell_type": "code",
   "execution_count": 44,
   "metadata": {
    "colab": {
     "base_uri": "https://localhost:8080/",
     "height": 397,
     "referenced_widgets": [
      "0a3205bc3f60407283f3893ac2267bab",
      "ecdb68c28e374cbd95f46b0f41dc9071",
      "ae9ed3332e25440092050d5d3dbf3952",
      "100b969f6dc445308a5abb7f348f4e7d",
      "d82773587dc94420b38d6fd73f7d0d69",
      "5a5d997451c8443c9e510b248e85d1de",
      "f72d0f06213c4214a8893ba9d61fe0f3",
      "79e5de4bc1044ef3bb7d0c7b5d254561"
     ]
    },
    "colab_type": "code",
    "executionInfo": {
     "elapsed": 140958,
     "status": "ok",
     "timestamp": 1591527757860,
     "user": {
      "displayName": "Ankit Prasad",
      "photoUrl": "https://lh3.googleusercontent.com/a-/AOh14GiAQwyQw2IRixLJTTF0tRW9i6wZYDmubnS0T3bjuA=s64",
      "userId": "02678407393542677005"
     },
     "user_tz": -330
    },
    "id": "K7zbH1IjXMEr",
    "outputId": "0b774c1e-2cb3-4b05-f158-0164bd9129bd"
   },
   "outputs": [
    {
     "data": {
      "application/vnd.jupyter.widget-view+json": {
       "model_id": "0a3205bc3f60407283f3893ac2267bab",
       "version_major": 2,
       "version_minor": 0
      },
      "text/plain": [
       "HBox(children=(FloatProgress(value=0.0, max=100000.0), HTML(value='')))"
      ]
     },
     "metadata": {
      "tags": []
     },
     "output_type": "display_data"
    },
    {
     "name": "stdout",
     "output_type": "stream",
     "text": [
      "\n",
      "loss before training 2.7725331783294678\n",
      "loss after training 2.067448139190674\n",
      "Accuracy 0.812666654586792\n"
     ]
    },
    {
     "data": {
      "image/png": "[encoded data removed]",
      "text/plain": [
       "<Figure size 432x288 with 1 Axes>"
      ]
     },
     "metadata": {
      "needs_background": "light",
      "tags": []
     },
     "output_type": "display_data"
    },
    {
     "name": "stdout",
     "output_type": "stream",
     "text": [
      "CPU times: user 2min 8s, sys: 5.56 s, total: 2min 13s\n",
      "Wall time: 2min 19s\n"
     ]
    }
   ],
   "source": [
    "%%time\n",
    "X_train =X_train.to(device)\n",
    "Y_train=Y_train.to(device)\n",
    "model = first_torch_network_linear_sequential_complex_dataset_gpu()\n",
    "model.to(device)\n",
    "fit_optim_complex()"
   ]
  },
  {
   "cell_type": "code",
   "execution_count": 0,
   "metadata": {
    "colab": {},
    "colab_type": "code",
    "id": "yZKx6iWxXxgG"
   },
   "outputs": [],
   "source": []
  }
 ],
 "metadata": {
  "accelerator": "GPU",
  "colab": {
   "authorship_tag": "ABX9TyNZt6Sr0Dih1vWgRlo1QSxg",
   "name": "DL_107_part3_FFN_with_pytorch_GPU.ipynb",
   "provenance": []
  },
  "kernelspec": {
   "display_name": "Python 3",
   "language": "python",
   "name": "python3"
  },
  "language_info": {
   "codemirror_mode": {
    "name": "ipython",
    "version": 3
   },
   "file_extension": ".py",
   "mimetype": "text/x-python",
   "name": "python",
   "nbconvert_exporter": "python",
   "pygments_lexer": "ipython3",
   "version": "3.7.1"
  },
  "widgets": {
   "application/vnd.jupyter.widget-state+json": {
    "0a3205bc3f60407283f3893ac2267bab": {
     "model_module": "@jupyter-widgets/controls",
     "model_name": "HBoxModel",
     "state": {
      "_dom_classes": [],
      "_model_module": "@jupyter-widgets/controls",
      "_model_module_version": "1.5.0",
      "_model_name": "HBoxModel",
      "_view_count": null,
      "_view_module": "@jupyter-widgets/controls",
      "_view_module_version": "1.5.0",
      "_view_name": "HBoxView",
      "box_style": "",
      "children": [
       "IPY_MODEL_ae9ed3332e25440092050d5d3dbf3952",
       "IPY_MODEL_100b969f6dc445308a5abb7f348f4e7d"
      ],
      "layout": "IPY_MODEL_ecdb68c28e374cbd95f46b0f41dc9071"
     }
    },
    "100b969f6dc445308a5abb7f348f4e7d": {
     "model_module": "@jupyter-widgets/controls",
     "model_name": "HTMLModel",
     "state": {
      "_dom_classes": [],
      "_model_module": "@jupyter-widgets/controls",
      "_model_module_version": "1.5.0",
      "_model_name": "HTMLModel",
      "_view_count": null,
      "_view_module": "@jupyter-widgets/controls",
      "_view_module_version": "1.5.0",
      "_view_name": "HTMLView",
      "description": "",
      "description_tooltip": null,
      "layout": "IPY_MODEL_79e5de4bc1044ef3bb7d0c7b5d254561",
      "placeholder": "​",
      "style": "IPY_MODEL_f72d0f06213c4214a8893ba9d61fe0f3",
      "value": " 100000/100000 [02:18&lt;00:00, 722.00epoch/s]"
     }
    },
    "5a5d997451c8443c9e510b248e85d1de": {
     "model_module": "@jupyter-widgets/base",
     "model_name": "LayoutModel",
     "state": {
      "_model_module": "@jupyter-widgets/base",
      "_model_module_version": "1.2.0",
      "_model_name": "LayoutModel",
      "_view_count": null,
      "_view_module": "@jupyter-widgets/base",
      "_view_module_version": "1.2.0",
      "_view_name": "LayoutView",
      "align_content": null,
      "align_items": null,
      "align_self": null,
      "border": null,
      "bottom": null,
      "display": null,
      "flex": null,
      "flex_flow": null,
      "grid_area": null,
      "grid_auto_columns": null,
      "grid_auto_flow": null,
      "grid_auto_rows": null,
      "grid_column": null,
      "grid_gap": null,
      "grid_row": null,
      "grid_template_areas": null,
      "grid_template_columns": null,
      "grid_template_rows": null,
      "height": null,
      "justify_content": null,
      "justify_items": null,
      "left": null,
      "margin": null,
      "max_height": null,
      "max_width": null,
      "min_height": null,
      "min_width": null,
      "object_fit": null,
      "object_position": null,
      "order": null,
      "overflow": null,
      "overflow_x": null,
      "overflow_y": null,
      "padding": null,
      "right": null,
      "top": null,
      "visibility": null,
      "width": null
     }
    },
    "79e5de4bc1044ef3bb7d0c7b5d254561": {
     "model_module": "@jupyter-widgets/base",
     "model_name": "LayoutModel",
     "state": {
      "_model_module": "@jupyter-widgets/base",
      "_model_module_version": "1.2.0",
      "_model_name": "LayoutModel",
      "_view_count": null,
      "_view_module": "@jupyter-widgets/base",
      "_view_module_version": "1.2.0",
      "_view_name": "LayoutView",
      "align_content": null,
      "align_items": null,
      "align_self": null,
      "border": null,
      "bottom": null,
      "display": null,
      "flex": null,
      "flex_flow": null,
      "grid_area": null,
      "grid_auto_columns": null,
      "grid_auto_flow": null,
      "grid_auto_rows": null,
      "grid_column": null,
      "grid_gap": null,
      "grid_row": null,
      "grid_template_areas": null,
      "grid_template_columns": null,
      "grid_template_rows": null,
      "height": null,
      "justify_content": null,
      "justify_items": null,
      "left": null,
      "margin": null,
      "max_height": null,
      "max_width": null,
      "min_height": null,
      "min_width": null,
      "object_fit": null,
      "object_position": null,
      "order": null,
      "overflow": null,
      "overflow_x": null,
      "overflow_y": null,
      "padding": null,
      "right": null,
      "top": null,
      "visibility": null,
      "width": null
     }
    },
    "ae9ed3332e25440092050d5d3dbf3952": {
     "model_module": "@jupyter-widgets/controls",
     "model_name": "FloatProgressModel",
     "state": {
      "_dom_classes": [],
      "_model_module": "@jupyter-widgets/controls",
      "_model_module_version": "1.5.0",
      "_model_name": "FloatProgressModel",
      "_view_count": null,
      "_view_module": "@jupyter-widgets/controls",
      "_view_module_version": "1.5.0",
      "_view_name": "ProgressView",
      "bar_style": "success",
      "description": "100%",
      "description_tooltip": null,
      "layout": "IPY_MODEL_5a5d997451c8443c9e510b248e85d1de",
      "max": 100000,
      "min": 0,
      "orientation": "horizontal",
      "style": "IPY_MODEL_d82773587dc94420b38d6fd73f7d0d69",
      "value": 100000
     }
    },
    "d82773587dc94420b38d6fd73f7d0d69": {
     "model_module": "@jupyter-widgets/controls",
     "model_name": "ProgressStyleModel",
     "state": {
      "_model_module": "@jupyter-widgets/controls",
      "_model_module_version": "1.5.0",
      "_model_name": "ProgressStyleModel",
      "_view_count": null,
      "_view_module": "@jupyter-widgets/base",
      "_view_module_version": "1.2.0",
      "_view_name": "StyleView",
      "bar_color": null,
      "description_width": "initial"
     }
    },
    "ecdb68c28e374cbd95f46b0f41dc9071": {
     "model_module": "@jupyter-widgets/base",
     "model_name": "LayoutModel",
     "state": {
      "_model_module": "@jupyter-widgets/base",
      "_model_module_version": "1.2.0",
      "_model_name": "LayoutModel",
      "_view_count": null,
      "_view_module": "@jupyter-widgets/base",
      "_view_module_version": "1.2.0",
      "_view_name": "LayoutView",
      "align_content": null,
      "align_items": null,
      "align_self": null,
      "border": null,
      "bottom": null,
      "display": null,
      "flex": null,
      "flex_flow": null,
      "grid_area": null,
      "grid_auto_columns": null,
      "grid_auto_flow": null,
      "grid_auto_rows": null,
      "grid_column": null,
      "grid_gap": null,
      "grid_row": null,
      "grid_template_areas": null,
      "grid_template_columns": null,
      "grid_template_rows": null,
      "height": null,
      "justify_content": null,
      "justify_items": null,
      "left": null,
      "margin": null,
      "max_height": null,
      "max_width": null,
      "min_height": null,
      "min_width": null,
      "object_fit": null,
      "object_position": null,
      "order": null,
      "overflow": null,
      "overflow_x": null,
      "overflow_y": null,
      "padding": null,
      "right": null,
      "top": null,
      "visibility": null,
      "width": null
     }
    },
    "f72d0f06213c4214a8893ba9d61fe0f3": {
     "model_module": "@jupyter-widgets/controls",
     "model_name": "DescriptionStyleModel",
     "state": {
      "_model_module": "@jupyter-widgets/controls",
      "_model_module_version": "1.5.0",
      "_model_name": "DescriptionStyleModel",
      "_view_count": null,
      "_view_module": "@jupyter-widgets/base",
      "_view_module_version": "1.2.0",
      "_view_name": "StyleView",
      "description_width": ""
     }
    }
   }
  }
 },
 "nbformat": 4,
 "nbformat_minor": 1
}
